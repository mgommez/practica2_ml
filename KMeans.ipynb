{
 "cells": [
  {
   "cell_type": "markdown",
   "metadata": {},
   "source": [
    "# Implementación K-means\n",
    "K-means\n",
    "    Elegir instacias del dataset como centroides iniciales\n",
    "    Distirbuir puntos del dataset a los centroides\n",
    "    Calcular la media de las distancias respecto de los puntos\n",
    "    Se recalculaba el centroide \n",
    "    Repetir hasta que no haya cambios\n",
    "    \n",
    "Estaría bien usar la misma interfaz que sckikit learn\n",
    "Kmeans = Kmeans(K=5)\n",
    "Kmeans.fit(X)\n",
    "Kmeans.predict(X)\n",
    "\n",
    "Tenemos un conjunto de datos, eliges el numero de clusters (n_clusters), asignas los centroides a unos datos aleatoriamente (init -> puntos aleatorios del dataset), y después asignas los datos a los clusters (asignar_clusters). Después hay que computar los nuevos centroides en un bucle y volver a asignar los clusters hasta que se cumpla la condición de parada."
   ]
  },
  {
   "cell_type": "code",
   "execution_count": 24,
   "metadata": {
    "ExecuteTime": {
     "end_time": "2024-05-05T07:25:58.312805300Z",
     "start_time": "2024-05-05T07:25:58.277525600Z"
    }
   },
   "outputs": [],
   "source": [
    "# con la librería de SciKit Learn:\n",
    "import sklearn\n",
    "from sklearn.cluster import KMeans\n",
    "\n",
    "kmeans = KMeans()\n",
    "#kmeans.fit(X)\n",
    "#kmeans.predict(X)"
   ]
  },
  {
   "cell_type": "code",
   "execution_count": 25,
   "metadata": {
    "ExecuteTime": {
     "end_time": "2024-05-05T07:26:03.228666600Z",
     "start_time": "2024-05-05T07:25:59.423449100Z"
    }
   },
   "outputs": [],
   "source": [
    "import numpy as np\n",
    "import math\n",
    "from math import dist\n",
    "import statistics as s\n",
    "import matplotlib\n",
    "import matplotlib.pyplot as plt\n",
    "from sklearn.datasets import make_blobs\n",
    "import random"
   ]
  },
  {
   "cell_type": "code",
   "execution_count": 26,
   "metadata": {
    "ExecuteTime": {
     "end_time": "2024-05-05T07:26:04.555392800Z",
     "start_time": "2024-05-05T07:26:04.489132500Z"
    }
   },
   "outputs": [
    {
     "name": "stdout",
     "output_type": "stream",
     "text": [
      "2\n",
      "EQUIS: \n",
      " [[ 6.45793408  2.24699967]\n",
      " [ 5.7619233   4.64908308]\n",
      " [ 4.63577796  4.60262953]\n",
      " [-4.90462379 -0.42839617]\n",
      " [ 7.08796381  5.3305788 ]\n",
      " [-3.6873608  -0.51129302]\n",
      " [ 6.04930422  2.12854567]\n",
      " [-5.16863523 -1.34837923]\n",
      " [-4.91455587 -2.67511534]\n",
      " [-3.58370455  1.46530374]\n",
      " [ 6.02365127  3.41668049]\n",
      " [ 7.21238821  5.32093961]\n",
      " [ 5.00351361  4.89724015]\n",
      " [ 5.19734885  2.45237081]\n",
      " [-2.92496709  0.36468505]\n",
      " [ 3.18716994  4.89805029]\n",
      " [ 5.55645701  5.70312009]\n",
      " [-2.91236085  0.891284  ]\n",
      " [-3.15390996 -1.04364142]\n",
      " [ 6.29591353  4.8479599 ]\n",
      " [ 4.52358905  3.04884592]\n",
      " [-3.59280407  1.84574786]\n",
      " [ 6.52249475  7.43146732]\n",
      " [-0.48054919  0.4750127 ]\n",
      " [ 7.81630299  5.74853032]\n",
      " [ 3.32799875  5.55566132]\n",
      " [ 5.66056578  5.43278076]\n",
      " [ 5.7564831   6.67052612]\n",
      " [ 6.42215098  0.58700622]\n",
      " [ 5.35834052  3.6964319 ]\n",
      " [ 6.39465825  2.26006174]\n",
      " [ 5.68717264  2.49352346]\n",
      " [ 4.27559845  5.37461244]\n",
      " [ 6.39187202  2.8342156 ]\n",
      " [ 3.67878602  3.18018054]\n",
      " [ 3.09105923  5.52338799]\n",
      " [ 6.84798902  1.44619178]\n",
      " [-3.56405587  1.25353668]\n",
      " [ 4.85242239  5.05032687]\n",
      " [ 7.52272781  4.77490789]\n",
      " [-4.09687587 -1.30812955]\n",
      " [ 4.6354367   7.25021154]\n",
      " [ 6.25355705  1.64808462]\n",
      " [ 7.59632045  4.32319847]\n",
      " [ 7.69181277  2.74742017]\n",
      " [ 7.16881109  1.7459069 ]\n",
      " [ 6.66589586  0.27568162]\n",
      " [ 4.72226109  6.57180837]\n",
      " [ 6.8896652   4.31902515]\n",
      " [-4.9780916   0.66937728]\n",
      " [-4.22915574 -1.36964126]\n",
      " [ 5.98864228  3.01811737]\n",
      " [-5.48229191 -1.10840517]\n",
      " [-2.64540295 -0.9020425 ]\n",
      " [-5.48876056 -0.91053283]\n",
      " [-4.11756735 -0.45373042]\n",
      " [ 6.47856384  6.76829563]\n",
      " [-3.48719641 -1.64468048]\n",
      " [ 6.36516142  6.2300706 ]\n",
      " [ 6.55784128  1.25568001]\n",
      " [-4.33437362  1.3382362 ]\n",
      " [ 5.81147474  4.64349752]\n",
      " [-3.18663706  0.14492023]\n",
      " [-2.46629726 -0.40252314]\n",
      " [ 4.62210704  4.49958536]\n",
      " [ 5.91910291  1.75147996]\n",
      " [ 7.55167863  2.31276138]\n",
      " [ 4.76934504  4.20319125]\n",
      " [ 5.21403001  3.75754878]\n",
      " [ 5.86453386  2.66681293]\n",
      " [ 4.62137393  5.3084729 ]\n",
      " [ 5.57678437  7.34741145]\n",
      " [ 4.73738301  4.90587487]\n",
      " [ 6.53813933  4.03323728]\n",
      " [-1.54160795  0.43398484]\n",
      " [-4.18981675  1.15082719]\n",
      " [ 6.21741252  0.79012074]\n",
      " [ 4.91621675  0.86222494]\n",
      " [-3.05205965 -0.98738667]\n",
      " [ 6.39469085  2.62399361]\n",
      " [-3.28070194  1.26249345]\n",
      " [-3.6078561  -1.16936499]\n",
      " [-5.08424843 -1.09995272]\n",
      " [ 7.33915748 -0.37500904]\n",
      " [ 6.22127249  4.68824895]\n",
      " [ 4.80249562  2.58073386]\n",
      " [-3.73565127  0.30086363]\n",
      " [ 7.67457498  2.25901215]\n",
      " [-1.8374072  -0.43015438]\n",
      " [ 4.80635755  1.36533436]\n",
      " [-4.79938454 -1.61878479]\n",
      " [ 5.80373048  3.80328294]\n",
      " [ 5.65399765  4.91456401]\n",
      " [ 5.87098208  6.42331104]\n",
      " [ 6.96861401  5.08377012]\n",
      " [-3.57482297  0.23901939]\n",
      " [ 7.03196618  2.92190339]\n",
      " [-5.44145742 -1.63301796]\n",
      " [ 5.06088248  1.48869934]\n",
      " [ 6.2198618   0.64698207]]\n",
      "Y: \n",
      " [1 0 0 2 0 2 1 2 2 2 1 0 0 1 2 0 0 2 2 0 1 2 0 2 0 0 0 0 1 1 1 1 0 1 1 0 1\n",
      " 2 0 0 2 0 1 0 1 1 1 0 0 2 2 1 2 2 2 2 0 2 0 1 2 0 2 2 0 1 1 0 0 1 0 0 0 0\n",
      " 2 2 1 1 2 1 2 2 2 1 0 1 2 1 2 1 2 1 1 0 0 2 1 2 1 1]\n"
     ]
    }
   ],
   "source": [
    "x, y = make_blobs()\n",
    "print(x.shape[1])\n",
    "print(\"EQUIS: \\n\", x)\n",
    "print(\"Y: \\n\", y)"
   ]
  },
  {
   "cell_type": "code",
   "execution_count": 27,
   "metadata": {
    "ExecuteTime": {
     "end_time": "2024-05-05T07:26:06.042254400Z",
     "start_time": "2024-05-05T07:26:05.966162900Z"
    }
   },
   "outputs": [
    {
     "data": {
      "text/plain": "100"
     },
     "execution_count": 27,
     "metadata": {},
     "output_type": "execute_result"
    }
   ],
   "source": [
    "len(x)"
   ]
  },
  {
   "cell_type": "code",
   "execution_count": 28,
   "metadata": {
    "ExecuteTime": {
     "end_time": "2024-05-05T07:26:07.273937400Z",
     "start_time": "2024-05-05T07:26:07.198808400Z"
    }
   },
   "outputs": [],
   "source": [
    "class KMeans_Ours():\n",
    "    def __init__(self, n_clusters=8, max_iter=100, random_state=55):\n",
    "        self.n_clusters = n_clusters\n",
    "        self.max_iter = max_iter\n",
    "        self.iter = 0\n",
    "        self.random_state = random_state\n",
    "        \n",
    "        self.X= []\n",
    "        \n",
    "        self._centroids= []\n",
    "        self._inertia=[]\n",
    "        self._labels=[]\n",
    "        self.history = {'iteration': [],\n",
    "                        'centroids':  [],  \n",
    "                        'labels' : [],\n",
    "                        'inertia':  []\n",
    "                        }\n",
    "    \n",
    "    def fit(self, X):\n",
    "        \"\"\"Este método entrena el modelo con el dataset proporcionado, aplicando el algoritmo de asignación de centroides\"\"\"\n",
    "        self.X = X\n",
    "        self._assign_centroids()\n",
    "        self._assign_labels()\n",
    "        # print(\"centroides iniciales: \", self._centroids)\n",
    "        while not self._stop(): # si se llega a max iter o si centroides no cambian (con último valor de self.history), una u otra\n",
    "            self._add_history_step() \n",
    "            # con esto podemos hacer un gráfico (no se pide pero quedaría rechulón)\n",
    "            \n",
    "            self._update_centroides()\n",
    "            # print(\"history: \", self.history['centroids'][self.iter])\n",
    "            self._assign_labels()\n",
    "            \n",
    "            self.iter += 1\n",
    "            \n",
    "    def return_centroids(self):\n",
    "        return self._centroids\n",
    "    \n",
    "    def return_labels(self):\n",
    "        return self._labels\n",
    "    \n",
    "    def predict(self, X):\n",
    "        # contemplar posibilidad de triangulación\n",
    "        predictions = []\n",
    "        for row in X:\n",
    "            min_distance = math.inf\n",
    "            nearest_centroid = None\n",
    "            for centroid_label in range(self.n_clusters):\n",
    "                distance = dist(row, self._centroids[centroid_label])\n",
    "                # print(\"distancia entre\", row, \"y\", self._centroids[centroid_label], \"es: \", distance, \"con label\", centroid_label)\n",
    "                # print(\"distancia: \", distance, \"\\nmin_distancia: \", min_distance)\n",
    "                if distance < min_distance:\n",
    "                    # print(\"dentro if\")\n",
    "                    min_distance = distance\n",
    "                    nearest_centroid = centroid_label\n",
    "            predictions.append(nearest_centroid)\n",
    "        return predictions\n",
    "    \n",
    "    def _assign_centroids(self):\n",
    "        # utilizar el módulo random de numpy para asignar los centroides: check\n",
    "        # sólo para la primera iteración (asignación de centroides iniciales): check\n",
    "        # un centroide a la misma posición dato aleatoriamente \n",
    "        # con replace = false nos aseguramos de que no se repita el mismo valor para dos centroides diferentes,\n",
    "        # de forma que todos los centroides tomen coordenadas distintas\n",
    "        c_index = np.random.choice(list(range(0, len(self.X))), size = self.n_clusters, replace = False)\n",
    "        # print(c_index)\n",
    "        for i in c_index:\n",
    "            self._centroids.append(self.X[i])\n",
    "            # print(\"centroide \",i, \": \", self.X[i])\n",
    "        # print(self._centroids)\n",
    "        # asignar valores de los datos a los que equivalen esas posiciones en la tabla a los \"centroides\"        \n",
    "    \n",
    "    def _assign_labels(self):\n",
    "        # función para asignar los datos a un centroides\n",
    "        # linalg.norm -> normaliza los vectores, no calcula distancias como tal; no es lo que buscamos\n",
    "        self._inertia = []\n",
    "        self._labels = []\n",
    "        \n",
    "        # generación de la matriz\n",
    "        for i in range(len(self.X)):\n",
    "            self._inertia.append(self._compute_inertia(self.X[i]))\n",
    "            \n",
    "            # encasillamiento con labels de cada dato a su respectivo centroide \n",
    "            self._labels.append(np.argmin(self._inertia[i], axis = 0))\n",
    "        \n",
    "        \n",
    "    def _stop(self):\n",
    "        \"\"\" condición de parada del bucle de actualización de labels y centroides de función fit()\n",
    "        si devuelve False, no se cumple la condición de parada. \n",
    "        si devuelve True sí se cumple la condición de parada: se para la ejecución\"\"\"\n",
    "        # print(\"stop\")\n",
    "        \n",
    "        # condición de parada por iteraciones, asegurando que la primera ejecución siempre ocurre \n",
    "        # (en history no hay nada, para que no compare y de error)\n",
    "        if self.iter == self.max_iter: \n",
    "            return True\n",
    "        if self.iter == 0:\n",
    "            return False\n",
    "        \n",
    "        prev_centroids= self.history['centroids'][-1]\n",
    "        cambia = [False] * self.n_clusters\n",
    "        # print(self.history)\n",
    "        # print(\"centroides previos: \", prev_centroids)\n",
    "        # print(\"centroides actualizados: \", self._centroids)\n",
    "        for i in range (self.n_clusters):\n",
    "            #Si este centroide no cambia respecto del mismo en la anterior iteración, devolver True para este centroide\n",
    "            if np.array_equal(self._centroids[i], prev_centroids[i]):\n",
    "                # print(\"no ha cambiado el centroide \", i)\n",
    "                cambia[i] = True\n",
    "        #Si no hay diferencias, los centroides no han cambiado en la última iteración y se cumple la condición de parada.    \n",
    "        # Es decir, si todos son iguales\n",
    "        if False in cambia:\n",
    "            return False\n",
    "        return True\n",
    "    \n",
    "    def _update_centroides(self):\n",
    "        # siguientes iteraciones para reposicionar los centroides\n",
    "    \n",
    "        for i in range(self.n_clusters):\n",
    "            control= []\n",
    "            for j in range(len(self.X)):\n",
    "                if self._labels[j]==i:\n",
    "                        control.append(self.X[j])\n",
    "            #print(\"control list:\", control)\n",
    "            #print(np.mean(control))\n",
    "            self._centroids[i]= np.mean(control, axis = 0)\n",
    "        # print(\"centroides actualizados\", self._centroids)\n",
    "    \n",
    "    def _compute_inertia(self, x):\n",
    "        \"\"\" distancia entre el dato o row 'x' y cada centroide' \"\"\"\n",
    "        distance_row=[]\n",
    "        \n",
    "        for centroid in self._centroids: \n",
    "            #print(x, centroid)\n",
    "            distance_row.append(dist(x,centroid))\n",
    "       \n",
    "        return distance_row\n",
    "        \n",
    "    def _add_history_step(self):\n",
    "        \"\"\" actualización de historial de centroides para nueva iteración \"\"\"\n",
    "        # self.history es un array de diccionarios, cada uno con toda esta información\n",
    "        self.history['iteration'].append(self.iter)\n",
    "        self.history['centroids'].append(self._centroids.copy())\n",
    "        self.history['labels'].append(self._labels.copy())\n",
    "        self.history['inertia'].append(self._inertia.copy())\n",
    "        \n",
    "        # print(\"history: \", self.history['centroids'][self.iter])\n",
    "        # print(\"centroides: \", self._centroids)\n",
    "        \n",
    "    def scatterplot_centroids(self):\n",
    "        \"\"\"creates a scatterplot with the final centroids\n",
    "        only valid for self.X with 2 dimensions\"\"\"\n",
    "        for i in range(self.n_clusters):\n",
    "             plt.scatter(self._centroids[i][0], self._centroids[i][1])\n",
    "    \n",
    "    \"\"\"\n",
    "    def scatterplot_all(self):\n",
    "        # actualmente este código funciona pero da muchísimos errores: revisar si se quiere incluir o se hará a mano\n",
    "        # creación de n colores aleatorios por n_clusters\n",
    "        \n",
    "        colors = []\n",
    "        for i in range(self.n_clusters):\n",
    "            r = random.randint(0, 255) / 255.0\n",
    "            g = random.randint(0, 255) / 255.0\n",
    "            b = random.randint(0, 255) / 255.0\n",
    "            colors.append((r, g, b))\n",
    "\n",
    "        # Crear una lista de colores para cada punto en los datos\n",
    "            for j in range(len(self.X)):\n",
    "                if self._labels[j] == i:\n",
    "                    plt.scatter(self.X[j][0], self.X[j][1], c=colors[i])\n",
    "    \"\"\"\n"
   ]
  },
  {
   "cell_type": "code",
   "execution_count": 29,
   "metadata": {
    "ExecuteTime": {
     "end_time": "2024-05-05T07:26:08.250041700Z",
     "start_time": "2024-05-05T07:26:08.123167Z"
    }
   },
   "outputs": [
    {
     "data": {
      "text/plain": "[array([6.12666494, 1.95601874]),\n array([-3.74379369, -0.27908727]),\n array([5.6222093 , 5.25899569])]"
     },
     "execution_count": 29,
     "metadata": {},
     "output_type": "execute_result"
    }
   ],
   "source": [
    "kmeans = KMeans_Ours(n_clusters=3)\n",
    "result = kmeans.fit(x)\n",
    "kmeans.return_centroids()"
   ]
  },
  {
   "cell_type": "code",
   "execution_count": 30,
   "metadata": {
    "ExecuteTime": {
     "end_time": "2024-05-05T07:26:09.971287800Z",
     "start_time": "2024-05-05T07:26:09.886687800Z"
    }
   },
   "outputs": [
    {
     "name": "stdout",
     "output_type": "stream",
     "text": [
      "centroides finales:  [array([6.12666494, 1.95601874]), array([-3.74379369, -0.27908727]), array([5.6222093 , 5.25899569])]\n",
      "número de iteraciones totales:  3\n"
     ]
    }
   ],
   "source": [
    "print(\"centroides finales: \", kmeans.return_centroids())\n",
    "print(\"número de iteraciones totales: \", kmeans.iter)"
   ]
  },
  {
   "cell_type": "code",
   "execution_count": 31,
   "metadata": {
    "ExecuteTime": {
     "end_time": "2024-05-05T07:26:12.552613800Z",
     "start_time": "2024-05-05T07:26:11.251551800Z"
    }
   },
   "outputs": [
    {
     "data": {
      "text/plain": "<Figure size 640x480 with 1 Axes>",
      "image/png": "[encoded data removed]"
     },
     "metadata": {},
     "output_type": "display_data"
    }
   ],
   "source": [
    "\"\"\"for i in range(3):\n",
    "     plt.scatter(cent[i][0], cent[i][1])\"\"\"\n",
    "kmeans.scatterplot_centroids()"
   ]
  },
  {
   "cell_type": "code",
   "execution_count": 32,
   "metadata": {
    "ExecuteTime": {
     "end_time": "2024-05-05T07:26:18.859056800Z",
     "start_time": "2024-05-05T07:26:12.460537100Z"
    }
   },
   "outputs": [
    {
     "data": {
      "text/plain": "<Figure size 640x480 with 1 Axes>",
      "image/png": "[encoded data removed]"
     },
     "metadata": {},
     "output_type": "display_data"
    }
   ],
   "source": [
    "# kmeans.scatterplot_all()\n",
    "colors = [\"#4EACC5\", \"#FF9C34\", \"#4E9A06\"]\n",
    "for i in range(kmeans.n_clusters):\n",
    "    for j in range(len(x)):\n",
    "        if kmeans._labels[j] == i:\n",
    "            plt.scatter(x[j][0], x[j][1], c=colors[i])"
   ]
  },
  {
   "cell_type": "code",
   "execution_count": 33,
   "metadata": {
    "ExecuteTime": {
     "end_time": "2024-05-05T07:26:19.217502300Z",
     "start_time": "2024-05-05T07:26:18.793765200Z"
    }
   },
   "outputs": [
    {
     "data": {
      "text/plain": "<matplotlib.collections.PathCollection at 0x210a545bd30>"
     },
     "execution_count": 33,
     "metadata": {},
     "output_type": "execute_result"
    },
    {
     "data": {
      "text/plain": "<Figure size 640x480 with 1 Axes>",
      "image/png": "[encoded data removed]"
     },
     "metadata": {},
     "output_type": "display_data"
    }
   ],
   "source": [
    "plt.scatter(x[:, 0], x[:, 1])"
   ]
  },
  {
   "cell_type": "code",
   "execution_count": 34,
   "metadata": {
    "ExecuteTime": {
     "end_time": "2024-05-05T07:26:19.263175300Z",
     "start_time": "2024-05-05T07:26:19.179114900Z"
    }
   },
   "outputs": [
    {
     "data": {
      "text/plain": "0.0"
     },
     "execution_count": 34,
     "metadata": {},
     "output_type": "execute_result"
    }
   ],
   "source": [
    "dist(kmeans.predict(x), kmeans.return_labels())\n",
    "#print(len(kmeans.return_labels()), len(kmeans.predict(x)))"
   ]
  },
  {
   "cell_type": "markdown",
   "metadata": {},
   "source": [
    "# con estrellas\n"
   ]
  },
  {
   "cell_type": "code",
   "execution_count": 82,
   "metadata": {
    "ExecuteTime": {
     "end_time": "2024-05-05T08:23:04.264749100Z",
     "start_time": "2024-05-05T08:23:04.149923100Z"
    }
   },
   "outputs": [],
   "source": [
    "import pandas as pd\n",
    "stars = pd.read_csv('Stars2.csv')"
   ]
  },
  {
   "cell_type": "code",
   "execution_count": 83,
   "metadata": {
    "ExecuteTime": {
     "end_time": "2024-05-05T08:23:05.184992100Z",
     "start_time": "2024-05-05T08:23:05.003101900Z"
    }
   },
   "outputs": [
    {
     "name": "stdout",
     "output_type": "stream",
     "text": [
      "(240, 6)\n"
     ]
    },
    {
     "data": {
      "text/plain": "240"
     },
     "execution_count": 83,
     "metadata": {},
     "output_type": "execute_result"
    }
   ],
   "source": [
    "print(stars.shape)\n",
    "len(stars)"
   ]
  },
  {
   "cell_type": "code",
   "execution_count": 84,
   "metadata": {
    "ExecuteTime": {
     "end_time": "2024-05-05T08:23:06.100926700Z",
     "start_time": "2024-05-05T08:23:05.952949500Z"
    }
   },
   "outputs": [
    {
     "data": {
      "text/plain": "   Temperature         L       R    A_M Color Spectral_Class\n0         3068  0.002400  0.1700  16.12   Red              M\n1         3042  0.000500  0.1542  16.60   Red              M\n2         2600  0.000300  0.1020  18.70   Red              M\n3         2800  0.000200  0.1600  16.65   Red              M\n4         1939  0.000138  0.1030  20.06   Red              M",
      "text/html": "<div>\n<style scoped>\n    .dataframe tbody tr th:only-of-type {\n        vertical-align: middle;\n    }\n\n    .dataframe tbody tr th {\n        vertical-align: top;\n    }\n\n    .dataframe thead th {\n        text-align: right;\n    }\n</style>\n<table border=\"1\" class=\"dataframe\">\n  <thead>\n    <tr style=\"text-align: right;\">\n      <th></th>\n      <th>Temperature</th>\n      <th>L</th>\n      <th>R</th>\n      <th>A_M</th>\n      <th>Color</th>\n      <th>Spectral_Class</th>\n    </tr>\n  </thead>\n  <tbody>\n    <tr>\n      <th>0</th>\n      <td>3068</td>\n      <td>0.002400</td>\n      <td>0.1700</td>\n      <td>16.12</td>\n      <td>Red</td>\n      <td>M</td>\n    </tr>\n    <tr>\n      <th>1</th>\n      <td>3042</td>\n      <td>0.000500</td>\n      <td>0.1542</td>\n      <td>16.60</td>\n      <td>Red</td>\n      <td>M</td>\n    </tr>\n    <tr>\n      <th>2</th>\n      <td>2600</td>\n      <td>0.000300</td>\n      <td>0.1020</td>\n      <td>18.70</td>\n      <td>Red</td>\n      <td>M</td>\n    </tr>\n    <tr>\n      <th>3</th>\n      <td>2800</td>\n      <td>0.000200</td>\n      <td>0.1600</td>\n      <td>16.65</td>\n      <td>Red</td>\n      <td>M</td>\n    </tr>\n    <tr>\n      <th>4</th>\n      <td>1939</td>\n      <td>0.000138</td>\n      <td>0.1030</td>\n      <td>20.06</td>\n      <td>Red</td>\n      <td>M</td>\n    </tr>\n  </tbody>\n</table>\n</div>"
     },
     "execution_count": 84,
     "metadata": {},
     "output_type": "execute_result"
    }
   ],
   "source": [
    "stars.head()"
   ]
  },
  {
   "cell_type": "markdown",
   "metadata": {},
   "source": [
    "prueba: para ello necesitamos eliminar el color y la spectral class (sólo en este caso), en realidad: hacer Onehotencoding etc."
   ]
  },
  {
   "cell_type": "code",
   "execution_count": 85,
   "metadata": {
    "ExecuteTime": {
     "end_time": "2024-05-05T08:23:07.701989800Z",
     "start_time": "2024-05-05T08:23:07.538953700Z"
    }
   },
   "outputs": [
    {
     "data": {
      "text/plain": "     Temperature              L          R    A_M\n0           3068       0.002400     0.1700  16.12\n1           3042       0.000500     0.1542  16.60\n2           2600       0.000300     0.1020  18.70\n3           2800       0.000200     0.1600  16.65\n4           1939       0.000138     0.1030  20.06\n..           ...            ...        ...    ...\n235        38940  374830.000000  1356.0000  -9.93\n236        30839  834042.000000  1194.0000 -10.63\n237         8829  537493.000000  1423.0000 -10.73\n238         9235  404940.000000  1112.0000 -11.23\n239        37882  294903.000000  1783.0000  -7.80\n\n[240 rows x 4 columns]",
      "text/html": "<div>\n<style scoped>\n    .dataframe tbody tr th:only-of-type {\n        vertical-align: middle;\n    }\n\n    .dataframe tbody tr th {\n        vertical-align: top;\n    }\n\n    .dataframe thead th {\n        text-align: right;\n    }\n</style>\n<table border=\"1\" class=\"dataframe\">\n  <thead>\n    <tr style=\"text-align: right;\">\n      <th></th>\n      <th>Temperature</th>\n      <th>L</th>\n      <th>R</th>\n      <th>A_M</th>\n    </tr>\n  </thead>\n  <tbody>\n    <tr>\n      <th>0</th>\n      <td>3068</td>\n      <td>0.002400</td>\n      <td>0.1700</td>\n      <td>16.12</td>\n    </tr>\n    <tr>\n      <th>1</th>\n      <td>3042</td>\n      <td>0.000500</td>\n      <td>0.1542</td>\n      <td>16.60</td>\n    </tr>\n    <tr>\n      <th>2</th>\n      <td>2600</td>\n      <td>0.000300</td>\n      <td>0.1020</td>\n      <td>18.70</td>\n    </tr>\n    <tr>\n      <th>3</th>\n      <td>2800</td>\n      <td>0.000200</td>\n      <td>0.1600</td>\n      <td>16.65</td>\n    </tr>\n    <tr>\n      <th>4</th>\n      <td>1939</td>\n      <td>0.000138</td>\n      <td>0.1030</td>\n      <td>20.06</td>\n    </tr>\n    <tr>\n      <th>...</th>\n      <td>...</td>\n      <td>...</td>\n      <td>...</td>\n      <td>...</td>\n    </tr>\n    <tr>\n      <th>235</th>\n      <td>38940</td>\n      <td>374830.000000</td>\n      <td>1356.0000</td>\n      <td>-9.93</td>\n    </tr>\n    <tr>\n      <th>236</th>\n      <td>30839</td>\n      <td>834042.000000</td>\n      <td>1194.0000</td>\n      <td>-10.63</td>\n    </tr>\n    <tr>\n      <th>237</th>\n      <td>8829</td>\n      <td>537493.000000</td>\n      <td>1423.0000</td>\n      <td>-10.73</td>\n    </tr>\n    <tr>\n      <th>238</th>\n      <td>9235</td>\n      <td>404940.000000</td>\n      <td>1112.0000</td>\n      <td>-11.23</td>\n    </tr>\n    <tr>\n      <th>239</th>\n      <td>37882</td>\n      <td>294903.000000</td>\n      <td>1783.0000</td>\n      <td>-7.80</td>\n    </tr>\n  </tbody>\n</table>\n<p>240 rows × 4 columns</p>\n</div>"
     },
     "execution_count": 85,
     "metadata": {},
     "output_type": "execute_result"
    }
   ],
   "source": [
    "stars_prueba = stars.drop(columns = [\"Color\", \"Spectral_Class\"])\n",
    "#stars.drop[\"Spectral_Class\"]\n",
    "stars_prueba"
   ]
  },
  {
   "cell_type": "code",
   "execution_count": 86,
   "metadata": {
    "ExecuteTime": {
     "end_time": "2024-05-05T08:23:08.539917300Z",
     "start_time": "2024-05-05T08:23:08.315161400Z"
    }
   },
   "outputs": [
    {
     "data": {
      "text/plain": "array([[ 3.06800e+03,  2.40000e-03,  1.70000e-01,  1.61200e+01],\n       [ 3.04200e+03,  5.00000e-04,  1.54200e-01,  1.66000e+01],\n       [ 2.60000e+03,  3.00000e-04,  1.02000e-01,  1.87000e+01],\n       [ 2.80000e+03,  2.00000e-04,  1.60000e-01,  1.66500e+01],\n       [ 1.93900e+03,  1.38000e-04,  1.03000e-01,  2.00600e+01],\n       [ 2.84000e+03,  6.50000e-04,  1.10000e-01,  1.69800e+01],\n       [ 2.63700e+03,  7.30000e-04,  1.27000e-01,  1.72200e+01],\n       [ 2.60000e+03,  4.00000e-04,  9.60000e-02,  1.74000e+01],\n       [ 2.65000e+03,  6.90000e-04,  1.10000e-01,  1.74500e+01],\n       [ 2.70000e+03,  1.80000e-04,  1.30000e-01,  1.60500e+01],\n       [ 3.60000e+03,  2.90000e-03,  5.10000e-01,  1.06900e+01],\n       [ 3.12900e+03,  1.22000e-02,  3.76100e-01,  1.17900e+01],\n       [ 3.13400e+03,  4.00000e-04,  1.96000e-01,  1.32100e+01],\n       [ 3.62800e+03,  5.50000e-03,  3.93000e-01,  1.04800e+01],\n       [ 2.65000e+03,  6.00000e-04,  1.40000e-01,  1.17820e+01],\n       [ 3.34000e+03,  3.80000e-03,  2.40000e-01,  1.30700e+01],\n       [ 2.79900e+03,  1.80000e-03,  1.60000e-01,  1.47900e+01],\n       [ 3.69200e+03,  3.67000e-03,  4.70000e-01,  1.08000e+01],\n       [ 3.19200e+03,  3.62000e-03,  1.96700e-01,  1.35300e+01],\n       [ 3.44100e+03,  3.90000e-02,  3.51000e-01,  1.11800e+01],\n       [ 2.50000e+04,  5.60000e-02,  8.40000e-03,  1.05800e+01],\n       [ 7.74000e+03,  4.90000e-04,  1.23400e-02,  1.40200e+01],\n       [ 7.22000e+03,  1.70000e-04,  1.10000e-02,  1.42300e+01],\n       [ 8.50000e+03,  5.00000e-04,  1.00000e-02,  1.45000e+01],\n       [ 1.65000e+04,  1.30000e-02,  1.40000e-02,  1.18900e+01],\n       [ 1.29900e+04,  8.50000e-05,  9.84000e-03,  1.22300e+01],\n       [ 8.57000e+03,  8.10000e-04,  9.70000e-03,  1.42000e+01],\n       [ 7.70000e+03,  1.10000e-04,  1.28000e-02,  1.44700e+01],\n       [ 1.17900e+04,  1.50000e-04,  1.10000e-02,  1.25900e+01],\n       [ 7.23000e+03,  8.00000e-05,  1.30000e-02,  1.40800e+01],\n       [ 3.90000e+04,  2.04000e+05,  1.06000e+01, -4.70000e+00],\n       [ 3.00000e+04,  2.88400e+04,  6.30000e+00, -4.20000e+00],\n       [ 1.52760e+04,  1.13600e+03,  7.20000e+00, -1.97000e+00],\n       [ 9.70000e+03,  7.40000e+01,  2.89000e+00,  1.60000e-01],\n       [ 5.80000e+03,  8.10000e-01,  9.00000e-01,  5.05000e+00],\n       [ 8.05200e+03,  8.70000e+00,  1.80000e+00,  2.42000e+00],\n       [ 6.75700e+03,  1.43000e+00,  1.12000e+00,  2.41000e+00],\n       [ 6.38000e+03,  1.35000e+00,  9.80000e-01,  2.93000e+00],\n       [ 5.93600e+03,  1.35700e+00,  1.10600e+00,  4.46000e+00],\n       [ 5.58700e+03,  8.19000e-01,  9.90000e-01,  5.03000e+00],\n       [ 3.82600e+03,  2.00000e+05,  1.90000e+01, -6.93000e+00],\n       [ 3.36500e+03,  3.40000e+05,  2.30000e+01, -6.20000e+00],\n       [ 3.27000e+03,  1.50000e+05,  8.80000e+01, -6.02000e+00],\n       [ 3.20000e+03,  1.95000e+05,  1.70000e+01, -7.22000e+00],\n       [ 3.00800e+03,  2.80000e+05,  2.50000e+01, -6.00000e+00],\n       [ 3.60000e+03,  3.20000e+05,  2.90000e+01, -6.60000e+00],\n       [ 3.57500e+03,  1.23000e+05,  4.50000e+01, -6.78000e+00],\n       [ 3.57400e+03,  2.00000e+05,  8.90000e+01, -5.24000e+00],\n       [ 3.62500e+03,  1.84000e+05,  8.40000e+01, -6.74000e+00],\n       [ 3.37500e+04,  2.20000e+05,  2.60000e+01, -6.10000e+00],\n       [ 3.49000e+03,  2.70000e+05,  1.52000e+03, -9.40000e+00],\n       [ 3.75000e+03,  2.83000e+05,  1.26000e+03, -7.63000e+00],\n       [ 3.83400e+03,  2.72000e+05,  1.18300e+03, -9.20000e+00],\n       [ 3.74900e+03,  5.50000e+05,  1.64800e+03, -8.05000e+00],\n       [ 3.65000e+03,  3.10000e+05,  1.32400e+03, -7.79000e+00],\n       [ 3.45000e+03,  2.63000e+05,  1.34900e+03, -1.17500e+01],\n       [ 3.66000e+03,  3.63000e+05,  1.67300e+03, -1.19200e+01],\n       [ 3.45000e+03,  1.74000e+05,  1.28400e+03, -1.12800e+01],\n       [ 3.75200e+03,  2.09000e+05,  9.55000e+02, -1.12400e+01],\n       [ 3.53500e+03,  1.95000e+05,  1.54600e+03, -1.13600e+01],\n       [ 3.34100e+03,  5.60000e-03,  5.70000e-02,  1.62300e+01],\n       [ 3.43200e+03,  6.70000e-04,  1.90000e-01,  1.69400e+01],\n       [ 2.98300e+03,  2.40000e-04,  9.40000e-02,  1.60900e+01],\n       [ 2.83500e+03,  3.40000e-04,  9.18000e-02,  1.69600e+01],\n       [ 2.93500e+03,  1.40000e-04,  1.16000e-01,  1.88900e+01],\n       [ 3.29500e+03,  9.80000e-04,  1.32000e-01,  1.71300e+01],\n       [ 2.94500e+03,  3.20000e-04,  9.30000e-02,  1.83400e+01],\n       [ 2.81700e+03,  9.80000e-04,  9.11000e-02,  1.64500e+01],\n       [ 2.77400e+03,  3.60000e-04,  1.18000e-01,  1.73900e+01],\n       [ 2.87100e+03,  7.20000e-04,  1.20000e-01,  1.94300e+01],\n       [ 3.34500e+03,  2.10000e-02,  2.73000e-01,  1.23000e+01],\n       [ 3.60700e+03,  2.20000e-02,  3.80000e-01,  1.01200e+01],\n       [ 3.30400e+03,  8.50000e-03,  1.80000e-01,  1.32000e+01],\n       [ 3.15000e+03,  8.80000e-03,  3.50000e-01,  1.19400e+01],\n       [ 3.55000e+03,  4.00000e-03,  2.91000e-01,  1.08900e+01],\n       [ 3.18000e+03,  1.00000e-03,  3.50000e-01,  1.17600e+01],\n       [ 2.89000e+03,  3.40000e-03,  2.40000e-01,  1.34600e+01],\n       [ 3.34200e+03,  1.50000e-03,  3.07000e-01,  1.18700e+01],\n       [ 2.62100e+03,  6.00000e-04,  9.80000e-02,  1.28100e+01],\n       [ 3.15800e+03,  1.35000e-03,  1.61000e-01,  1.39800e+01],\n       [ 7.10000e+03,  2.90000e-04,  1.20000e-02,  1.40900e+01],\n       [ 1.05740e+04,  1.40000e-04,  9.20000e-03,  1.20200e+01],\n       [ 8.93000e+03,  5.60000e-04,  9.50000e-03,  1.37800e+01],\n       [ 1.72000e+04,  9.80000e-04,  1.50000e-02,  1.24500e+01],\n       [ 1.41000e+04,  6.70000e-04,  8.90000e-03,  1.21700e+01],\n       [ 9.67500e+03,  4.50000e-04,  1.09000e-02,  1.39800e+01],\n       [ 1.20100e+04,  7.80000e-04,  9.20000e-03,  1.21300e+01],\n       [ 1.09800e+04,  7.40000e-04,  8.70000e-03,  1.11900e+01],\n       [ 1.37200e+04,  1.80000e-04,  8.92000e-03,  1.29700e+01],\n       [ 1.98600e+04,  1.10000e-03,  1.31000e-02,  1.13400e+01],\n       [ 5.30000e+03,  5.90000e-01,  9.10000e-01,  5.49000e+00],\n       [ 4.52600e+03,  1.53000e-01,  8.65000e-01,  6.50600e+00],\n       [ 4.07700e+03,  8.50000e-02,  7.95000e-01,  6.22800e+00],\n       [ 4.98000e+03,  3.57000e-01,  1.13000e+00,  4.78000e+00],\n       [ 9.03000e+03,  4.50000e+01,  2.63000e+00,  1.45000e+00],\n       [ 1.12500e+04,  6.72000e+02,  6.98000e+00, -2.30000e+00],\n       [ 5.11200e+03,  6.30000e-01,  8.76000e-01,  4.68000e+00],\n       [ 7.72000e+03,  7.92000e+00,  1.34000e+00,  2.44000e+00],\n       [ 1.20980e+04,  6.89000e+02,  7.01000e+00,  2.00000e-02],\n       [ 3.61080e+04,  1.98000e+05,  1.02000e+01, -4.40000e+00],\n       [ 3.33000e+04,  2.40000e+05,  1.20000e+01, -6.50000e+00],\n       [ 4.00000e+04,  8.13000e+05,  1.40000e+01, -6.23000e+00],\n       [ 2.30000e+04,  1.27000e+05,  3.60000e+01, -5.76000e+00],\n       [ 1.71200e+04,  2.35000e+05,  8.30000e+01, -6.89000e+00],\n       [ 1.10960e+04,  1.12000e+05,  1.20000e+01, -5.91000e+00],\n       [ 1.42450e+04,  2.31000e+05,  4.20000e+01, -6.12000e+00],\n       [ 2.46300e+04,  3.63000e+05,  6.30000e+01, -5.83000e+00],\n       [ 1.28930e+04,  1.84000e+05,  3.60000e+01, -6.34000e+00],\n       [ 2.43450e+04,  1.42000e+05,  5.70000e+01, -6.24000e+00],\n       [ 3.34210e+04,  3.52000e+05,  6.70000e+01, -5.79000e+00],\n       [ 3.45900e+03,  1.00000e+05,  1.28900e+03, -1.07000e+01],\n       [ 3.60500e+03,  1.26000e+05,  1.12400e+03, -1.08100e+01],\n       [ 3.61500e+03,  2.00000e+05,  1.63500e+03, -1.13300e+01],\n       [ 3.39900e+03,  1.17000e+05,  1.48600e+03, -1.09200e+01],\n       [ 3.61000e+03,  1.32000e+05,  1.52200e+03, -1.08600e+01],\n       [ 3.55300e+03,  1.45000e+05,  1.32400e+03, -1.10300e+01],\n       [ 4.01500e+03,  2.82000e+05,  1.53400e+03, -1.13900e+01],\n       [ 3.62500e+03,  7.40000e+04,  8.76000e+02, -1.02500e+01],\n       [ 6.85000e+03,  2.29000e+05,  1.46700e+03, -1.00700e+01],\n       [ 3.78000e+03,  2.00000e+05,  1.32400e+03, -1.07000e+01],\n       [ 3.32300e+03,  4.30000e-04,  9.12000e-02,  1.71600e+01],\n       [ 3.53100e+03,  9.30000e-04,  9.76000e-02,  1.99400e+01],\n       [ 3.21800e+03,  5.40000e-04,  1.10000e-01,  2.00200e+01],\n       [ 3.14600e+03,  1.50000e-04,  9.32000e-02,  1.69200e+01],\n       [ 3.51100e+03,  6.40000e-04,  1.09000e-01,  1.71200e+01],\n       [ 3.22500e+03,  7.60000e-04,  1.21000e-01,  1.96300e+01],\n       [ 2.93500e+03,  8.70000e-04,  9.32000e-02,  1.68800e+01],\n       [ 2.86100e+03,  1.90000e-04,  8.99000e-02,  1.67100e+01],\n       [ 2.85600e+03,  8.96000e-04,  7.82000e-02,  1.95600e+01],\n       [ 2.73100e+03,  4.37000e-04,  8.56000e-02,  1.80900e+01],\n       [ 3.09500e+03,  1.90000e-04,  4.92000e-01,  1.08700e+01],\n       [ 3.60700e+03,  2.30000e-04,  3.80000e-01,  1.03400e+01],\n       [ 3.10000e+03,  8.00000e-03,  3.10000e-01,  1.11700e+01],\n       [ 2.98900e+03,  8.70000e-03,  3.40000e-01,  1.31200e+01],\n       [ 3.54200e+03,  9.00000e-04,  6.20000e-01,  1.42300e+01],\n       [ 3.24300e+03,  2.30000e-03,  7.30000e-01,  1.47500e+01],\n       [ 3.09100e+03,  8.10000e-03,  2.40000e-01,  1.14300e+01],\n       [ 3.59800e+03,  1.10000e-03,  5.60000e-01,  1.42600e+01],\n       [ 3.32400e+03,  3.40000e-03,  3.40000e-01,  1.22300e+01],\n       [ 3.54100e+03,  1.30000e-03,  2.56000e-01,  1.43300e+01],\n       [ 1.34200e+04,  5.90000e-04,  9.81000e-03,  1.36700e+01],\n       [ 2.10200e+04,  1.50000e-03,  1.12000e-02,  1.15200e+01],\n       [ 1.82900e+04,  1.30000e-03,  9.34000e-03,  1.27800e+01],\n       [ 1.45200e+04,  8.20000e-04,  9.72000e-03,  1.19200e+01],\n       [ 1.19000e+04,  6.70000e-04,  8.98000e-03,  1.13800e+01],\n       [ 8.92400e+03,  2.80000e-04,  8.79000e-03,  1.48700e+01],\n       [ 1.29120e+04,  7.10000e-04,  9.45000e-03,  1.28300e+01],\n       [ 1.47320e+04,  1.10000e-04,  8.92000e-03,  1.28900e+01],\n       [ 7.72300e+03,  1.40000e-04,  8.78000e-03,  1.48100e+01],\n       [ 1.29840e+04,  8.80000e-04,  9.96000e-03,  1.12300e+01],\n       [ 2.95600e+04,  1.88000e+05,  6.02000e+00, -4.01000e+00],\n       [ 8.94500e+03,  3.80000e+01,  2.48700e+00,  1.20000e-01],\n       [ 1.40600e+04,  1.09200e+03,  5.74500e+00, -2.04000e+00],\n       [ 1.63900e+04,  1.27800e+03,  5.68000e+00, -3.32000e+00],\n       [ 2.50700e+04,  1.45000e+04,  5.92000e+00, -3.98000e+00],\n       [ 2.87000e+04,  1.67900e+04,  6.40000e+00, -4.09000e+00],\n       [ 2.61400e+04,  1.45200e+04,  5.49000e+00, -3.80000e+00],\n       [ 2.01200e+04,  4.72000e+03,  6.78000e+00, -3.40000e+00],\n       [ 1.30230e+04,  9.98000e+02,  6.21000e+00, -1.38000e+00],\n       [ 3.78000e+04,  2.02900e+05,  6.86000e+00, -4.56000e+00],\n       [ 2.53900e+04,  2.23000e+05,  5.70000e+01, -5.92000e+00],\n       [ 1.15670e+04,  2.51000e+05,  3.60000e+01, -6.24500e+00],\n       [ 1.26750e+04,  4.52000e+05,  8.30000e+01, -5.62000e+00],\n       [ 5.75200e+03,  2.45000e+05,  9.70000e+01, -6.63000e+00],\n       [ 8.92700e+03,  2.39000e+05,  3.50000e+01, -7.34000e+00],\n       [ 7.28200e+03,  1.31000e+05,  2.40000e+01, -7.22000e+00],\n       [ 1.99230e+04,  1.52000e+05,  7.30000e+01, -5.69000e+00],\n       [ 2.63730e+04,  1.98000e+05,  3.90000e+01, -5.83000e+00],\n       [ 1.73830e+04,  3.42900e+05,  3.00000e+01, -6.09000e+00],\n       [ 9.37300e+03,  4.24520e+05,  2.40000e+01, -5.99000e+00],\n       [ 3.57000e+03,  3.20000e+05,  1.48000e+03, -7.58000e+00],\n       [ 3.50000e+03,  1.38000e+05,  1.42000e+03, -8.18000e+00],\n       [ 4.28700e+03,  6.30000e+05,  1.31500e+03, -9.20000e+00],\n       [ 2.60000e+04,  3.16000e+05,  1.67900e+03, -9.10000e+00],\n       [ 3.60000e+03,  2.40000e+05,  1.19000e+03, -7.89000e+00],\n       [ 3.61400e+03,  1.45000e+05,  1.55300e+03, -7.71000e+00],\n       [ 1.80000e+04,  2.00000e+05,  1.04500e+03, -8.30000e+00],\n       [ 1.10000e+04,  1.70000e+05,  1.77900e+03, -9.90000e+00],\n       [ 1.21000e+04,  1.20000e+05,  7.08900e+02, -7.84000e+00],\n       [ 2.44900e+04,  2.48490e+05,  1.13450e+03, -8.24000e+00],\n       [ 2.83100e+03,  2.31000e-04,  9.15000e-02,  1.62100e+01],\n       [ 2.91400e+03,  6.31000e-04,  1.16000e-01,  1.83900e+01],\n       [ 3.41900e+03,  2.45000e-04,  1.26000e-01,  1.75600e+01],\n       [ 3.21800e+03,  4.52000e-04,  9.87000e-02,  1.73400e+01],\n       [ 3.45300e+03,  6.21000e-04,  7.73000e-02,  1.70800e+01],\n       [ 2.88900e+03,  3.52000e-04,  9.73000e-02,  1.69300e+01],\n       [ 2.96800e+03,  4.61000e-04,  1.19000e-01,  1.74500e+01],\n       [ 3.48400e+03,  5.51000e-04,  9.98000e-02,  1.66700e+01],\n       [ 2.77800e+03,  8.49000e-04,  1.12000e-01,  1.94500e+01],\n       [ 3.52300e+03,  9.57000e-04,  1.29000e-01,  1.63500e+01],\n       [ 3.46200e+03,  5.30000e-03,  1.48000e-01,  1.14700e+01],\n       [ 3.25700e+03,  2.40000e-03,  4.60000e-01,  1.07300e+01],\n       [ 2.99400e+03,  7.20000e-03,  2.80000e-01,  1.34500e+01],\n       [ 3.21200e+03,  1.60000e-03,  3.78000e-01,  1.28540e+01],\n       [ 3.52300e+03,  5.40000e-03,  3.19000e-01,  1.24300e+01],\n       [ 3.59800e+03,  2.70000e-03,  6.70000e-01,  1.36670e+01],\n       [ 3.14200e+03,  1.32000e-03,  2.58000e-01,  1.41200e+01],\n       [ 3.49600e+03,  1.25000e-03,  3.36000e-01,  1.49400e+01],\n       [ 3.32400e+03,  6.50000e-03,  4.71000e-01,  1.27800e+01],\n       [ 3.46300e+03,  2.70000e-03,  6.75000e-01,  1.47760e+01],\n       [ 1.67900e+04,  1.40000e-03,  1.21000e-02,  1.28700e+01],\n       [ 1.56800e+04,  1.22000e-03,  1.14000e-02,  1.19200e+01],\n       [ 1.49820e+04,  1.18000e-03,  1.13000e-02,  1.22300e+01],\n       [ 1.33400e+04,  1.09000e-03,  1.16000e-02,  1.29000e+01],\n       [ 1.83400e+04,  1.34000e-03,  1.24000e-02,  1.12200e+01],\n       [ 1.99200e+04,  1.56000e-03,  1.42000e-02,  1.13400e+01],\n       [ 2.40200e+04,  1.59000e-03,  1.27000e-02,  1.05500e+01],\n       [ 2.30920e+04,  1.32000e-03,  1.04000e-02,  1.01800e+01],\n       [ 1.79200e+04,  1.11000e-03,  1.06000e-02,  1.16600e+01],\n       [ 1.93600e+04,  1.25000e-03,  9.98000e-03,  1.16200e+01],\n       [ 2.23500e+04,  1.24500e+04,  6.36000e+00, -3.67000e+00],\n       [ 1.00120e+04,  5.52000e+02,  5.85600e+00,  1.30000e-02],\n       [ 1.30890e+04,  7.88000e+02,  5.99200e+00, -1.20000e-01],\n       [ 2.20120e+04,  6.74800e+03,  6.64000e+00, -2.55000e+00],\n       [ 3.41900e+04,  1.98200e+05,  6.39000e+00, -4.57000e+00],\n       [ 3.24600e+04,  1.73800e+05,  6.23700e+00, -4.36000e+00],\n       [ 9.32000e+03,  2.90000e+01,  1.91000e+00,  1.23600e+00],\n       [ 1.94000e+04,  1.09200e+04,  6.03000e+00, -3.08000e+00],\n       [ 1.71400e+04,  8.83000e+02,  5.65300e+00, -2.64000e+00],\n       [ 8.25000e+03,  9.25000e+00,  1.93000e+00, -9.80000e-01],\n       [ 2.36780e+04,  2.44290e+05,  3.50000e+01, -6.27000e+00],\n       [ 1.27490e+04,  3.32520e+05,  7.60000e+01, -7.02000e+00],\n       [ 9.38300e+03,  3.42940e+05,  9.80000e+01, -6.98000e+00],\n       [ 2.34400e+04,  5.37430e+05,  8.10000e+01, -5.97500e+00],\n       [ 1.67870e+04,  2.46730e+05,  6.20000e+01, -6.35000e+00],\n       [ 1.87340e+04,  2.24780e+05,  4.60000e+01, -7.45000e+00],\n       [ 9.89200e+03,  5.93900e+05,  8.00000e+01, -7.26200e+00],\n       [ 1.09300e+04,  7.83930e+05,  2.50000e+01, -6.22400e+00],\n       [ 2.30950e+04,  3.47820e+05,  8.60000e+01, -5.90500e+00],\n       [ 2.17380e+04,  7.48890e+05,  9.20000e+01, -7.34600e+00],\n       [ 2.41450e+04,  3.82993e+05,  1.49400e+03, -8.84000e+00],\n       [ 3.82340e+04,  2.72830e+05,  1.35600e+03, -9.29000e+00],\n       [ 3.24890e+04,  6.48430e+05,  1.94850e+03, -1.08400e+01],\n       [ 2.77390e+04,  8.49420e+05,  1.25200e+03, -7.59000e+00],\n       [ 2.19040e+04,  7.48490e+05,  1.13000e+03, -7.67000e+00],\n       [ 3.89400e+04,  3.74830e+05,  1.35600e+03, -9.93000e+00],\n       [ 3.08390e+04,  8.34042e+05,  1.19400e+03, -1.06300e+01],\n       [ 8.82900e+03,  5.37493e+05,  1.42300e+03, -1.07300e+01],\n       [ 9.23500e+03,  4.04940e+05,  1.11200e+03, -1.12300e+01],\n       [ 3.78820e+04,  2.94903e+05,  1.78300e+03, -7.80000e+00]])"
     },
     "execution_count": 86,
     "metadata": {},
     "output_type": "execute_result"
    }
   ],
   "source": [
    "# convert dataframe to array\n",
    "stars_prueba_array = stars_prueba.values\n",
    "stars_prueba_array"
   ]
  },
  {
   "cell_type": "code",
   "execution_count": 87,
   "metadata": {
    "ExecuteTime": {
     "end_time": "2024-05-05T08:23:09.850849700Z",
     "start_time": "2024-05-05T08:23:09.059804800Z"
    }
   },
   "outputs": [
    {
     "name": "stdout",
     "output_type": "stream",
     "text": [
      "[array([ 2.52766667e+04,  1.63366667e+04,  6.08333333e+00, -3.80333333e+00]), array([ 1.64864444e+04,  3.54687000e+05,  6.93333333e+02, -7.56750000e+00]), array([ 9.46663158e+03,  1.34305263e+05,  7.74059842e+02, -8.28736842e+00]), array([1.85529091e+04, 6.71140308e+02, 1.46126182e+00, 8.41272727e+00]), array([ 1.53189730e+04,  2.26924865e+05,  5.23745135e+02, -7.46337838e+00]), array([1.04050278e+04, 1.38968905e+02, 1.47262139e+00, 8.48275000e+00]), array([3.39695556e+03, 8.69440111e-02, 3.11093333e-01, 1.39078111e+01]), array([ 1.96530000e+04,  6.89585417e+05,  8.50208333e+02, -8.14558333e+00])]\n",
      "27\n"
     ]
    }
   ],
   "source": [
    "kmeans_stars_prueba = KMeans_Ours()\n",
    "result = kmeans_stars_prueba.fit(stars_prueba_array)\n",
    "print(kmeans_stars_prueba.return_centroids())\n",
    "print(kmeans_stars_prueba.iter)"
   ]
  },
  {
   "cell_type": "code",
   "execution_count": 88,
   "metadata": {
    "ExecuteTime": {
     "end_time": "2024-05-05T08:23:11.152620600Z",
     "start_time": "2024-05-05T08:23:09.650547200Z"
    }
   },
   "outputs": [
    {
     "data": {
      "text/plain": "<matplotlib.collections.PathCollection at 0x210a7e7e950>"
     },
     "execution_count": 88,
     "metadata": {},
     "output_type": "execute_result"
    },
    {
     "data": {
      "text/plain": "<Figure size 640x480 with 1 Axes>",
      "image/png": "[encoded data removed]"
     },
     "metadata": {},
     "output_type": "display_data"
    }
   ],
   "source": [
    "plt.scatter(stars_prueba_array[:, 0], stars_prueba_array[:, 1], stars_prueba_array[:, 2], stars_prueba_array[:, 3])"
   ]
  },
  {
   "cell_type": "code",
   "execution_count": 89,
   "metadata": {
    "ExecuteTime": {
     "end_time": "2024-05-05T08:23:20.100783800Z",
     "start_time": "2024-05-05T08:23:10.565931500Z"
    }
   },
   "outputs": [
    {
     "data": {
      "text/plain": "<Figure size 640x480 with 1 Axes>",
      "image/png": "[encoded data removed]"
     },
     "metadata": {},
     "output_type": "display_data"
    }
   ],
   "source": [
    "colors = [\"#FF9C34\", \"#4E9A06\", \"#DEB887\", \"#65B199\", \"#BDD4EE\", \"#3F567A\", \"#526AD5\", \"#00D542\"]\n",
    "for i in range(kmeans_stars_prueba.n_clusters):\n",
    "    for j in range(len(stars_prueba_array)):\n",
    "        if kmeans_stars_prueba._labels[j] == i:\n",
    "            # aquí hay que hacer lo de reducir a sólo dos dimensiones para poder hacer el scatterplot \n",
    "            # (sólo deja con dos dimensiones)\n",
    "            plt.scatter(stars_prueba_array[j][0], stars_prueba_array[j][1], c = colors[i])"
   ]
  },
  {
   "cell_type": "markdown",
   "source": [
    "# II. Preprocesado de Datos\n",
    "En esta sección se preprocesa el dataset proporcionado, aplicando procesamiento de features de tipo One-ot-encodign y codificación ordinal, así como transformación de la dimensionalidad de los datos mediante PCA. "
   ],
   "metadata": {
    "collapsed": false
   }
  },
  {
   "cell_type": "markdown",
   "source": [
    "## 1. One hot encoding \n",
    "En primer lugar aplicamos la técnica one-hot-encoding sobre las columnas categóricas. "
   ],
   "metadata": {
    "collapsed": false
   }
  },
  {
   "cell_type": "code",
   "outputs": [
    {
     "data": {
      "text/plain": "   Temperature         L       R    A_M Color Spectral_Class\n0         3068  0.002400  0.1700  16.12   Red              M\n1         3042  0.000500  0.1542  16.60   Red              M\n2         2600  0.000300  0.1020  18.70   Red              M\n3         2800  0.000200  0.1600  16.65   Red              M\n4         1939  0.000138  0.1030  20.06   Red              M",
      "text/html": "<div>\n<style scoped>\n    .dataframe tbody tr th:only-of-type {\n        vertical-align: middle;\n    }\n\n    .dataframe tbody tr th {\n        vertical-align: top;\n    }\n\n    .dataframe thead th {\n        text-align: right;\n    }\n</style>\n<table border=\"1\" class=\"dataframe\">\n  <thead>\n    <tr style=\"text-align: right;\">\n      <th></th>\n      <th>Temperature</th>\n      <th>L</th>\n      <th>R</th>\n      <th>A_M</th>\n      <th>Color</th>\n      <th>Spectral_Class</th>\n    </tr>\n  </thead>\n  <tbody>\n    <tr>\n      <th>0</th>\n      <td>3068</td>\n      <td>0.002400</td>\n      <td>0.1700</td>\n      <td>16.12</td>\n      <td>Red</td>\n      <td>M</td>\n    </tr>\n    <tr>\n      <th>1</th>\n      <td>3042</td>\n      <td>0.000500</td>\n      <td>0.1542</td>\n      <td>16.60</td>\n      <td>Red</td>\n      <td>M</td>\n    </tr>\n    <tr>\n      <th>2</th>\n      <td>2600</td>\n      <td>0.000300</td>\n      <td>0.1020</td>\n      <td>18.70</td>\n      <td>Red</td>\n      <td>M</td>\n    </tr>\n    <tr>\n      <th>3</th>\n      <td>2800</td>\n      <td>0.000200</td>\n      <td>0.1600</td>\n      <td>16.65</td>\n      <td>Red</td>\n      <td>M</td>\n    </tr>\n    <tr>\n      <th>4</th>\n      <td>1939</td>\n      <td>0.000138</td>\n      <td>0.1030</td>\n      <td>20.06</td>\n      <td>Red</td>\n      <td>M</td>\n    </tr>\n  </tbody>\n</table>\n</div>"
     },
     "execution_count": 90,
     "metadata": {},
     "output_type": "execute_result"
    }
   ],
   "source": [
    "stars.head()"
   ],
   "metadata": {
    "collapsed": false,
    "ExecuteTime": {
     "end_time": "2024-05-05T08:23:20.251843800Z",
     "start_time": "2024-05-05T08:23:20.096713600Z"
    }
   },
   "execution_count": 90
  },
  {
   "cell_type": "code",
   "outputs": [
    {
     "data": {
      "text/plain": "     Temperature              L          R    A_M  Color Spectral_Class  Red  \\\n0           3068       0.002400     0.1700  16.12    Red              M    1   \n1           3042       0.000500     0.1542  16.60    Red              M    1   \n2           2600       0.000300     0.1020  18.70    Red              M    1   \n3           2800       0.000200     0.1600  16.65    Red              M    1   \n4           1939       0.000138     0.1030  20.06    Red              M    1   \n..           ...            ...        ...    ...    ...            ...  ...   \n235        38940  374830.000000  1356.0000  -9.93   Blue              O    0   \n236        30839  834042.000000  1194.0000 -10.63   Blue              O    0   \n237         8829  537493.000000  1423.0000 -10.73  White              A    0   \n238         9235  404940.000000  1112.0000 -11.23  White              A    0   \n239        37882  294903.000000  1783.0000  -7.80   Blue              O    0   \n\n     Blue White  White  Yellowish White  ...  Blue-white  Whitish  \\\n0             0      0                0  ...           0        0   \n1             0      0                0  ...           0        0   \n2             0      0                0  ...           0        0   \n3             0      0                0  ...           0        0   \n4             0      0                0  ...           0        0   \n..          ...    ...              ...  ...         ...      ...   \n235           0      0                0  ...           0        0   \n236           0      0                0  ...           0        0   \n237           0      1                0  ...           0        0   \n238           0      1                0  ...           0        0   \n239           0      0                0  ...           0        0   \n\n     yellow-white  Orange  White-Yellow  white  yellowish  Yellowish  \\\n0               0       0             0      0          0          0   \n1               0       0             0      0          0          0   \n2               0       0             0      0          0          0   \n3               0       0             0      0          0          0   \n4               0       0             0      0          0          0   \n..            ...     ...           ...    ...        ...        ...   \n235             0       0             0      0          0          0   \n236             0       0             0      0          0          0   \n237             0       0             0      0          0          0   \n238             0       0             0      0          0          0   \n239             0       0             0      0          0          0   \n\n     Orange-Red  Blue-White  \n0             0           0  \n1             0           0  \n2             0           0  \n3             0           0  \n4             0           0  \n..          ...         ...  \n235           0           0  \n236           0           0  \n237           0           0  \n238           0           0  \n239           0           0  \n\n[240 rows x 23 columns]",
      "text/html": "<div>\n<style scoped>\n    .dataframe tbody tr th:only-of-type {\n        vertical-align: middle;\n    }\n\n    .dataframe tbody tr th {\n        vertical-align: top;\n    }\n\n    .dataframe thead th {\n        text-align: right;\n    }\n</style>\n<table border=\"1\" class=\"dataframe\">\n  <thead>\n    <tr style=\"text-align: right;\">\n      <th></th>\n      <th>Temperature</th>\n      <th>L</th>\n      <th>R</th>\n      <th>A_M</th>\n      <th>Color</th>\n      <th>Spectral_Class</th>\n      <th>Red</th>\n      <th>Blue White</th>\n      <th>White</th>\n      <th>Yellowish White</th>\n      <th>...</th>\n      <th>Blue-white</th>\n      <th>Whitish</th>\n      <th>yellow-white</th>\n      <th>Orange</th>\n      <th>White-Yellow</th>\n      <th>white</th>\n      <th>yellowish</th>\n      <th>Yellowish</th>\n      <th>Orange-Red</th>\n      <th>Blue-White</th>\n    </tr>\n  </thead>\n  <tbody>\n    <tr>\n      <th>0</th>\n      <td>3068</td>\n      <td>0.002400</td>\n      <td>0.1700</td>\n      <td>16.12</td>\n      <td>Red</td>\n      <td>M</td>\n      <td>1</td>\n      <td>0</td>\n      <td>0</td>\n      <td>0</td>\n      <td>...</td>\n      <td>0</td>\n      <td>0</td>\n      <td>0</td>\n      <td>0</td>\n      <td>0</td>\n      <td>0</td>\n      <td>0</td>\n      <td>0</td>\n      <td>0</td>\n      <td>0</td>\n    </tr>\n    <tr>\n      <th>1</th>\n      <td>3042</td>\n      <td>0.000500</td>\n      <td>0.1542</td>\n      <td>16.60</td>\n      <td>Red</td>\n      <td>M</td>\n      <td>1</td>\n      <td>0</td>\n      <td>0</td>\n      <td>0</td>\n      <td>...</td>\n      <td>0</td>\n      <td>0</td>\n      <td>0</td>\n      <td>0</td>\n      <td>0</td>\n      <td>0</td>\n      <td>0</td>\n      <td>0</td>\n      <td>0</td>\n      <td>0</td>\n    </tr>\n    <tr>\n      <th>2</th>\n      <td>2600</td>\n      <td>0.000300</td>\n      <td>0.1020</td>\n      <td>18.70</td>\n      <td>Red</td>\n      <td>M</td>\n      <td>1</td>\n      <td>0</td>\n      <td>0</td>\n      <td>0</td>\n      <td>...</td>\n      <td>0</td>\n      <td>0</td>\n      <td>0</td>\n      <td>0</td>\n      <td>0</td>\n      <td>0</td>\n      <td>0</td>\n      <td>0</td>\n      <td>0</td>\n      <td>0</td>\n    </tr>\n    <tr>\n      <th>3</th>\n      <td>2800</td>\n      <td>0.000200</td>\n      <td>0.1600</td>\n      <td>16.65</td>\n      <td>Red</td>\n      <td>M</td>\n      <td>1</td>\n      <td>0</td>\n      <td>0</td>\n      <td>0</td>\n      <td>...</td>\n      <td>0</td>\n      <td>0</td>\n      <td>0</td>\n      <td>0</td>\n      <td>0</td>\n      <td>0</td>\n      <td>0</td>\n      <td>0</td>\n      <td>0</td>\n      <td>0</td>\n    </tr>\n    <tr>\n      <th>4</th>\n      <td>1939</td>\n      <td>0.000138</td>\n      <td>0.1030</td>\n      <td>20.06</td>\n      <td>Red</td>\n      <td>M</td>\n      <td>1</td>\n      <td>0</td>\n      <td>0</td>\n      <td>0</td>\n      <td>...</td>\n      <td>0</td>\n      <td>0</td>\n      <td>0</td>\n      <td>0</td>\n      <td>0</td>\n      <td>0</td>\n      <td>0</td>\n      <td>0</td>\n      <td>0</td>\n      <td>0</td>\n    </tr>\n    <tr>\n      <th>...</th>\n      <td>...</td>\n      <td>...</td>\n      <td>...</td>\n      <td>...</td>\n      <td>...</td>\n      <td>...</td>\n      <td>...</td>\n      <td>...</td>\n      <td>...</td>\n      <td>...</td>\n      <td>...</td>\n      <td>...</td>\n      <td>...</td>\n      <td>...</td>\n      <td>...</td>\n      <td>...</td>\n      <td>...</td>\n      <td>...</td>\n      <td>...</td>\n      <td>...</td>\n      <td>...</td>\n    </tr>\n    <tr>\n      <th>235</th>\n      <td>38940</td>\n      <td>374830.000000</td>\n      <td>1356.0000</td>\n      <td>-9.93</td>\n      <td>Blue</td>\n      <td>O</td>\n      <td>0</td>\n      <td>0</td>\n      <td>0</td>\n      <td>0</td>\n      <td>...</td>\n      <td>0</td>\n      <td>0</td>\n      <td>0</td>\n      <td>0</td>\n      <td>0</td>\n      <td>0</td>\n      <td>0</td>\n      <td>0</td>\n      <td>0</td>\n      <td>0</td>\n    </tr>\n    <tr>\n      <th>236</th>\n      <td>30839</td>\n      <td>834042.000000</td>\n      <td>1194.0000</td>\n      <td>-10.63</td>\n      <td>Blue</td>\n      <td>O</td>\n      <td>0</td>\n      <td>0</td>\n      <td>0</td>\n      <td>0</td>\n      <td>...</td>\n      <td>0</td>\n      <td>0</td>\n      <td>0</td>\n      <td>0</td>\n      <td>0</td>\n      <td>0</td>\n      <td>0</td>\n      <td>0</td>\n      <td>0</td>\n      <td>0</td>\n    </tr>\n    <tr>\n      <th>237</th>\n      <td>8829</td>\n      <td>537493.000000</td>\n      <td>1423.0000</td>\n      <td>-10.73</td>\n      <td>White</td>\n      <td>A</td>\n      <td>0</td>\n      <td>0</td>\n      <td>1</td>\n      <td>0</td>\n      <td>...</td>\n      <td>0</td>\n      <td>0</td>\n      <td>0</td>\n      <td>0</td>\n      <td>0</td>\n      <td>0</td>\n      <td>0</td>\n      <td>0</td>\n      <td>0</td>\n      <td>0</td>\n    </tr>\n    <tr>\n      <th>238</th>\n      <td>9235</td>\n      <td>404940.000000</td>\n      <td>1112.0000</td>\n      <td>-11.23</td>\n      <td>White</td>\n      <td>A</td>\n      <td>0</td>\n      <td>0</td>\n      <td>1</td>\n      <td>0</td>\n      <td>...</td>\n      <td>0</td>\n      <td>0</td>\n      <td>0</td>\n      <td>0</td>\n      <td>0</td>\n      <td>0</td>\n      <td>0</td>\n      <td>0</td>\n      <td>0</td>\n      <td>0</td>\n    </tr>\n    <tr>\n      <th>239</th>\n      <td>37882</td>\n      <td>294903.000000</td>\n      <td>1783.0000</td>\n      <td>-7.80</td>\n      <td>Blue</td>\n      <td>O</td>\n      <td>0</td>\n      <td>0</td>\n      <td>0</td>\n      <td>0</td>\n      <td>...</td>\n      <td>0</td>\n      <td>0</td>\n      <td>0</td>\n      <td>0</td>\n      <td>0</td>\n      <td>0</td>\n      <td>0</td>\n      <td>0</td>\n      <td>0</td>\n      <td>0</td>\n    </tr>\n  </tbody>\n</table>\n<p>240 rows × 23 columns</p>\n</div>"
     },
     "execution_count": 91,
     "metadata": {},
     "output_type": "execute_result"
    }
   ],
   "source": [
    "stars_1hot= stars.copy()\n",
    "#1. One hot encoding de color\n",
    "\n",
    "for color in stars['Color'].unique():\n",
    "    labels= []\n",
    "    #Iteramos 1 vez por fila\n",
    "    for i in stars['Color']:\n",
    "        if i==color:\n",
    "            labels.append(1)\n",
    "        else:\n",
    "            labels.append(0)\n",
    "    stars_1hot[color]= labels\n",
    "    \n",
    "stars_1hot\n"
   ],
   "metadata": {
    "collapsed": false,
    "ExecuteTime": {
     "end_time": "2024-05-05T08:23:20.315850600Z",
     "start_time": "2024-05-05T08:23:20.136309100Z"
    }
   },
   "execution_count": 91
  },
  {
   "cell_type": "code",
   "outputs": [
    {
     "data": {
      "text/plain": "     Temperature              L          R    A_M  Color Spectral_Class  Red  \\\n0           3068       0.002400     0.1700  16.12    Red              M    1   \n1           3042       0.000500     0.1542  16.60    Red              M    1   \n2           2600       0.000300     0.1020  18.70    Red              M    1   \n3           2800       0.000200     0.1600  16.65    Red              M    1   \n4           1939       0.000138     0.1030  20.06    Red              M    1   \n..           ...            ...        ...    ...    ...            ...  ...   \n235        38940  374830.000000  1356.0000  -9.93   Blue              O    0   \n236        30839  834042.000000  1194.0000 -10.63   Blue              O    0   \n237         8829  537493.000000  1423.0000 -10.73  White              A    0   \n238         9235  404940.000000  1112.0000 -11.23  White              A    0   \n239        37882  294903.000000  1783.0000  -7.80   Blue              O    0   \n\n     Blue White  White  Yellowish White  ...  Yellowish  Orange-Red  \\\n0             0      0                0  ...          0           0   \n1             0      0                0  ...          0           0   \n2             0      0                0  ...          0           0   \n3             0      0                0  ...          0           0   \n4             0      0                0  ...          0           0   \n..          ...    ...              ...  ...        ...         ...   \n235           0      0                0  ...          0           0   \n236           0      0                0  ...          0           0   \n237           0      1                0  ...          0           0   \n238           0      1                0  ...          0           0   \n239           0      0                0  ...          0           0   \n\n     Blue-White  M  B  A  F  O  K  G  \n0             0  1  0  0  0  0  0  0  \n1             0  1  0  0  0  0  0  0  \n2             0  1  0  0  0  0  0  0  \n3             0  1  0  0  0  0  0  0  \n4             0  1  0  0  0  0  0  0  \n..          ... .. .. .. .. .. .. ..  \n235           0  0  0  0  0  1  0  0  \n236           0  0  0  0  0  1  0  0  \n237           0  0  0  1  0  0  0  0  \n238           0  0  0  1  0  0  0  0  \n239           0  0  0  0  0  1  0  0  \n\n[240 rows x 30 columns]",
      "text/html": "<div>\n<style scoped>\n    .dataframe tbody tr th:only-of-type {\n        vertical-align: middle;\n    }\n\n    .dataframe tbody tr th {\n        vertical-align: top;\n    }\n\n    .dataframe thead th {\n        text-align: right;\n    }\n</style>\n<table border=\"1\" class=\"dataframe\">\n  <thead>\n    <tr style=\"text-align: right;\">\n      <th></th>\n      <th>Temperature</th>\n      <th>L</th>\n      <th>R</th>\n      <th>A_M</th>\n      <th>Color</th>\n      <th>Spectral_Class</th>\n      <th>Red</th>\n      <th>Blue White</th>\n      <th>White</th>\n      <th>Yellowish White</th>\n      <th>...</th>\n      <th>Yellowish</th>\n      <th>Orange-Red</th>\n      <th>Blue-White</th>\n      <th>M</th>\n      <th>B</th>\n      <th>A</th>\n      <th>F</th>\n      <th>O</th>\n      <th>K</th>\n      <th>G</th>\n    </tr>\n  </thead>\n  <tbody>\n    <tr>\n      <th>0</th>\n      <td>3068</td>\n      <td>0.002400</td>\n      <td>0.1700</td>\n      <td>16.12</td>\n      <td>Red</td>\n      <td>M</td>\n      <td>1</td>\n      <td>0</td>\n      <td>0</td>\n      <td>0</td>\n      <td>...</td>\n      <td>0</td>\n      <td>0</td>\n      <td>0</td>\n      <td>1</td>\n      <td>0</td>\n      <td>0</td>\n      <td>0</td>\n      <td>0</td>\n      <td>0</td>\n      <td>0</td>\n    </tr>\n    <tr>\n      <th>1</th>\n      <td>3042</td>\n      <td>0.000500</td>\n      <td>0.1542</td>\n      <td>16.60</td>\n      <td>Red</td>\n      <td>M</td>\n      <td>1</td>\n      <td>0</td>\n      <td>0</td>\n      <td>0</td>\n      <td>...</td>\n      <td>0</td>\n      <td>0</td>\n      <td>0</td>\n      <td>1</td>\n      <td>0</td>\n      <td>0</td>\n      <td>0</td>\n      <td>0</td>\n      <td>0</td>\n      <td>0</td>\n    </tr>\n    <tr>\n      <th>2</th>\n      <td>2600</td>\n      <td>0.000300</td>\n      <td>0.1020</td>\n      <td>18.70</td>\n      <td>Red</td>\n      <td>M</td>\n      <td>1</td>\n      <td>0</td>\n      <td>0</td>\n      <td>0</td>\n      <td>...</td>\n      <td>0</td>\n      <td>0</td>\n      <td>0</td>\n      <td>1</td>\n      <td>0</td>\n      <td>0</td>\n      <td>0</td>\n      <td>0</td>\n      <td>0</td>\n      <td>0</td>\n    </tr>\n    <tr>\n      <th>3</th>\n      <td>2800</td>\n      <td>0.000200</td>\n      <td>0.1600</td>\n      <td>16.65</td>\n      <td>Red</td>\n      <td>M</td>\n      <td>1</td>\n      <td>0</td>\n      <td>0</td>\n      <td>0</td>\n      <td>...</td>\n      <td>0</td>\n      <td>0</td>\n      <td>0</td>\n      <td>1</td>\n      <td>0</td>\n      <td>0</td>\n      <td>0</td>\n      <td>0</td>\n      <td>0</td>\n      <td>0</td>\n    </tr>\n    <tr>\n      <th>4</th>\n      <td>1939</td>\n      <td>0.000138</td>\n      <td>0.1030</td>\n      <td>20.06</td>\n      <td>Red</td>\n      <td>M</td>\n      <td>1</td>\n      <td>0</td>\n      <td>0</td>\n      <td>0</td>\n      <td>...</td>\n      <td>0</td>\n      <td>0</td>\n      <td>0</td>\n      <td>1</td>\n      <td>0</td>\n      <td>0</td>\n      <td>0</td>\n      <td>0</td>\n      <td>0</td>\n      <td>0</td>\n    </tr>\n    <tr>\n      <th>...</th>\n      <td>...</td>\n      <td>...</td>\n      <td>...</td>\n      <td>...</td>\n      <td>...</td>\n      <td>...</td>\n      <td>...</td>\n      <td>...</td>\n      <td>...</td>\n      <td>...</td>\n      <td>...</td>\n      <td>...</td>\n      <td>...</td>\n      <td>...</td>\n      <td>...</td>\n      <td>...</td>\n      <td>...</td>\n      <td>...</td>\n      <td>...</td>\n      <td>...</td>\n      <td>...</td>\n    </tr>\n    <tr>\n      <th>235</th>\n      <td>38940</td>\n      <td>374830.000000</td>\n      <td>1356.0000</td>\n      <td>-9.93</td>\n      <td>Blue</td>\n      <td>O</td>\n      <td>0</td>\n      <td>0</td>\n      <td>0</td>\n      <td>0</td>\n      <td>...</td>\n      <td>0</td>\n      <td>0</td>\n      <td>0</td>\n      <td>0</td>\n      <td>0</td>\n      <td>0</td>\n      <td>0</td>\n      <td>1</td>\n      <td>0</td>\n      <td>0</td>\n    </tr>\n    <tr>\n      <th>236</th>\n      <td>30839</td>\n      <td>834042.000000</td>\n      <td>1194.0000</td>\n      <td>-10.63</td>\n      <td>Blue</td>\n      <td>O</td>\n      <td>0</td>\n      <td>0</td>\n      <td>0</td>\n      <td>0</td>\n      <td>...</td>\n      <td>0</td>\n      <td>0</td>\n      <td>0</td>\n      <td>0</td>\n      <td>0</td>\n      <td>0</td>\n      <td>0</td>\n      <td>1</td>\n      <td>0</td>\n      <td>0</td>\n    </tr>\n    <tr>\n      <th>237</th>\n      <td>8829</td>\n      <td>537493.000000</td>\n      <td>1423.0000</td>\n      <td>-10.73</td>\n      <td>White</td>\n      <td>A</td>\n      <td>0</td>\n      <td>0</td>\n      <td>1</td>\n      <td>0</td>\n      <td>...</td>\n      <td>0</td>\n      <td>0</td>\n      <td>0</td>\n      <td>0</td>\n      <td>0</td>\n      <td>1</td>\n      <td>0</td>\n      <td>0</td>\n      <td>0</td>\n      <td>0</td>\n    </tr>\n    <tr>\n      <th>238</th>\n      <td>9235</td>\n      <td>404940.000000</td>\n      <td>1112.0000</td>\n      <td>-11.23</td>\n      <td>White</td>\n      <td>A</td>\n      <td>0</td>\n      <td>0</td>\n      <td>1</td>\n      <td>0</td>\n      <td>...</td>\n      <td>0</td>\n      <td>0</td>\n      <td>0</td>\n      <td>0</td>\n      <td>0</td>\n      <td>1</td>\n      <td>0</td>\n      <td>0</td>\n      <td>0</td>\n      <td>0</td>\n    </tr>\n    <tr>\n      <th>239</th>\n      <td>37882</td>\n      <td>294903.000000</td>\n      <td>1783.0000</td>\n      <td>-7.80</td>\n      <td>Blue</td>\n      <td>O</td>\n      <td>0</td>\n      <td>0</td>\n      <td>0</td>\n      <td>0</td>\n      <td>...</td>\n      <td>0</td>\n      <td>0</td>\n      <td>0</td>\n      <td>0</td>\n      <td>0</td>\n      <td>0</td>\n      <td>0</td>\n      <td>1</td>\n      <td>0</td>\n      <td>0</td>\n    </tr>\n  </tbody>\n</table>\n<p>240 rows × 30 columns</p>\n</div>"
     },
     "execution_count": 92,
     "metadata": {},
     "output_type": "execute_result"
    }
   ],
   "source": [
    "#2. One hot encoding de Clase espectral\n",
    "for spectral in stars['Spectral_Class'].unique():\n",
    "    labels= []\n",
    "    #Iteramos 1 vez por fila\n",
    "    for i in stars['Spectral_Class']:\n",
    "        if i==spectral:\n",
    "            labels.append(1)\n",
    "        else:\n",
    "            labels.append(0)\n",
    "    stars_1hot[spectral]= labels\n",
    "    \n",
    "stars_1hot"
   ],
   "metadata": {
    "collapsed": false,
    "ExecuteTime": {
     "end_time": "2024-05-05T08:23:20.396005600Z",
     "start_time": "2024-05-05T08:23:20.196466Z"
    }
   },
   "execution_count": 92
  },
  {
   "cell_type": "code",
   "outputs": [
    {
     "data": {
      "text/plain": "array(['M', 'B', 'A', 'F', 'O', 'K', 'G'], dtype=object)"
     },
     "execution_count": 93,
     "metadata": {},
     "output_type": "execute_result"
    }
   ],
   "source": [
    "stars['Color'].unique()\n",
    "stars['Spectral_Class'].unique()"
   ],
   "metadata": {
    "collapsed": false,
    "ExecuteTime": {
     "end_time": "2024-05-05T08:23:20.504461200Z",
     "start_time": "2024-05-05T08:23:20.263650100Z"
    }
   },
   "execution_count": 93
  },
  {
   "cell_type": "markdown",
   "source": [
    "## 2. Ordinal Scale Encoding\n",
    "En esta segunda variante, convertimos las variables categóricas a escalas ordinales. "
   ],
   "metadata": {
    "collapsed": false
   }
  },
  {
   "cell_type": "code",
   "outputs": [
    {
     "data": {
      "text/plain": "     Temperature              L          R    A_M  Color  Spectral_Class\n0           3068       0.002400     0.1700  16.12    Red               0\n1           3042       0.000500     0.1542  16.60    Red               0\n2           2600       0.000300     0.1020  18.70    Red               0\n3           2800       0.000200     0.1600  16.65    Red               0\n4           1939       0.000138     0.1030  20.06    Red               0\n..           ...            ...        ...    ...    ...             ...\n235        38940  374830.000000  1356.0000  -9.93   Blue               6\n236        30839  834042.000000  1194.0000 -10.63   Blue               6\n237         8829  537493.000000  1423.0000 -10.73  White               4\n238         9235  404940.000000  1112.0000 -11.23  White               4\n239        37882  294903.000000  1783.0000  -7.80   Blue               6\n\n[240 rows x 6 columns]",
      "text/html": "<div>\n<style scoped>\n    .dataframe tbody tr th:only-of-type {\n        vertical-align: middle;\n    }\n\n    .dataframe tbody tr th {\n        vertical-align: top;\n    }\n\n    .dataframe thead th {\n        text-align: right;\n    }\n</style>\n<table border=\"1\" class=\"dataframe\">\n  <thead>\n    <tr style=\"text-align: right;\">\n      <th></th>\n      <th>Temperature</th>\n      <th>L</th>\n      <th>R</th>\n      <th>A_M</th>\n      <th>Color</th>\n      <th>Spectral_Class</th>\n    </tr>\n  </thead>\n  <tbody>\n    <tr>\n      <th>0</th>\n      <td>3068</td>\n      <td>0.002400</td>\n      <td>0.1700</td>\n      <td>16.12</td>\n      <td>Red</td>\n      <td>0</td>\n    </tr>\n    <tr>\n      <th>1</th>\n      <td>3042</td>\n      <td>0.000500</td>\n      <td>0.1542</td>\n      <td>16.60</td>\n      <td>Red</td>\n      <td>0</td>\n    </tr>\n    <tr>\n      <th>2</th>\n      <td>2600</td>\n      <td>0.000300</td>\n      <td>0.1020</td>\n      <td>18.70</td>\n      <td>Red</td>\n      <td>0</td>\n    </tr>\n    <tr>\n      <th>3</th>\n      <td>2800</td>\n      <td>0.000200</td>\n      <td>0.1600</td>\n      <td>16.65</td>\n      <td>Red</td>\n      <td>0</td>\n    </tr>\n    <tr>\n      <th>4</th>\n      <td>1939</td>\n      <td>0.000138</td>\n      <td>0.1030</td>\n      <td>20.06</td>\n      <td>Red</td>\n      <td>0</td>\n    </tr>\n    <tr>\n      <th>...</th>\n      <td>...</td>\n      <td>...</td>\n      <td>...</td>\n      <td>...</td>\n      <td>...</td>\n      <td>...</td>\n    </tr>\n    <tr>\n      <th>235</th>\n      <td>38940</td>\n      <td>374830.000000</td>\n      <td>1356.0000</td>\n      <td>-9.93</td>\n      <td>Blue</td>\n      <td>6</td>\n    </tr>\n    <tr>\n      <th>236</th>\n      <td>30839</td>\n      <td>834042.000000</td>\n      <td>1194.0000</td>\n      <td>-10.63</td>\n      <td>Blue</td>\n      <td>6</td>\n    </tr>\n    <tr>\n      <th>237</th>\n      <td>8829</td>\n      <td>537493.000000</td>\n      <td>1423.0000</td>\n      <td>-10.73</td>\n      <td>White</td>\n      <td>4</td>\n    </tr>\n    <tr>\n      <th>238</th>\n      <td>9235</td>\n      <td>404940.000000</td>\n      <td>1112.0000</td>\n      <td>-11.23</td>\n      <td>White</td>\n      <td>4</td>\n    </tr>\n    <tr>\n      <th>239</th>\n      <td>37882</td>\n      <td>294903.000000</td>\n      <td>1783.0000</td>\n      <td>-7.80</td>\n      <td>Blue</td>\n      <td>6</td>\n    </tr>\n  </tbody>\n</table>\n<p>240 rows × 6 columns</p>\n</div>"
     },
     "execution_count": 94,
     "metadata": {},
     "output_type": "execute_result"
    }
   ],
   "source": [
    "stars_ordinal= stars.copy()\n",
    "spectral_class=[\"M\", \"K\",\"G\", \"F\",\"A\",\"B\",\"O\"]\n",
    "labels= []\n",
    "    #Iteramos 1 vez por fila\n",
    "for i in stars['Spectral_Class']:\n",
    "    labels.append(spectral_class.index(i))\n",
    "       \n",
    "stars_ordinal['Spectral_Class']= labels\n",
    "    \n",
    "stars_ordinal\n"
   ],
   "metadata": {
    "collapsed": false,
    "ExecuteTime": {
     "end_time": "2024-05-05T08:23:20.546926200Z",
     "start_time": "2024-05-05T08:23:20.286855400Z"
    }
   },
   "execution_count": 94
  },
  {
   "cell_type": "code",
   "outputs": [
    {
     "ename": "NotImplementedError",
     "evalue": "iLocation based boolean indexing on an integer type is not available",
     "output_type": "error",
     "traceback": [
      "\u001B[1;31m---------------------------------------------------------------------------\u001B[0m",
      "\u001B[1;31mNotImplementedError\u001B[0m                       Traceback (most recent call last)",
      "Cell \u001B[1;32mIn[116], line 1\u001B[0m\n\u001B[1;32m----> 1\u001B[0m \u001B[43mstars\u001B[49m\u001B[38;5;241;43m.\u001B[39;49m\u001B[43miloc\u001B[49m\u001B[43m[\u001B[49m\u001B[43mstars\u001B[49m\u001B[43m[\u001B[49m\u001B[38;5;124;43m'\u001B[39;49m\u001B[38;5;124;43mColor\u001B[39;49m\u001B[38;5;124;43m'\u001B[39;49m\u001B[43m]\u001B[49m\u001B[38;5;241;43m==\u001B[39;49m\u001B[38;5;124;43m\"\u001B[39;49m\u001B[38;5;124;43mWhite-Yellow\u001B[39;49m\u001B[38;5;124;43m\"\u001B[39;49m\u001B[43m,\u001B[49m\u001B[38;5;124;43m'\u001B[39;49m\u001B[38;5;124;43mTemperature\u001B[39;49m\u001B[38;5;124;43m'\u001B[39;49m\u001B[43m]\u001B[49m\u001B[38;5;241m.\u001B[39mmean()\n",
      "File \u001B[1;32m~\\PycharmProjects\\practica2_ml\\venv\\lib\\site-packages\\pandas\\core\\indexing.py:1184\u001B[0m, in \u001B[0;36m_LocationIndexer.__getitem__\u001B[1;34m(self, key)\u001B[0m\n\u001B[0;32m   1182\u001B[0m     \u001B[38;5;28;01mif\u001B[39;00m \u001B[38;5;28mself\u001B[39m\u001B[38;5;241m.\u001B[39m_is_scalar_access(key):\n\u001B[0;32m   1183\u001B[0m         \u001B[38;5;28;01mreturn\u001B[39;00m \u001B[38;5;28mself\u001B[39m\u001B[38;5;241m.\u001B[39mobj\u001B[38;5;241m.\u001B[39m_get_value(\u001B[38;5;241m*\u001B[39mkey, takeable\u001B[38;5;241m=\u001B[39m\u001B[38;5;28mself\u001B[39m\u001B[38;5;241m.\u001B[39m_takeable)\n\u001B[1;32m-> 1184\u001B[0m     \u001B[38;5;28;01mreturn\u001B[39;00m \u001B[38;5;28;43mself\u001B[39;49m\u001B[38;5;241;43m.\u001B[39;49m\u001B[43m_getitem_tuple\u001B[49m\u001B[43m(\u001B[49m\u001B[43mkey\u001B[49m\u001B[43m)\u001B[49m\n\u001B[0;32m   1185\u001B[0m \u001B[38;5;28;01melse\u001B[39;00m:\n\u001B[0;32m   1186\u001B[0m     \u001B[38;5;66;03m# we by definition only have the 0th axis\u001B[39;00m\n\u001B[0;32m   1187\u001B[0m     axis \u001B[38;5;241m=\u001B[39m \u001B[38;5;28mself\u001B[39m\u001B[38;5;241m.\u001B[39maxis \u001B[38;5;129;01mor\u001B[39;00m \u001B[38;5;241m0\u001B[39m\n",
      "File \u001B[1;32m~\\PycharmProjects\\practica2_ml\\venv\\lib\\site-packages\\pandas\\core\\indexing.py:1690\u001B[0m, in \u001B[0;36m_iLocIndexer._getitem_tuple\u001B[1;34m(self, tup)\u001B[0m\n\u001B[0;32m   1689\u001B[0m \u001B[38;5;28;01mdef\u001B[39;00m \u001B[38;5;21m_getitem_tuple\u001B[39m(\u001B[38;5;28mself\u001B[39m, tup: \u001B[38;5;28mtuple\u001B[39m):\n\u001B[1;32m-> 1690\u001B[0m     tup \u001B[38;5;241m=\u001B[39m \u001B[38;5;28;43mself\u001B[39;49m\u001B[38;5;241;43m.\u001B[39;49m\u001B[43m_validate_tuple_indexer\u001B[49m\u001B[43m(\u001B[49m\u001B[43mtup\u001B[49m\u001B[43m)\u001B[49m\n\u001B[0;32m   1691\u001B[0m     \u001B[38;5;28;01mwith\u001B[39;00m suppress(IndexingError):\n\u001B[0;32m   1692\u001B[0m         \u001B[38;5;28;01mreturn\u001B[39;00m \u001B[38;5;28mself\u001B[39m\u001B[38;5;241m.\u001B[39m_getitem_lowerdim(tup)\n",
      "File \u001B[1;32m~\\PycharmProjects\\practica2_ml\\venv\\lib\\site-packages\\pandas\\core\\indexing.py:966\u001B[0m, in \u001B[0;36m_LocationIndexer._validate_tuple_indexer\u001B[1;34m(self, key)\u001B[0m\n\u001B[0;32m    964\u001B[0m \u001B[38;5;28;01mfor\u001B[39;00m i, k \u001B[38;5;129;01min\u001B[39;00m \u001B[38;5;28menumerate\u001B[39m(key):\n\u001B[0;32m    965\u001B[0m     \u001B[38;5;28;01mtry\u001B[39;00m:\n\u001B[1;32m--> 966\u001B[0m         \u001B[38;5;28;43mself\u001B[39;49m\u001B[38;5;241;43m.\u001B[39;49m\u001B[43m_validate_key\u001B[49m\u001B[43m(\u001B[49m\u001B[43mk\u001B[49m\u001B[43m,\u001B[49m\u001B[43m \u001B[49m\u001B[43mi\u001B[49m\u001B[43m)\u001B[49m\n\u001B[0;32m    967\u001B[0m     \u001B[38;5;28;01mexcept\u001B[39;00m \u001B[38;5;167;01mValueError\u001B[39;00m \u001B[38;5;28;01mas\u001B[39;00m err:\n\u001B[0;32m    968\u001B[0m         \u001B[38;5;28;01mraise\u001B[39;00m \u001B[38;5;167;01mValueError\u001B[39;00m(\n\u001B[0;32m    969\u001B[0m             \u001B[38;5;124m\"\u001B[39m\u001B[38;5;124mLocation based indexing can only have \u001B[39m\u001B[38;5;124m\"\u001B[39m\n\u001B[0;32m    970\u001B[0m             \u001B[38;5;124mf\u001B[39m\u001B[38;5;124m\"\u001B[39m\u001B[38;5;124m[\u001B[39m\u001B[38;5;132;01m{\u001B[39;00m\u001B[38;5;28mself\u001B[39m\u001B[38;5;241m.\u001B[39m_valid_types\u001B[38;5;132;01m}\u001B[39;00m\u001B[38;5;124m] types\u001B[39m\u001B[38;5;124m\"\u001B[39m\n\u001B[0;32m    971\u001B[0m         ) \u001B[38;5;28;01mfrom\u001B[39;00m \u001B[38;5;21;01merr\u001B[39;00m\n",
      "File \u001B[1;32m~\\PycharmProjects\\practica2_ml\\venv\\lib\\site-packages\\pandas\\core\\indexing.py:1578\u001B[0m, in \u001B[0;36m_iLocIndexer._validate_key\u001B[1;34m(self, key, axis)\u001B[0m\n\u001B[0;32m   1576\u001B[0m \u001B[38;5;28;01mif\u001B[39;00m \u001B[38;5;28mhasattr\u001B[39m(key, \u001B[38;5;124m\"\u001B[39m\u001B[38;5;124mindex\u001B[39m\u001B[38;5;124m\"\u001B[39m) \u001B[38;5;129;01mand\u001B[39;00m \u001B[38;5;28misinstance\u001B[39m(key\u001B[38;5;241m.\u001B[39mindex, Index):\n\u001B[0;32m   1577\u001B[0m     \u001B[38;5;28;01mif\u001B[39;00m key\u001B[38;5;241m.\u001B[39mindex\u001B[38;5;241m.\u001B[39minferred_type \u001B[38;5;241m==\u001B[39m \u001B[38;5;124m\"\u001B[39m\u001B[38;5;124minteger\u001B[39m\u001B[38;5;124m\"\u001B[39m:\n\u001B[1;32m-> 1578\u001B[0m         \u001B[38;5;28;01mraise\u001B[39;00m \u001B[38;5;167;01mNotImplementedError\u001B[39;00m(\n\u001B[0;32m   1579\u001B[0m             \u001B[38;5;124m\"\u001B[39m\u001B[38;5;124miLocation based boolean \u001B[39m\u001B[38;5;124m\"\u001B[39m\n\u001B[0;32m   1580\u001B[0m             \u001B[38;5;124m\"\u001B[39m\u001B[38;5;124mindexing on an integer type \u001B[39m\u001B[38;5;124m\"\u001B[39m\n\u001B[0;32m   1581\u001B[0m             \u001B[38;5;124m\"\u001B[39m\u001B[38;5;124mis not available\u001B[39m\u001B[38;5;124m\"\u001B[39m\n\u001B[0;32m   1582\u001B[0m         )\n\u001B[0;32m   1583\u001B[0m     \u001B[38;5;28;01mraise\u001B[39;00m \u001B[38;5;167;01mValueError\u001B[39;00m(\n\u001B[0;32m   1584\u001B[0m         \u001B[38;5;124m\"\u001B[39m\u001B[38;5;124miLocation based boolean indexing cannot use \u001B[39m\u001B[38;5;124m\"\u001B[39m\n\u001B[0;32m   1585\u001B[0m         \u001B[38;5;124m\"\u001B[39m\u001B[38;5;124man indexable as a mask\u001B[39m\u001B[38;5;124m\"\u001B[39m\n\u001B[0;32m   1586\u001B[0m     )\n\u001B[0;32m   1587\u001B[0m \u001B[38;5;28;01mreturn\u001B[39;00m\n",
      "\u001B[1;31mNotImplementedError\u001B[0m: iLocation based boolean indexing on an integer type is not available"
     ]
    }
   ],
   "source": [
    "stars.loc[stars['Color']==\"White-Yellow\",'Temperature'].mean()"
   ],
   "metadata": {
    "collapsed": false,
    "ExecuteTime": {
     "end_time": "2024-05-05T08:37:29.217410200Z",
     "start_time": "2024-05-05T08:37:28.587671Z"
    }
   },
   "execution_count": 116
  },
  {
   "cell_type": "code",
   "outputs": [
    {
     "data": {
      "text/plain": "     Temperature              L          R    A_M Color Spectral_Class\n0           3068       0.002400     0.1700  16.12     4              M\n1           3042       0.000500     0.1542  16.60     4              M\n2           2600       0.000300     0.1020  18.70     4              M\n3           2800       0.000200     0.1600  16.65     4              M\n4           1939       0.000138     0.1030  20.06     4              M\n..           ...            ...        ...    ...   ...            ...\n235        38940  374830.000000  1356.0000  -9.93  Blue              O\n236        30839  834042.000000  1194.0000 -10.63  Blue              O\n237         8829  537493.000000  1423.0000 -10.73     2              A\n238         9235  404940.000000  1112.0000 -11.23     2              A\n239        37882  294903.000000  1783.0000  -7.80  Blue              O\n\n[240 rows x 6 columns]",
      "text/html": "<div>\n<style scoped>\n    .dataframe tbody tr th:only-of-type {\n        vertical-align: middle;\n    }\n\n    .dataframe tbody tr th {\n        vertical-align: top;\n    }\n\n    .dataframe thead th {\n        text-align: right;\n    }\n</style>\n<table border=\"1\" class=\"dataframe\">\n  <thead>\n    <tr style=\"text-align: right;\">\n      <th></th>\n      <th>Temperature</th>\n      <th>L</th>\n      <th>R</th>\n      <th>A_M</th>\n      <th>Color</th>\n      <th>Spectral_Class</th>\n    </tr>\n  </thead>\n  <tbody>\n    <tr>\n      <th>0</th>\n      <td>3068</td>\n      <td>0.002400</td>\n      <td>0.1700</td>\n      <td>16.12</td>\n      <td>4</td>\n      <td>M</td>\n    </tr>\n    <tr>\n      <th>1</th>\n      <td>3042</td>\n      <td>0.000500</td>\n      <td>0.1542</td>\n      <td>16.60</td>\n      <td>4</td>\n      <td>M</td>\n    </tr>\n    <tr>\n      <th>2</th>\n      <td>2600</td>\n      <td>0.000300</td>\n      <td>0.1020</td>\n      <td>18.70</td>\n      <td>4</td>\n      <td>M</td>\n    </tr>\n    <tr>\n      <th>3</th>\n      <td>2800</td>\n      <td>0.000200</td>\n      <td>0.1600</td>\n      <td>16.65</td>\n      <td>4</td>\n      <td>M</td>\n    </tr>\n    <tr>\n      <th>4</th>\n      <td>1939</td>\n      <td>0.000138</td>\n      <td>0.1030</td>\n      <td>20.06</td>\n      <td>4</td>\n      <td>M</td>\n    </tr>\n    <tr>\n      <th>...</th>\n      <td>...</td>\n      <td>...</td>\n      <td>...</td>\n      <td>...</td>\n      <td>...</td>\n      <td>...</td>\n    </tr>\n    <tr>\n      <th>235</th>\n      <td>38940</td>\n      <td>374830.000000</td>\n      <td>1356.0000</td>\n      <td>-9.93</td>\n      <td>Blue</td>\n      <td>O</td>\n    </tr>\n    <tr>\n      <th>236</th>\n      <td>30839</td>\n      <td>834042.000000</td>\n      <td>1194.0000</td>\n      <td>-10.63</td>\n      <td>Blue</td>\n      <td>O</td>\n    </tr>\n    <tr>\n      <th>237</th>\n      <td>8829</td>\n      <td>537493.000000</td>\n      <td>1423.0000</td>\n      <td>-10.73</td>\n      <td>2</td>\n      <td>A</td>\n    </tr>\n    <tr>\n      <th>238</th>\n      <td>9235</td>\n      <td>404940.000000</td>\n      <td>1112.0000</td>\n      <td>-11.23</td>\n      <td>2</td>\n      <td>A</td>\n    </tr>\n    <tr>\n      <th>239</th>\n      <td>37882</td>\n      <td>294903.000000</td>\n      <td>1783.0000</td>\n      <td>-7.80</td>\n      <td>Blue</td>\n      <td>O</td>\n    </tr>\n  </tbody>\n</table>\n<p>240 rows × 6 columns</p>\n</div>"
     },
     "execution_count": 113,
     "metadata": {},
     "output_type": "execute_result"
    }
   ],
   "source": [
    "\n",
    "stars.loc[stars['Color']==\"White-Yellow\",'Color']\n",
    "stars.loc[stars['Color']==\"White\",'Color']\n",
    "stars.loc[stars['Color']==\"Yellow\",'Color']\n",
    "stars.loc[stars['Color']==\"Red\",'Color']\n",
    "\n",
    "stars\n",
    "    \n",
    "    #if row['Color']== \"Red\":\n",
    "        #row['Color']=4\n",
    "    \n",
    "#stars.head()\n",
    "    "
   ],
   "metadata": {
    "collapsed": false,
    "ExecuteTime": {
     "end_time": "2024-05-05T08:36:00.815506100Z",
     "start_time": "2024-05-05T08:36:00.658350300Z"
    }
   },
   "execution_count": 113
  },
  {
   "cell_type": "code",
   "outputs": [],
   "source": [],
   "metadata": {
    "collapsed": false
   }
  },
  {
   "cell_type": "markdown",
   "metadata": {},
   "source": [
    "### PRUEBAS"
   ]
  },
  {
   "cell_type": "code",
   "execution_count": null,
   "metadata": {
    "ExecuteTime": {
     "start_time": "2024-05-05T07:23:05.618825300Z"
    }
   },
   "outputs": [],
   "source": [
    "import statistics as s\n",
    "hola = [1, 2, 3]\n",
    "s.mean(hola)\n",
    "array1 = np.array([1, 2, 3])\n",
    "array2 = np.array([4, 5, 6])\n",
    "todos = []\n",
    "todos.append(array1)\n",
    "todos.append(array2)\n",
    "print(todos)\n",
    "# Calcular la media de los dos arrays\n",
    "media_arrays = np.mean(todos, axis = 0)\n",
    "media_arrays"
   ]
  },
  {
   "cell_type": "code",
   "execution_count": null,
   "metadata": {
    "ExecuteTime": {
     "start_time": "2024-05-05T07:23:05.631967700Z"
    }
   },
   "outputs": [],
   "source": [
    "colors = [\"#4EACC5\", \"#FF9C34\", \"#4E9A06\"]\n",
    "for i in range(kmeans.n_clusters):\n",
    "    for j in range(len(x)):\n",
    "        if kmeans._labels[j] == i:\n",
    "            plt.scatter(x[j][0], x[j][1], c=colors[i])\n",
    "\n"
   ]
  },
  {
   "cell_type": "code",
   "execution_count": null,
   "metadata": {
    "ExecuteTime": {
     "start_time": "2024-05-05T07:23:05.646888400Z"
    }
   },
   "outputs": [],
   "source": [
    "print(hola)\n",
    "print(hola[-1])"
   ]
  },
  {
   "cell_type": "code",
   "execution_count": null,
   "metadata": {
    "ExecuteTime": {
     "start_time": "2024-05-05T07:23:05.673960900Z"
    }
   },
   "outputs": [],
   "source": [
    "print(np.random.choice(list(range(0, len(stars))), size = 5, replace = False))"
   ]
  },
  {
   "cell_type": "code",
   "execution_count": null,
   "metadata": {
    "ExecuteTime": {
     "start_time": "2024-05-05T07:23:05.692293900Z"
    }
   },
   "outputs": [],
   "source": [
    "X = np.random.random(size = (100, 2))\n",
    "centroide = np.random.random_integers(0, len(X))\n",
    "centroide\n",
    "len(X)"
   ]
  },
  {
   "cell_type": "code",
   "execution_count": null,
   "metadata": {
    "ExecuteTime": {
     "start_time": "2024-05-05T07:23:05.717172400Z"
    }
   },
   "outputs": [],
   "source": [
    "centroids = []\n",
    "centroids = np.random.choice(range(0, len(X)), size = 8, replace = False)\n",
    "centroids"
   ]
  },
  {
   "cell_type": "code",
   "execution_count": null,
   "metadata": {
    "ExecuteTime": {
     "start_time": "2024-05-05T07:23:05.739984700Z"
    }
   },
   "outputs": [],
   "source": [
    "matriz = [1, 2, [3, 4], [5, 6]]\n",
    "print(matriz[0][2], matriz[2][1])"
   ]
  },
  {
   "cell_type": "code",
   "execution_count": null,
   "metadata": {
    "ExecuteTime": {
     "start_time": "2024-05-05T07:23:05.758166Z"
    }
   },
   "outputs": [],
   "source": [
    "matriz_distancias = []\n",
    "for i in range(len(X)):\n",
    "    matriz_distancias.append([])\n",
    "    for j in range(7):\n",
    "         matriz_distancias[i].append(np.random.randint(1, 10))\n",
    "\n"
   ]
  },
  {
   "cell_type": "code",
   "execution_count": null,
   "metadata": {
    "ExecuteTime": {
     "start_time": "2024-05-05T07:23:05.769120400Z"
    }
   },
   "outputs": [],
   "source": [
    "labels_=[]\n",
    "for i in range(len(matriz_distancias)):\n",
    "    labels_.append(np.argmin(matriz_distancias[i], axis = 0))\n",
    "\n",
    "labels_"
   ]
  },
  {
   "cell_type": "code",
   "execution_count": null,
   "metadata": {
    "ExecuteTime": {
     "start_time": "2024-05-05T07:23:05.783102100Z"
    }
   },
   "outputs": [],
   "source": [
    "np.random.randint(1, 10)"
   ]
  },
  {
   "cell_type": "code",
   "execution_count": null,
   "metadata": {
    "ExecuteTime": {
     "start_time": "2024-05-05T07:23:05.795492400Z"
    }
   },
   "outputs": [],
   "source": [
    "np.argmin(matriz_distancias, axis=0)"
   ]
  },
  {
   "cell_type": "code",
   "execution_count": null,
   "metadata": {
    "ExecuteTime": {
     "start_time": "2024-05-05T07:23:05.801475300Z"
    }
   },
   "outputs": [],
   "source": [
    "kmeans = KMeans()\n",
    "kmeans.fit(X)"
   ]
  },
  {
   "cell_type": "markdown",
   "metadata": {},
   "source": [
    "Scikit learn es una librería de código abierto, se puede ver cómo está implementado en Scikit learn, no copiar la misma solución, pero usarlo como inspiración. Hay un apartado de indicar similitud con scikit learn."
   ]
  },
  {
   "cell_type": "markdown",
   "metadata": {},
   "source": []
  },
  {
   "cell_type": "markdown",
   "metadata": {},
   "source": [
    "## PCA\n",
    "Algoritmo no supervisado muy útil, reduce la dimensionalidad de los datos (columnas). En lugar de eliminar columnas, existen métodos más interesantes que ese.\n",
    "Prdecir el número escrito en el gráfico en base a la luminosidad de los píxeles. Se ve bien con cmap = 'Greys'.\n",
    "\n",
    "Se usará el algoritmo PCA antes del algoritmo de clustering, y el de clustering se usará sobre las dos dimensiones que devuelve PCA (kmeans o lo que sea)"
   ]
  },
  {
   "cell_type": "code",
   "execution_count": null,
   "metadata": {
    "ExecuteTime": {
     "start_time": "2024-05-05T07:23:05.807503600Z"
    }
   },
   "outputs": [],
   "source": [
    "from sklearn.datasets import load_digits\n",
    "import matplotlib.pylot as plt\n",
    "\n",
    "from sklearn.decomposition import PCA\n",
    "\n",
    "X = load.digits().data\n",
    "X.shape\n",
    "plt.imshow(np.reshape(X[0], (8,8)))\n",
    "pca = PCA.fit(X)\n",
    "plt.plot"
   ]
  },
  {
   "cell_type": "code",
   "execution_count": null,
   "metadata": {
    "ExecuteTime": {
     "start_time": "2024-05-05T07:23:05.812494500Z"
    }
   },
   "outputs": [],
   "source": [
    "X_pca"
   ]
  },
  {
   "cell_type": "markdown",
   "metadata": {},
   "source": [
    "# Pruebas fallidas..."
   ]
  },
  {
   "cell_type": "code",
   "execution_count": null,
   "metadata": {
    "ExecuteTime": {
     "start_time": "2024-05-05T07:23:05.820274700Z"
    }
   },
   "outputs": [],
   "source": [
    "\"\"\"self.history.centroids\n",
    "        \n",
    "        for i in range(self.n_clusters):\n",
    "            centroide = np.random.random_integers(0, len(self.X)-1, size=self.n_clusters)\n",
    "            \n",
    "            for c in centroide:\n",
    "                if centroide.count(c) == 1:\n",
    "                    self.history.centroids.append(X[c])\n",
    "                else:\n",
    "                    centroide[c] = np.random.random_integers(0, len(self.X)-1)\n",
    "                    while centroide\n",
    "            \n",
    "            duplicate = False\n",
    "            while self.history.centroids du\n",
    "            if i>0:\n",
    "                for i in range(len(self.history.centroids)):\n",
    "                    if centroide == self.history.centroids[i]:\n",
    "                        \n",
    "            self.history.centroids.append(np.)\"\"\""
   ]
  }
 ],
 "metadata": {
  "kernelspec": {
   "display_name": "Python 3",
   "language": "python",
   "name": "python3"
  },
  "language_info": {
   "codemirror_mode": {
    "name": "ipython",
    "version": 3
   },
   "file_extension": ".py",
   "mimetype": "text/x-python",
   "name": "python",
   "nbconvert_exporter": "python",
   "pygments_lexer": "ipython3",
   "version": "3.8.5"
  }
 },
 "nbformat": 4,
 "nbformat_minor": 4
}
