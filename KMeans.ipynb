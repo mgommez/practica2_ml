{
 "cells": [
  {
   "cell_type": "markdown",
   "metadata": {},
   "source": [
    "# Práctica 2\n",
    "K-means\n",
    "    Elegir instacias del dataset como centroides iniciales\n",
    "    Distirbuir puntos del dataset a los centroides\n",
    "    Calcular la media de las distancias respecto de los puntos\n",
    "    Se recalculaba el centroide \n",
    "    Repetir hasta que no haya cambios\n",
    "    \n",
    "Estaría bien usar la misma interfaz que sckikit learn\n",
    "Kmeans = Kmeans(K=5)\n",
    "Kmeans.fit(X)\n",
    "Kmeans.predict(X)\n",
    "\n",
    "Tenemos un conjunto de datos, eliges el numero de clusters (n_clusters), asignas los centroides a unos datos aleatoriamente (init -> puntos aleatorios del dataset), y después asignas los datos a los clusters (asignar_clusters). Después hay que computar los nuevos centroides en un bucle y volver a asignar los clusters hasta que se cumpla la condición de parada."
   ]
  },
  {
   "cell_type": "code",
   "execution_count": 2,
   "metadata": {},
   "outputs": [
    {
     "ename": "SyntaxError",
     "evalue": "invalid syntax (<ipython-input-2-07999c8ae24a>, line 3)",
     "output_type": "error",
     "traceback": [
      "\u001b[1;36m  File \u001b[1;32m\"<ipython-input-2-07999c8ae24a>\"\u001b[1;36m, line \u001b[1;32m3\u001b[0m\n\u001b[1;33m    import sklearn.cluster import KMeans\u001b[0m\n\u001b[1;37m                           ^\u001b[0m\n\u001b[1;31mSyntaxError\u001b[0m\u001b[1;31m:\u001b[0m invalid syntax\n"
     ]
    }
   ],
   "source": [
    "# con la librería de SciKit Learn:\n",
    "\n",
    "import sklearn.cluster import KMeans\n",
    "\n",
    "kmeans = KMeans()\n",
    "kmeans.fit(X)\n",
    "kmeans.predict(X)"
   ]
  },
  {
   "cell_type": "code",
   "execution_count": 3,
   "metadata": {},
   "outputs": [],
   "source": [
    "import pandas as pd\n",
    "stars = pd.read_csv('Stars2.csv')"
   ]
  },
  {
   "cell_type": "code",
   "execution_count": 9,
   "metadata": {},
   "outputs": [
    {
     "data": {
      "text/plain": [
       "240"
      ]
     },
     "execution_count": 9,
     "metadata": {},
     "output_type": "execute_result"
    }
   ],
   "source": [
    "stars.shape\n",
    "len(stars)"
   ]
  },
  {
   "cell_type": "code",
   "execution_count": 3,
   "metadata": {},
   "outputs": [
    {
     "data": {
      "text/html": [
       "<div>\n",
       "<style scoped>\n",
       "    .dataframe tbody tr th:only-of-type {\n",
       "        vertical-align: middle;\n",
       "    }\n",
       "\n",
       "    .dataframe tbody tr th {\n",
       "        vertical-align: top;\n",
       "    }\n",
       "\n",
       "    .dataframe thead th {\n",
       "        text-align: right;\n",
       "    }\n",
       "</style>\n",
       "<table border=\"1\" class=\"dataframe\">\n",
       "  <thead>\n",
       "    <tr style=\"text-align: right;\">\n",
       "      <th></th>\n",
       "      <th>Temperature</th>\n",
       "      <th>L</th>\n",
       "      <th>R</th>\n",
       "      <th>A_M</th>\n",
       "      <th>Color</th>\n",
       "      <th>Spectral_Class</th>\n",
       "    </tr>\n",
       "  </thead>\n",
       "  <tbody>\n",
       "    <tr>\n",
       "      <th>0</th>\n",
       "      <td>3068</td>\n",
       "      <td>0.002400</td>\n",
       "      <td>0.1700</td>\n",
       "      <td>16.12</td>\n",
       "      <td>Red</td>\n",
       "      <td>M</td>\n",
       "    </tr>\n",
       "    <tr>\n",
       "      <th>1</th>\n",
       "      <td>3042</td>\n",
       "      <td>0.000500</td>\n",
       "      <td>0.1542</td>\n",
       "      <td>16.60</td>\n",
       "      <td>Red</td>\n",
       "      <td>M</td>\n",
       "    </tr>\n",
       "    <tr>\n",
       "      <th>2</th>\n",
       "      <td>2600</td>\n",
       "      <td>0.000300</td>\n",
       "      <td>0.1020</td>\n",
       "      <td>18.70</td>\n",
       "      <td>Red</td>\n",
       "      <td>M</td>\n",
       "    </tr>\n",
       "    <tr>\n",
       "      <th>3</th>\n",
       "      <td>2800</td>\n",
       "      <td>0.000200</td>\n",
       "      <td>0.1600</td>\n",
       "      <td>16.65</td>\n",
       "      <td>Red</td>\n",
       "      <td>M</td>\n",
       "    </tr>\n",
       "    <tr>\n",
       "      <th>4</th>\n",
       "      <td>1939</td>\n",
       "      <td>0.000138</td>\n",
       "      <td>0.1030</td>\n",
       "      <td>20.06</td>\n",
       "      <td>Red</td>\n",
       "      <td>M</td>\n",
       "    </tr>\n",
       "  </tbody>\n",
       "</table>\n",
       "</div>"
      ],
      "text/plain": [
       "   Temperature         L       R    A_M Color Spectral_Class\n",
       "0         3068  0.002400  0.1700  16.12   Red              M\n",
       "1         3042  0.000500  0.1542  16.60   Red              M\n",
       "2         2600  0.000300  0.1020  18.70   Red              M\n",
       "3         2800  0.000200  0.1600  16.65   Red              M\n",
       "4         1939  0.000138  0.1030  20.06   Red              M"
      ]
     },
     "execution_count": 3,
     "metadata": {},
     "output_type": "execute_result"
    }
   ],
   "source": [
    "stars.head()"
   ]
  },
  {
   "cell_type": "code",
   "execution_count": 11,
   "metadata": {},
   "outputs": [],
   "source": [
    "import numpy as np"
   ]
  },
  {
   "cell_type": "code",
   "execution_count": 12,
   "metadata": {},
   "outputs": [],
   "source": [
    "import matplotlib.pyplot as plt"
   ]
  },
  {
   "cell_type": "code",
   "execution_count": null,
   "metadata": {},
   "outputs": [],
   "source": [
    "class KMeans_Ours():\n",
    "    def __init__(self, n_clusters=8, max_iter=300, random_state=55):\n",
    "        self.n_clusters = k\n",
    "        self.max_iter = max_iter\n",
    "        self.iter = 0\n",
    "        self.random_state = random_state\n",
    "        \n",
    "        self.history = {\n",
    "            'centroids': []\n",
    "            'labels':[]\n",
    "            'inertia': [] #computar la distancia de todos los puntos al centroide al que pertenecen y calcular la distancia\n",
    "        }\n",
    "    \n",
    "    def fit(self, X):\n",
    "        self.X = X\n",
    "        self._assign_centroids()\n",
    "        self._assign_labels()\n",
    "        \n",
    "        while not self._stop: # si se llega a max iter o si centroides no cambian (con último valor de self.history), una u otra\n",
    "            self._add_history_step() # con esto podemos hacer un gráfico (no se pide pero quedaría rechulón)\n",
    "            \n",
    "            self._update_centroides()\n",
    "            self._assign_labels()\n",
    "            \n",
    "            self.iter += 1\n",
    "            \n",
    "        \n",
    "        ###algoritmo: asignar centroides....\n",
    "    \n",
    "    def predict(self, X):\n",
    "        # contemplar posibilidad de triangulación\n",
    "        pass\n",
    "    \n",
    "    def _assign_centroides(self):\n",
    "        # utilizar el módulo random de numpy para asignar los centroides: check\n",
    "        # sólo para la primera iteración (asignación de centroides iniciales): check\n",
    "        # un centroide a la misma posición dato aleatoriamente \n",
    "        # con replace = false nos aseguramos de que no se repita el mismo valor para dos centroides diferentes,\n",
    "        # de forma que todos los centroides tomen coordenadas distintas\n",
    "        self.centroids = np.random.choice(list(range(0, len(self.X))), size = n_clusters, replace = False)\n",
    "        # asignar valores de los datos a los que equivalen esas posiciones en la tabla a los \"centroides\"        \n",
    "    \n",
    "    def _assign_labels(self):\n",
    "        # función para asignar los datos a un centroides\n",
    "        # linalg.norm -> normaliza los vectores, no calcula distancias como tal; no es lo que buscamos\n",
    "        matriz_distancias = []\n",
    "        \n",
    "        # generación de la matriz\n",
    "        for i in range(len(self.X)):\n",
    "            matriz_distancias.append([])\n",
    "            for j in range(len(self.n_clusters)):\n",
    "                # self.X[i].atributo_necesario_para_calcular_distancia ?\n",
    "                matriz_distancias[i].append(self._compute_inertia(self.X[i], self.centroids))\n",
    "        \n",
    "        # encasillamiento con labels de cada dato a su respectivo centroide \n",
    "        self.labels_ = []\n",
    "        for i in range(len(matriz_distancias)):\n",
    "            self.labels_.append(np.argmin(matriz_distancias[i], axis = 0))\n",
    "\n",
    "        \n",
    "        #self.labels_ = np.argmin(axis=0) # utilizar el argmin\n",
    "        #np.argmin(axis=0)\n",
    "    \n",
    "    \n",
    "    def _stop(self):\n",
    "        \"\"\" condición de parada del bucle de actualizaciónd e labels y centroides de función fit() \"\"\"\n",
    "        if (self.iter == self.max_iter) or (self.centroids == self.history['centroids']):\n",
    "            return True\n",
    "        return False\n",
    "    \n",
    "    def _update_centroides(self):\n",
    "        # siguientes iteraciones para reposicionar los centroides\n",
    "        for i in range(len(self.n_centroids)):\n",
    "            # self.n_centroids[] X[labels_==self.centroids[i]].mean(axis = 0)\n",
    "            ...\n",
    "    \n",
    "    def _compute_inertia(self, x, y):\n",
    "        \"\"\" distancia entre el punto 'x' y el punto 'y' \"\"\"\n",
    "        self.inertia = ...\n",
    "        \n",
    "    def _add_history_step(self):\n",
    "        \"\"\" actualización de historial de centroides para nueva iteración \"\"\"\n",
    "        self.history['centroids'] = centroids  \n",
    "        self.history['labels'] = self.labels_\n",
    "        self.history['inertia'] = self.inertia\n",
    "    \n",
    "    \n",
    "    \n",
    "    \n",
    "    def asignar_distancias(self):\n",
    "        # == compute_inertia()\n",
    "        pass\n",
    "    \n",
    "    "
   ]
  },
  {
   "cell_type": "code",
   "execution_count": 37,
   "metadata": {},
   "outputs": [
    {
     "name": "stderr",
     "output_type": "stream",
     "text": [
      "<ipython-input-37-f68aa6cb5981>:2: DeprecationWarning: This function is deprecated. Please call randint(0, 100 + 1) instead\n",
      "  centroide = np.random.random_integers(0, len(X))\n"
     ]
    },
    {
     "data": {
      "text/plain": [
       "100"
      ]
     },
     "execution_count": 37,
     "metadata": {},
     "output_type": "execute_result"
    }
   ],
   "source": [
    "X = np.random.random(size = (100, 2))\n",
    "centroide = np.random.random_integers(0, len(X))\n",
    "centroide\n",
    "len(X)"
   ]
  },
  {
   "cell_type": "code",
   "execution_count": 17,
   "metadata": {},
   "outputs": [
    {
     "data": {
      "text/plain": [
       "array([24, 12, 50, 71, 13, 36, 70, 15])"
      ]
     },
     "execution_count": 17,
     "metadata": {},
     "output_type": "execute_result"
    }
   ],
   "source": [
    "centroids = []\n",
    "centroids = np.random.choice(range(0, len(X)), size = 8, replace = False)\n",
    "centroids"
   ]
  },
  {
   "cell_type": "code",
   "execution_count": 39,
   "metadata": {},
   "outputs": [
    {
     "ename": "TypeError",
     "evalue": "'int' object is not subscriptable",
     "output_type": "error",
     "traceback": [
      "\u001b[1;31m---------------------------------------------------------------------------\u001b[0m",
      "\u001b[1;31mTypeError\u001b[0m                                 Traceback (most recent call last)",
      "\u001b[1;32m<ipython-input-39-2d53fa6cb780>\u001b[0m in \u001b[0;36m<module>\u001b[1;34m\u001b[0m\n\u001b[0;32m      1\u001b[0m \u001b[0mmatriz\u001b[0m \u001b[1;33m=\u001b[0m \u001b[1;33m[\u001b[0m\u001b[1;36m1\u001b[0m\u001b[1;33m,\u001b[0m \u001b[1;36m2\u001b[0m\u001b[1;33m,\u001b[0m \u001b[1;33m[\u001b[0m\u001b[1;36m3\u001b[0m\u001b[1;33m,\u001b[0m \u001b[1;36m4\u001b[0m\u001b[1;33m]\u001b[0m\u001b[1;33m,\u001b[0m \u001b[1;33m[\u001b[0m\u001b[1;36m5\u001b[0m\u001b[1;33m,\u001b[0m \u001b[1;36m6\u001b[0m\u001b[1;33m]\u001b[0m\u001b[1;33m]\u001b[0m\u001b[1;33m\u001b[0m\u001b[1;33m\u001b[0m\u001b[0m\n\u001b[1;32m----> 2\u001b[1;33m \u001b[0mprint\u001b[0m\u001b[1;33m(\u001b[0m\u001b[0mmatriz\u001b[0m\u001b[1;33m[\u001b[0m\u001b[1;36m0\u001b[0m\u001b[1;33m]\u001b[0m\u001b[1;33m[\u001b[0m\u001b[1;36m2\u001b[0m\u001b[1;33m]\u001b[0m\u001b[1;33m,\u001b[0m \u001b[0mmatriz\u001b[0m\u001b[1;33m[\u001b[0m\u001b[1;36m2\u001b[0m\u001b[1;33m]\u001b[0m\u001b[1;33m[\u001b[0m\u001b[1;36m1\u001b[0m\u001b[1;33m]\u001b[0m\u001b[1;33m)\u001b[0m\u001b[1;33m\u001b[0m\u001b[1;33m\u001b[0m\u001b[0m\n\u001b[0m",
      "\u001b[1;31mTypeError\u001b[0m: 'int' object is not subscriptable"
     ]
    }
   ],
   "source": [
    "matriz = [1, 2, [3, 4], [5, 6]]\n",
    "print(matriz[0][2], matriz[2][1])"
   ]
  },
  {
   "cell_type": "code",
   "execution_count": 57,
   "metadata": {},
   "outputs": [
    {
     "data": {
      "text/plain": [
       "[[5, 2, 1, 4, 3, 3, 7],\n",
       " [1, 7, 2, 8, 1, 5, 3],\n",
       " [6, 1, 5, 5, 9, 8, 6],\n",
       " [7, 3, 9, 6, 7, 8, 9],\n",
       " [9, 5, 4, 8, 1, 2, 8],\n",
       " [3, 7, 1, 2, 9, 6, 8],\n",
       " [2, 7, 9, 4, 4, 6, 7],\n",
       " [3, 8, 5, 1, 2, 5, 6],\n",
       " [3, 2, 3, 3, 3, 6, 4],\n",
       " [1, 4, 9, 3, 9, 3, 5],\n",
       " [2, 6, 7, 6, 6, 6, 1],\n",
       " [4, 2, 8, 9, 9, 5, 3],\n",
       " [8, 9, 8, 7, 2, 7, 4],\n",
       " [1, 9, 7, 9, 5, 3, 8],\n",
       " [6, 6, 2, 8, 6, 3, 9],\n",
       " [6, 1, 6, 2, 6, 5, 1],\n",
       " [8, 9, 7, 1, 7, 1, 4],\n",
       " [9, 7, 6, 1, 5, 2, 8],\n",
       " [7, 2, 5, 2, 6, 2, 5],\n",
       " [9, 8, 1, 1, 5, 5, 1],\n",
       " [7, 7, 1, 2, 7, 5, 2],\n",
       " [2, 4, 3, 7, 8, 4, 5],\n",
       " [1, 6, 5, 3, 6, 6, 1],\n",
       " [6, 8, 1, 8, 2, 6, 4],\n",
       " [9, 6, 1, 2, 7, 7, 3],\n",
       " [8, 3, 9, 9, 6, 1, 1],\n",
       " [5, 1, 6, 6, 3, 7, 5],\n",
       " [2, 3, 2, 6, 5, 9, 5],\n",
       " [2, 4, 9, 5, 3, 5, 2],\n",
       " [3, 3, 7, 7, 9, 1, 8],\n",
       " [6, 7, 6, 6, 4, 5, 2],\n",
       " [7, 7, 4, 7, 9, 7, 6],\n",
       " [7, 2, 3, 8, 1, 5, 8],\n",
       " [5, 6, 4, 9, 6, 9, 1],\n",
       " [1, 8, 6, 8, 9, 7, 5],\n",
       " [5, 7, 1, 2, 5, 7, 7],\n",
       " [4, 9, 2, 2, 5, 2, 3],\n",
       " [2, 6, 6, 1, 6, 3, 4],\n",
       " [6, 7, 1, 8, 8, 6, 6],\n",
       " [3, 5, 9, 5, 6, 7, 1],\n",
       " [2, 4, 8, 9, 8, 3, 6],\n",
       " [2, 2, 5, 3, 6, 6, 5],\n",
       " [1, 4, 5, 6, 2, 2, 2],\n",
       " [2, 2, 7, 1, 6, 2, 9],\n",
       " [6, 4, 3, 9, 3, 2, 4],\n",
       " [6, 2, 2, 3, 1, 2, 7],\n",
       " [7, 2, 5, 3, 3, 5, 1],\n",
       " [6, 1, 8, 5, 8, 6, 9],\n",
       " [9, 1, 7, 1, 9, 3, 6],\n",
       " [6, 6, 7, 5, 6, 2, 4],\n",
       " [4, 8, 4, 9, 9, 4, 2],\n",
       " [3, 4, 4, 7, 6, 5, 2],\n",
       " [1, 7, 9, 6, 9, 4, 7],\n",
       " [5, 1, 5, 1, 2, 2, 9],\n",
       " [1, 3, 9, 1, 1, 4, 6],\n",
       " [3, 4, 3, 9, 9, 1, 3],\n",
       " [2, 5, 1, 9, 3, 6, 2],\n",
       " [9, 5, 5, 5, 6, 6, 5],\n",
       " [4, 2, 6, 8, 9, 4, 4],\n",
       " [6, 7, 6, 1, 9, 9, 8],\n",
       " [8, 2, 3, 5, 9, 7, 9],\n",
       " [5, 5, 3, 9, 8, 8, 7],\n",
       " [1, 9, 8, 3, 3, 4, 1],\n",
       " [1, 1, 3, 8, 6, 7, 4],\n",
       " [9, 6, 7, 5, 4, 3, 8],\n",
       " [7, 7, 9, 3, 8, 4, 6],\n",
       " [7, 6, 3, 3, 1, 2, 4],\n",
       " [1, 1, 9, 2, 3, 2, 8],\n",
       " [5, 2, 8, 6, 4, 3, 1],\n",
       " [8, 2, 5, 4, 8, 6, 7],\n",
       " [8, 3, 9, 5, 1, 9, 7],\n",
       " [3, 6, 4, 9, 5, 6, 8],\n",
       " [4, 7, 1, 2, 4, 9, 8],\n",
       " [5, 7, 7, 6, 8, 7, 8],\n",
       " [9, 2, 1, 8, 2, 1, 6],\n",
       " [8, 9, 5, 8, 7, 8, 9],\n",
       " [4, 1, 4, 6, 3, 5, 8],\n",
       " [2, 5, 4, 3, 6, 2, 5],\n",
       " [3, 2, 2, 4, 4, 1, 5],\n",
       " [3, 3, 1, 9, 7, 9, 9],\n",
       " [5, 8, 2, 4, 2, 3, 1],\n",
       " [1, 1, 6, 1, 8, 1, 9],\n",
       " [8, 2, 7, 2, 5, 2, 4],\n",
       " [4, 2, 1, 7, 8, 9, 3],\n",
       " [1, 9, 3, 9, 5, 9, 3],\n",
       " [1, 7, 3, 6, 1, 7, 9],\n",
       " [3, 5, 7, 9, 3, 9, 8],\n",
       " [9, 7, 4, 6, 2, 2, 4],\n",
       " [8, 5, 1, 3, 1, 5, 3],\n",
       " [9, 4, 8, 3, 4, 8, 1],\n",
       " [1, 2, 7, 1, 3, 2, 7],\n",
       " [8, 5, 2, 6, 9, 1, 3],\n",
       " [1, 1, 5, 2, 5, 4, 1],\n",
       " [7, 7, 5, 4, 6, 4, 7],\n",
       " [9, 1, 5, 5, 8, 2, 1],\n",
       " [5, 5, 1, 9, 9, 9, 8],\n",
       " [2, 8, 1, 9, 5, 5, 6],\n",
       " [5, 3, 5, 9, 8, 2, 6],\n",
       " [7, 6, 8, 7, 9, 5, 7],\n",
       " [1, 1, 6, 3, 1, 5, 2]]"
      ]
     },
     "execution_count": 57,
     "metadata": {},
     "output_type": "execute_result"
    }
   ],
   "source": [
    "matriz_distancias = []\n",
    "for i in range(len(X)):\n",
    "    matriz_distancias.append([])\n",
    "    for j in range(7):\n",
    "         matriz_distancias[i].append(np.random.randint(1, 10))\n",
    "\n"
   ]
  },
  {
   "cell_type": "code",
   "execution_count": 72,
   "metadata": {},
   "outputs": [
    {
     "data": {
      "text/plain": [
       "[2,\n",
       " 0,\n",
       " 1,\n",
       " 1,\n",
       " 4,\n",
       " 2,\n",
       " 0,\n",
       " 3,\n",
       " 1,\n",
       " 0,\n",
       " 6,\n",
       " 1,\n",
       " 4,\n",
       " 0,\n",
       " 2,\n",
       " 1,\n",
       " 3,\n",
       " 3,\n",
       " 1,\n",
       " 2,\n",
       " 2,\n",
       " 0,\n",
       " 0,\n",
       " 2,\n",
       " 2,\n",
       " 5,\n",
       " 1,\n",
       " 0,\n",
       " 0,\n",
       " 5,\n",
       " 6,\n",
       " 2,\n",
       " 4,\n",
       " 6,\n",
       " 0,\n",
       " 2,\n",
       " 2,\n",
       " 3,\n",
       " 2,\n",
       " 6,\n",
       " 0,\n",
       " 0,\n",
       " 0,\n",
       " 3,\n",
       " 5,\n",
       " 4,\n",
       " 6,\n",
       " 1,\n",
       " 1,\n",
       " 5,\n",
       " 6,\n",
       " 6,\n",
       " 0,\n",
       " 1,\n",
       " 0,\n",
       " 5,\n",
       " 2,\n",
       " 1,\n",
       " 1,\n",
       " 3,\n",
       " 1,\n",
       " 2,\n",
       " 0,\n",
       " 0,\n",
       " 5,\n",
       " 3,\n",
       " 4,\n",
       " 0,\n",
       " 6,\n",
       " 1,\n",
       " 4,\n",
       " 0,\n",
       " 2,\n",
       " 0,\n",
       " 2,\n",
       " 2,\n",
       " 1,\n",
       " 0,\n",
       " 5,\n",
       " 2,\n",
       " 6,\n",
       " 0,\n",
       " 1,\n",
       " 2,\n",
       " 0,\n",
       " 0,\n",
       " 0,\n",
       " 4,\n",
       " 2,\n",
       " 6,\n",
       " 0,\n",
       " 5,\n",
       " 0,\n",
       " 3,\n",
       " 1,\n",
       " 2,\n",
       " 2,\n",
       " 5,\n",
       " 5,\n",
       " 0]"
      ]
     },
     "execution_count": 72,
     "metadata": {},
     "output_type": "execute_result"
    }
   ],
   "source": [
    "labels_=[]\n",
    "for i in range(len(matriz_distancias)):\n",
    "    labels_.append(np.argmin(matriz_distancias[i], axis = 0))\n",
    "\n",
    "labels_"
   ]
  },
  {
   "cell_type": "code",
   "execution_count": 30,
   "metadata": {},
   "outputs": [
    {
     "data": {
      "text/plain": [
       "5"
      ]
     },
     "execution_count": 30,
     "metadata": {},
     "output_type": "execute_result"
    }
   ],
   "source": [
    "np.random.randint(1, 10)"
   ]
  },
  {
   "cell_type": "code",
   "execution_count": 71,
   "metadata": {},
   "outputs": [
    {
     "data": {
      "text/plain": [
       "array([2, 0, 1, 1, 4, 2, 0, 3, 1, 0, 6, 1, 4, 0, 2, 1, 3, 3, 1, 2, 2, 0,\n",
       "       0, 2, 2, 5, 1, 0, 0, 5, 6, 2, 4, 6, 0, 2, 2, 3, 2, 6, 0, 0, 0, 3,\n",
       "       5, 4, 6, 1, 1, 5, 6, 6, 0, 1, 0, 5, 2, 1, 1, 3, 1, 2, 0, 0, 5, 3,\n",
       "       4, 0, 6, 1, 4, 0, 2, 0, 2, 2, 1, 0, 5, 2, 6, 0, 1, 2, 0, 0, 0, 4,\n",
       "       2, 6, 0, 5, 0, 3, 1, 2, 2, 5, 5, 0], dtype=int64)"
      ]
     },
     "execution_count": 71,
     "metadata": {},
     "output_type": "execute_result"
    }
   ],
   "source": [
    "np.argmin(matriz_distancias, axis=0)"
   ]
  },
  {
   "cell_type": "code",
   "execution_count": 26,
   "metadata": {},
   "outputs": [
    {
     "ename": "NameError",
     "evalue": "name 'KMeans' is not defined",
     "output_type": "error",
     "traceback": [
      "\u001b[1;31m---------------------------------------------------------------------------\u001b[0m",
      "\u001b[1;31mNameError\u001b[0m                                 Traceback (most recent call last)",
      "\u001b[1;32m<ipython-input-26-adb88f594a00>\u001b[0m in \u001b[0;36m<module>\u001b[1;34m\u001b[0m\n\u001b[1;32m----> 1\u001b[1;33m \u001b[0mkmeans\u001b[0m \u001b[1;33m=\u001b[0m \u001b[0mKMeans\u001b[0m\u001b[1;33m(\u001b[0m\u001b[1;33m)\u001b[0m\u001b[1;33m\u001b[0m\u001b[1;33m\u001b[0m\u001b[0m\n\u001b[0m\u001b[0;32m      2\u001b[0m \u001b[0mkmeans\u001b[0m\u001b[1;33m.\u001b[0m\u001b[0mfit\u001b[0m\u001b[1;33m(\u001b[0m\u001b[0mX\u001b[0m\u001b[1;33m)\u001b[0m\u001b[1;33m\u001b[0m\u001b[1;33m\u001b[0m\u001b[0m\n",
      "\u001b[1;31mNameError\u001b[0m: name 'KMeans' is not defined"
     ]
    }
   ],
   "source": [
    "kmeans = KMeans()\n",
    "kmeans.fit(X)"
   ]
  },
  {
   "cell_type": "markdown",
   "metadata": {},
   "source": [
    "Scikit learn es una librería de código abierto, se puede ver cómo está implementado en Scikit learn, no copiar la misma solución, pero usarlo como inspiración. Hay un apartado de indicar similitud con scikit learn."
   ]
  },
  {
   "cell_type": "markdown",
   "metadata": {},
   "source": []
  },
  {
   "cell_type": "markdown",
   "metadata": {},
   "source": [
    "## PCA\n",
    "Algoritmo no supervisado muy útil, reduce la dimensionalidad de los datos (columnas). En lugar de eliminar columnas, existen métodos más interesantes que ese.\n",
    "Prdecir el número escrito en el gráfico en base a la luminosidad de los píxeles. Se ve bien con cmap = 'Greys'.\n",
    "\n",
    "Se usará el algoritmo PCA antes del algoritmo de clustering, y el de clustering se usará sobre las dos dimensiones que devuelve PCA (kmeans o lo que sea)"
   ]
  },
  {
   "cell_type": "code",
   "execution_count": null,
   "metadata": {},
   "outputs": [],
   "source": [
    "from sklearn.datasets import load_digits\n",
    "import matplotlib.pylot as plt\n",
    "\n",
    "from sklearn.decomposition import PCA\n",
    "\n",
    "X = load.digits().data\n",
    "X.shape\n",
    "plt.imshow(np.reshape(X[0], (8,8)))\n",
    "pca = PCA.fit(X)\n",
    "plt.plot"
   ]
  },
  {
   "cell_type": "code",
   "execution_count": null,
   "metadata": {},
   "outputs": [],
   "source": [
    "X_pca"
   ]
  },
  {
   "cell_type": "markdown",
   "metadata": {},
   "source": [
    "# Pruebas fallidas..."
   ]
  },
  {
   "cell_type": "code",
   "execution_count": null,
   "metadata": {},
   "outputs": [],
   "source": [
    "\"\"\"self.history.centroids\n",
    "        \n",
    "        for i in range(self.n_clusters):\n",
    "            centroide = np.random.random_integers(0, len(self.X)-1, size=self.n_clusters)\n",
    "            \n",
    "            for c in centroide:\n",
    "                if centroide.count(c) == 1:\n",
    "                    self.history.centroids.append(X[c])\n",
    "                else:\n",
    "                    centroide[c] = np.random.random_integers(0, len(self.X)-1)\n",
    "                    while centroide\n",
    "            \n",
    "            duplicate = False\n",
    "            while self.history.centroids du\n",
    "            if i>0:\n",
    "                for i in range(len(self.history.centroids)):\n",
    "                    if centroide == self.history.centroids[i]:\n",
    "                        \n",
    "            self.history.centroids.append(np.)\"\"\""
   ]
  }
 ],
 "metadata": {
  "kernelspec": {
   "display_name": "Python 3",
   "language": "python",
   "name": "python3"
  },
  "language_info": {
   "codemirror_mode": {
    "name": "ipython",
    "version": 3
   },
   "file_extension": ".py",
   "mimetype": "text/x-python",
   "name": "python",
   "nbconvert_exporter": "python",
   "pygments_lexer": "ipython3",
   "version": "3.8.5"
  }
 },
 "nbformat": 4,
 "nbformat_minor": 4
}
