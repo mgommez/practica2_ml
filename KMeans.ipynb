{
 "cells": [
  {
   "cell_type": "markdown",
   "metadata": {},
   "source": [
    "# I. Implementación K-means\n",
    "K-means\n",
    "    Elegir instacias del dataset como centroides iniciales\n",
    "    Distirbuir puntos del dataset a los centroides\n",
    "    Calcular la media de las distancias respecto de los puntos\n",
    "    Se recalculaba el centroide \n",
    "    Repetir hasta que no haya cambios\n",
    "    \n",
    "Estaría bien usar la misma interfaz que sckikit learn\n",
    "Kmeans = Kmeans(K=5)\n",
    "Kmeans.fit(X)\n",
    "Kmeans.predict(X)\n",
    "\n",
    "Tenemos un conjunto de datos, eliges el numero de clusters (n_clusters), asignas los centroides a unos datos aleatoriamente (init -> puntos aleatorios del dataset), y después asignas los datos a los clusters (asignar_clusters). Después hay que computar los nuevos centroides en un bucle y volver a asignar los clusters hasta que se cumpla la condición de parada."
   ]
  },
  {
   "cell_type": "code",
   "execution_count": 1,
   "metadata": {
    "ExecuteTime": {
     "end_time": "2024-05-05T07:25:58.312805300Z",
     "start_time": "2024-05-05T07:25:58.277525600Z"
    }
   },
   "outputs": [],
   "source": [
    "# con la librería de SciKit Learn:\n",
    "import sklearn\n",
    "from sklearn.cluster import KMeans\n",
    "\n",
    "kmeans = KMeans()\n",
    "#kmeans.fit(X)\n",
    "#kmeans.predict(X)"
   ]
  },
  {
   "cell_type": "code",
   "execution_count": 2,
   "metadata": {
    "ExecuteTime": {
     "end_time": "2024-05-05T07:26:03.228666600Z",
     "start_time": "2024-05-05T07:25:59.423449100Z"
    }
   },
   "outputs": [],
   "source": [
    "import numpy as np\n",
    "import math\n",
    "from math import dist\n",
    "import statistics as s\n",
    "import matplotlib\n",
    "import matplotlib.pyplot as plt\n",
    "from sklearn.datasets import make_blobs\n",
    "import random"
   ]
  },
  {
   "cell_type": "code",
   "execution_count": 3,
   "metadata": {
    "ExecuteTime": {
     "end_time": "2024-05-05T07:26:04.555392800Z",
     "start_time": "2024-05-05T07:26:04.489132500Z"
    }
   },
   "outputs": [
    {
     "name": "stdout",
     "output_type": "stream",
     "text": [
      "2\n",
      "EQUIS: \n",
      " [[-2.83820408e-03 -2.43563677e+00]\n",
      " [-7.82266140e-01 -2.67873345e+00]\n",
      " [ 7.77641404e+00  3.01006674e-02]\n",
      " [ 2.32605015e+00 -2.62865864e+00]\n",
      " [-8.89955631e+00 -3.49293201e+00]\n",
      " [ 1.69842756e+00 -2.56152862e+00]\n",
      " [ 8.77818387e+00 -3.22294166e+00]\n",
      " [ 6.98767994e+00 -1.69088908e+00]\n",
      " [ 1.32992297e+00 -4.35487103e+00]\n",
      " [-1.05921021e+01 -2.69516895e+00]\n",
      " [ 8.69339426e+00 -3.21057423e+00]\n",
      " [ 8.65662306e+00 -1.55732062e+00]\n",
      " [ 1.82221427e+00 -3.49451665e+00]\n",
      " [-8.97699621e+00 -4.56180150e+00]\n",
      " [ 8.64915047e+00 -4.97673764e-01]\n",
      " [-8.31847621e+00 -2.34726865e+00]\n",
      " [-1.01647568e+01 -3.10464022e+00]\n",
      " [ 6.78136516e+00 -3.11033517e-01]\n",
      " [-1.44072279e-01 -3.76209081e+00]\n",
      " [ 1.63034019e+00 -5.54536163e+00]\n",
      " [-3.66364505e-01 -2.91014877e+00]\n",
      " [-1.04887871e+01 -4.85615984e+00]\n",
      " [ 7.28660635e+00 -2.80718940e+00]\n",
      " [-1.66788581e-02 -3.03220441e+00]\n",
      " [ 6.83356864e-01 -3.74290608e+00]\n",
      " [-9.47314580e+00 -2.89061690e+00]\n",
      " [ 6.90570114e+00 -1.97096413e+00]\n",
      " [ 1.69742164e+00 -2.37024177e-01]\n",
      " [-9.24401644e+00 -4.22052035e+00]\n",
      " [ 9.74835771e+00 -1.04946486e+00]\n",
      " [-8.86340126e+00 -2.44778182e+00]\n",
      " [ 1.85064838e-01 -2.40558294e+00]\n",
      " [ 6.89714315e+00 -7.97888255e-01]\n",
      " [ 8.77553777e+00 -1.22779684e+00]\n",
      " [ 7.39240731e+00 -3.41272539e+00]\n",
      " [-1.10870993e+01 -2.21247005e+00]\n",
      " [ 2.47659467e+00 -3.31854457e+00]\n",
      " [ 8.21273364e+00 -1.03220091e+00]\n",
      " [-8.30594474e+00 -2.20141644e+00]\n",
      " [ 2.23344814e-01 -4.35427191e+00]\n",
      " [-8.21956345e+00 -1.72104112e+00]\n",
      " [-1.08170943e+01 -3.72119579e+00]\n",
      " [-8.10850994e+00 -1.79358553e+00]\n",
      " [ 4.26140722e-01 -3.57777505e+00]\n",
      " [ 7.66573492e+00 -6.05942419e-01]\n",
      " [-7.90576391e+00 -2.99840089e+00]\n",
      " [-8.49454502e+00 -2.21127865e+00]\n",
      " [-2.72970832e-01 -2.13263875e+00]\n",
      " [ 2.14987990e+00 -3.48188010e+00]\n",
      " [ 9.80333968e-01 -3.04281802e+00]\n",
      " [ 1.48632622e+00 -3.51029248e+00]\n",
      " [ 7.12402335e+00 -1.48727738e+00]\n",
      " [-9.72124439e+00 -1.61140148e+00]\n",
      " [-1.11048572e-01 -4.22911950e+00]\n",
      " [ 7.76828354e+00 -2.33093050e+00]\n",
      " [ 8.06055104e+00 -5.13034763e-01]\n",
      " [ 2.86968797e-01 -3.41976089e+00]\n",
      " [ 6.98978509e+00 -1.02579692e+00]\n",
      " [ 7.68211591e+00 -5.43349061e-01]\n",
      " [-9.12369941e+00 -3.00329542e+00]\n",
      " [-9.48338903e+00 -3.46182714e+00]\n",
      " [-9.26090936e+00 -5.49010527e+00]\n",
      " [-7.03209809e+00 -1.47172597e+00]\n",
      " [-7.27600166e+00 -2.38306984e+00]\n",
      " [ 2.16128261e+00 -3.30004857e+00]\n",
      " [ 9.77707522e+00 -7.90950783e-01]\n",
      " [ 6.94222061e+00 -2.89610916e+00]\n",
      " [ 6.21602054e+00  6.45846627e-01]\n",
      " [-8.02199426e+00 -3.32910225e+00]\n",
      " [-8.62452585e+00 -2.71223510e+00]\n",
      " [ 7.53975501e+00 -3.64231974e-02]\n",
      " [-1.01187447e+01 -2.40484745e+00]\n",
      " [ 8.71149659e+00 -2.54522730e+00]\n",
      " [ 1.06425432e+00 -3.30629239e+00]\n",
      " [ 7.89874553e+00 -1.94929675e+00]\n",
      " [-1.00260626e+01 -3.98016833e+00]\n",
      " [-8.28160634e+00 -4.07805913e+00]\n",
      " [ 7.60904716e+00 -1.84849973e+00]\n",
      " [-7.10337355e-01 -2.75852285e+00]\n",
      " [-7.98212770e+00 -4.14920517e+00]\n",
      " [ 2.11131116e-01 -2.15641655e+00]\n",
      " [-1.30535095e+00 -5.22677442e+00]\n",
      " [-6.58947261e-02 -3.09121716e+00]\n",
      " [-8.56481897e+00 -2.75419404e+00]\n",
      " [ 8.76909537e+00  1.48390907e+00]\n",
      " [-9.23104322e+00 -4.22481877e+00]\n",
      " [ 1.14971795e+00 -4.48373083e+00]\n",
      " [ 4.25924828e-01 -3.32641703e+00]\n",
      " [ 7.78766892e+00 -8.68354433e-01]\n",
      " [ 6.36867200e+00 -1.99511802e+00]\n",
      " [ 9.04390828e-01 -2.58728723e+00]\n",
      " [-6.82895580e+00 -2.43253934e+00]\n",
      " [ 7.57614783e+00 -1.00890665e+00]\n",
      " [ 1.10177611e+00 -2.06637166e+00]\n",
      " [ 8.72696593e+00 -1.11781050e+00]\n",
      " [-9.34232901e+00 -5.54804728e+00]\n",
      " [ 1.23508447e+00 -3.75844076e+00]\n",
      " [ 8.67425842e+00  6.17284973e-01]\n",
      " [-9.66805651e+00 -3.67016804e+00]\n",
      " [ 7.71337562e+00 -2.62793623e+00]]\n",
      "Y: \n",
      " [2 2 0 2 1 2 0 0 2 1 0 0 2 1 0 1 1 0 2 2 2 1 0 2 2 1 0 2 1 0 1 2 0 0 0 1 2\n",
      " 0 1 2 1 1 1 2 0 1 1 2 2 2 2 0 1 2 0 0 2 0 0 1 1 1 1 1 2 0 0 0 1 1 0 1 0 2\n",
      " 0 1 1 0 2 1 2 2 2 1 0 1 2 2 0 0 2 1 0 2 0 1 2 0 1 0]\n"
     ]
    }
   ],
   "source": [
    "x, y = make_blobs()\n",
    "print(x.shape[1])\n",
    "print(\"EQUIS: \\n\", x)\n",
    "print(\"Y: \\n\", y)"
   ]
  },
  {
   "cell_type": "code",
   "execution_count": 4,
   "metadata": {
    "ExecuteTime": {
     "end_time": "2024-05-05T07:26:06.042254400Z",
     "start_time": "2024-05-05T07:26:05.966162900Z"
    }
   },
   "outputs": [
    {
     "data": {
      "text/plain": [
       "100"
      ]
     },
     "execution_count": 4,
     "metadata": {},
     "output_type": "execute_result"
    }
   ],
   "source": [
    "len(x)"
   ]
  },
  {
   "cell_type": "code",
   "execution_count": 5,
   "metadata": {
    "ExecuteTime": {
     "end_time": "2024-05-05T07:26:07.273937400Z",
     "start_time": "2024-05-05T07:26:07.198808400Z"
    }
   },
   "outputs": [],
   "source": [
    "class KMeans_Ours():\n",
    "    def __init__(self, n_clusters=8, max_iter=100, random_state=55):\n",
    "        self.n_clusters = n_clusters\n",
    "        self.max_iter = max_iter\n",
    "        self.iter = 0\n",
    "        self.random_state = random_state\n",
    "        \n",
    "        self.X= []\n",
    "        \n",
    "        self._centroids= []\n",
    "        self._inertia=[]\n",
    "        self._labels=[]\n",
    "        self.history = {'iteration': [],\n",
    "                        'centroids':  [],  \n",
    "                        'labels' : [],\n",
    "                        'inertia':  []\n",
    "                        }\n",
    "    \n",
    "    def fit(self, X):\n",
    "        \"\"\"Este método entrena el modelo con el dataset proporcionado, aplicando el algoritmo de asignación de centroides\"\"\"\n",
    "        self.X = X\n",
    "        self._assign_centroids()\n",
    "        self._assign_labels()\n",
    "        # print(\"centroides iniciales: \", self._centroids)\n",
    "        while not self._stop(): # si se llega a max iter o si centroides no cambian (con último valor de self.history), una u otra\n",
    "            self._add_history_step() \n",
    "            # con esto podemos hacer un gráfico (no se pide pero quedaría rechulón)\n",
    "            \n",
    "            self._update_centroides()\n",
    "            # print(\"history: \", self.history['centroids'][self.iter])\n",
    "            self._assign_labels()\n",
    "            \n",
    "            self.iter += 1\n",
    "            \n",
    "    def return_centroids(self):\n",
    "        return self._centroids\n",
    "    \n",
    "    def return_labels(self):\n",
    "        return self._labels\n",
    "    \n",
    "    def predict(self, X):\n",
    "        # contemplar posibilidad de triangulación\n",
    "        predictions = []\n",
    "        for row in X:\n",
    "            min_distance = math.inf\n",
    "            nearest_centroid = None\n",
    "            for centroid_label in range(self.n_clusters):\n",
    "                distance = dist(row, self._centroids[centroid_label])\n",
    "                # print(\"distancia entre\", row, \"y\", self._centroids[centroid_label], \"es: \", distance, \"con label\", centroid_label)\n",
    "                # print(\"distancia: \", distance, \"\\nmin_distancia: \", min_distance)\n",
    "                if distance < min_distance:\n",
    "                    # print(\"dentro if\")\n",
    "                    min_distance = distance\n",
    "                    nearest_centroid = centroid_label\n",
    "            predictions.append(nearest_centroid)\n",
    "        return predictions\n",
    "    \n",
    "    def _assign_centroids(self):\n",
    "        # utilizar el módulo random de numpy para asignar los centroides: check\n",
    "        # sólo para la primera iteración (asignación de centroides iniciales): check\n",
    "        # un centroide a la misma posición dato aleatoriamente \n",
    "        # con replace = false nos aseguramos de que no se repita el mismo valor para dos centroides diferentes,\n",
    "        # de forma que todos los centroides tomen coordenadas distintas\n",
    "        c_index = np.random.choice(list(range(0, len(self.X))), size = self.n_clusters, replace = False)\n",
    "        # print(c_index)\n",
    "        for i in c_index:\n",
    "            self._centroids.append(self.X[i])\n",
    "            # print(\"centroide \",i, \": \", self.X[i])\n",
    "        # print(self._centroids)\n",
    "        # asignar valores de los datos a los que equivalen esas posiciones en la tabla a los \"centroides\"        \n",
    "    \n",
    "    def _assign_labels(self):\n",
    "        # función para asignar los datos a un centroides\n",
    "        # linalg.norm -> normaliza los vectores, no calcula distancias como tal; no es lo que buscamos\n",
    "        self._inertia = []\n",
    "        self._labels = []\n",
    "        \n",
    "        # generación de la matriz\n",
    "        for i in range(len(self.X)):\n",
    "            self._inertia.append(self._compute_inertia(self.X[i]))\n",
    "            \n",
    "            # encasillamiento con labels de cada dato a su respectivo centroide \n",
    "            self._labels.append(np.argmin(self._inertia[i], axis = 0))\n",
    "        \n",
    "        \n",
    "    def _stop(self):\n",
    "        \"\"\" condición de parada del bucle de actualización de labels y centroides de función fit()\n",
    "        si devuelve False, no se cumple la condición de parada. \n",
    "        si devuelve True sí se cumple la condición de parada: se para la ejecución\"\"\"\n",
    "        # print(\"stop\")\n",
    "        \n",
    "        # condición de parada por iteraciones, asegurando que la primera ejecución siempre ocurre \n",
    "        # (en history no hay nada, para que no compare y de error)\n",
    "        if self.iter == self.max_iter: \n",
    "            return True\n",
    "        if self.iter == 0:\n",
    "            return False\n",
    "        \n",
    "        prev_centroids= self.history['centroids'][-1]\n",
    "        cambia = [False] * self.n_clusters\n",
    "        # print(self.history)\n",
    "        # print(\"centroides previos: \", prev_centroids)\n",
    "        # print(\"centroides actualizados: \", self._centroids)\n",
    "        for i in range (self.n_clusters):\n",
    "            #Si este centroide no cambia respecto del mismo en la anterior iteración, devolver True para este centroide\n",
    "            if np.array_equal(self._centroids[i], prev_centroids[i]):\n",
    "                # print(\"no ha cambiado el centroide \", i)\n",
    "                cambia[i] = True\n",
    "        #Si no hay diferencias, los centroides no han cambiado en la última iteración y se cumple la condición de parada.    \n",
    "        # Es decir, si todos son iguales\n",
    "        if False in cambia:\n",
    "            return False\n",
    "        return True\n",
    "    \n",
    "    def _update_centroides(self):\n",
    "        # siguientes iteraciones para reposicionar los centroides\n",
    "    \n",
    "        for i in range(self.n_clusters):\n",
    "            control= []\n",
    "            for j in range(len(self.X)):\n",
    "                if self._labels[j]==i:\n",
    "                        control.append(self.X[j])\n",
    "            #print(\"control list:\", control)\n",
    "            #print(np.mean(control))\n",
    "            self._centroids[i]= np.mean(control, axis = 0)\n",
    "        # print(\"centroides actualizados\", self._centroids)\n",
    "    \n",
    "    def _compute_inertia(self, x):\n",
    "        \"\"\" distancia entre el dato o row 'x' y cada centroide' \"\"\"\n",
    "        distance_row=[]\n",
    "        \n",
    "        for centroid in self._centroids: \n",
    "            #print(x, centroid)\n",
    "            distance_row.append(dist(x,centroid))\n",
    "       \n",
    "        return distance_row\n",
    "        \n",
    "    def _add_history_step(self):\n",
    "        \"\"\" actualización de historial de centroides para nueva iteración \"\"\"\n",
    "        # self.history es un array de diccionarios, cada uno con toda esta información\n",
    "        self.history['iteration'].append(self.iter)\n",
    "        self.history['centroids'].append(self._centroids.copy())\n",
    "        self.history['labels'].append(self._labels.copy())\n",
    "        self.history['inertia'].append(self._inertia.copy())\n",
    "        \n",
    "        # print(\"history: \", self.history['centroids'][self.iter])\n",
    "        # print(\"centroides: \", self._centroids)\n",
    "        \n",
    "    def scatterplot_centroids(self):\n",
    "        \"\"\"creates a scatterplot with the final centroids\n",
    "        only valid for self.X with 2 dimensions\"\"\"\n",
    "        for i in range(self.n_clusters):\n",
    "             plt.scatter(self._centroids[i][0], self._centroids[i][1])\n",
    "    \n",
    "    \"\"\"\n",
    "    def scatterplot_all(self):\n",
    "        # actualmente este código funciona pero da muchísimos errores: revisar si se quiere incluir o se hará a mano\n",
    "        # creación de n colores aleatorios por n_clusters\n",
    "        \n",
    "        colors = []\n",
    "        for i in range(self.n_clusters):\n",
    "            r = random.randint(0, 255) / 255.0\n",
    "            g = random.randint(0, 255) / 255.0\n",
    "            b = random.randint(0, 255) / 255.0\n",
    "            colors.append((r, g, b))\n",
    "\n",
    "        # Crear una lista de colores para cada punto en los datos\n",
    "            for j in range(len(self.X)):\n",
    "                if self._labels[j] == i:\n",
    "                    plt.scatter(self.X[j][0], self.X[j][1], c=colors[i])\n",
    "    \"\"\"\n"
   ]
  },
  {
   "cell_type": "code",
   "execution_count": 6,
   "metadata": {
    "ExecuteTime": {
     "end_time": "2024-05-05T07:26:08.250041700Z",
     "start_time": "2024-05-05T07:26:08.123167Z"
    }
   },
   "outputs": [
    {
     "data": {
      "text/plain": [
       "[array([ 7.85712754, -1.30007309]),\n",
       " array([-8.98628381, -3.15700269]),\n",
       " array([ 0.72357962, -3.2399359 ])]"
      ]
     },
     "execution_count": 6,
     "metadata": {},
     "output_type": "execute_result"
    }
   ],
   "source": [
    "kmeans = KMeans_Ours(n_clusters=3)\n",
    "result = kmeans.fit(x)\n",
    "kmeans.return_centroids()"
   ]
  },
  {
   "cell_type": "code",
   "execution_count": 7,
   "metadata": {
    "ExecuteTime": {
     "end_time": "2024-05-05T07:26:09.971287800Z",
     "start_time": "2024-05-05T07:26:09.886687800Z"
    }
   },
   "outputs": [
    {
     "name": "stdout",
     "output_type": "stream",
     "text": [
      "centroides finales:  [array([ 7.85712754, -1.30007309]), array([-8.98628381, -3.15700269]), array([ 0.72357962, -3.2399359 ])]\n",
      "número de iteraciones totales:  4\n"
     ]
    }
   ],
   "source": [
    "print(\"centroides finales: \", kmeans.return_centroids())\n",
    "print(\"número de iteraciones totales: \", kmeans.iter)"
   ]
  },
  {
   "cell_type": "code",
   "execution_count": 8,
   "metadata": {
    "ExecuteTime": {
     "end_time": "2024-05-05T07:26:12.552613800Z",
     "start_time": "2024-05-05T07:26:11.251551800Z"
    }
   },
   "outputs": [
    {
     "data": {
      "image/png": "[encoded data removed]",
      "text/plain": [
       "<Figure size 432x288 with 1 Axes>"
      ]
     },
     "metadata": {
      "needs_background": "light"
     },
     "output_type": "display_data"
    }
   ],
   "source": [
    "\"\"\"for i in range(3):\n",
    "     plt.scatter(cent[i][0], cent[i][1])\"\"\"\n",
    "kmeans.scatterplot_centroids()"
   ]
  },
  {
   "cell_type": "code",
   "execution_count": 9,
   "metadata": {
    "ExecuteTime": {
     "end_time": "2024-05-05T07:26:18.859056800Z",
     "start_time": "2024-05-05T07:26:12.460537100Z"
    }
   },
   "outputs": [
    {
     "data": {
      "image/png": "[encoded data removed]",
      "text/plain": [
       "<Figure size 432x288 with 1 Axes>"
      ]
     },
     "metadata": {
      "needs_background": "light"
     },
     "output_type": "display_data"
    }
   ],
   "source": [
    "# kmeans.scatterplot_all()\n",
    "colors = [\"#4EACC5\", \"#FF9C34\", \"#4E9A06\"]\n",
    "for i in range(kmeans.n_clusters):\n",
    "    for j in range(len(x)):\n",
    "        if kmeans._labels[j] == i:\n",
    "            plt.scatter(x[j][0], x[j][1], c=colors[i])"
   ]
  },
  {
   "cell_type": "code",
   "execution_count": 10,
   "metadata": {
    "ExecuteTime": {
     "end_time": "2024-05-05T07:26:19.217502300Z",
     "start_time": "2024-05-05T07:26:18.793765200Z"
    }
   },
   "outputs": [
    {
     "data": {
      "text/plain": [
       "<matplotlib.collections.PathCollection at 0x24ecd1e91c0>"
      ]
     },
     "execution_count": 10,
     "metadata": {},
     "output_type": "execute_result"
    },
    {
     "data": {
      "image/png": "[encoded data removed]",
      "text/plain": [
       "<Figure size 432x288 with 1 Axes>"
      ]
     },
     "metadata": {
      "needs_background": "light"
     },
     "output_type": "display_data"
    }
   ],
   "source": [
    "plt.scatter(x[:, 0], x[:, 1])"
   ]
  },
  {
   "cell_type": "code",
   "execution_count": 11,
   "metadata": {
    "ExecuteTime": {
     "end_time": "2024-05-05T07:26:19.263175300Z",
     "start_time": "2024-05-05T07:26:19.179114900Z"
    }
   },
   "outputs": [
    {
     "data": {
      "text/plain": [
       "0.0"
      ]
     },
     "execution_count": 11,
     "metadata": {},
     "output_type": "execute_result"
    }
   ],
   "source": [
    "dist(kmeans.predict(x), kmeans.return_labels())\n",
    "#print(len(kmeans.return_labels()), len(kmeans.predict(x)))"
   ]
  },
  {
   "cell_type": "markdown",
   "metadata": {},
   "source": [
    "# con estrellas\n"
   ]
  },
  {
   "cell_type": "code",
   "execution_count": 49,
   "metadata": {
    "ExecuteTime": {
     "end_time": "2024-05-05T08:41:39.614574400Z",
     "start_time": "2024-05-05T08:41:36.949707800Z"
    }
   },
   "outputs": [],
   "source": [
    "import pandas as pd\n",
    "stars = pd.read_csv('Stars2.csv')"
   ]
  },
  {
   "cell_type": "code",
   "execution_count": 50,
   "metadata": {
    "ExecuteTime": {
     "end_time": "2024-05-05T08:41:39.814543200Z",
     "start_time": "2024-05-05T08:41:39.346525200Z"
    }
   },
   "outputs": [
    {
     "name": "stdout",
     "output_type": "stream",
     "text": [
      "(240, 6)\n"
     ]
    },
    {
     "data": {
      "text/plain": [
       "240"
      ]
     },
     "execution_count": 50,
     "metadata": {},
     "output_type": "execute_result"
    }
   ],
   "source": [
    "print(stars.shape)\n",
    "len(stars)"
   ]
  },
  {
   "cell_type": "code",
   "execution_count": 51,
   "metadata": {
    "ExecuteTime": {
     "end_time": "2024-05-05T08:41:39.945929600Z",
     "start_time": "2024-05-05T08:41:39.394481300Z"
    }
   },
   "outputs": [
    {
     "data": {
      "text/html": [
       "<div>\n",
       "<style scoped>\n",
       "    .dataframe tbody tr th:only-of-type {\n",
       "        vertical-align: middle;\n",
       "    }\n",
       "\n",
       "    .dataframe tbody tr th {\n",
       "        vertical-align: top;\n",
       "    }\n",
       "\n",
       "    .dataframe thead th {\n",
       "        text-align: right;\n",
       "    }\n",
       "</style>\n",
       "<table border=\"1\" class=\"dataframe\">\n",
       "  <thead>\n",
       "    <tr style=\"text-align: right;\">\n",
       "      <th></th>\n",
       "      <th>Temperature</th>\n",
       "      <th>L</th>\n",
       "      <th>R</th>\n",
       "      <th>A_M</th>\n",
       "      <th>Color</th>\n",
       "      <th>Spectral_Class</th>\n",
       "    </tr>\n",
       "  </thead>\n",
       "  <tbody>\n",
       "    <tr>\n",
       "      <th>0</th>\n",
       "      <td>3068</td>\n",
       "      <td>0.002400</td>\n",
       "      <td>0.1700</td>\n",
       "      <td>16.12</td>\n",
       "      <td>Red</td>\n",
       "      <td>M</td>\n",
       "    </tr>\n",
       "    <tr>\n",
       "      <th>1</th>\n",
       "      <td>3042</td>\n",
       "      <td>0.000500</td>\n",
       "      <td>0.1542</td>\n",
       "      <td>16.60</td>\n",
       "      <td>Red</td>\n",
       "      <td>M</td>\n",
       "    </tr>\n",
       "    <tr>\n",
       "      <th>2</th>\n",
       "      <td>2600</td>\n",
       "      <td>0.000300</td>\n",
       "      <td>0.1020</td>\n",
       "      <td>18.70</td>\n",
       "      <td>Red</td>\n",
       "      <td>M</td>\n",
       "    </tr>\n",
       "    <tr>\n",
       "      <th>3</th>\n",
       "      <td>2800</td>\n",
       "      <td>0.000200</td>\n",
       "      <td>0.1600</td>\n",
       "      <td>16.65</td>\n",
       "      <td>Red</td>\n",
       "      <td>M</td>\n",
       "    </tr>\n",
       "    <tr>\n",
       "      <th>4</th>\n",
       "      <td>1939</td>\n",
       "      <td>0.000138</td>\n",
       "      <td>0.1030</td>\n",
       "      <td>20.06</td>\n",
       "      <td>Red</td>\n",
       "      <td>M</td>\n",
       "    </tr>\n",
       "  </tbody>\n",
       "</table>\n",
       "</div>"
      ],
      "text/plain": [
       "   Temperature         L       R    A_M Color Spectral_Class\n",
       "0         3068  0.002400  0.1700  16.12   Red              M\n",
       "1         3042  0.000500  0.1542  16.60   Red              M\n",
       "2         2600  0.000300  0.1020  18.70   Red              M\n",
       "3         2800  0.000200  0.1600  16.65   Red              M\n",
       "4         1939  0.000138  0.1030  20.06   Red              M"
      ]
     },
     "execution_count": 51,
     "metadata": {},
     "output_type": "execute_result"
    }
   ],
   "source": [
    "stars.head()"
   ]
  },
  {
   "cell_type": "markdown",
   "metadata": {},
   "source": [
    "prueba: para ello necesitamos eliminar el color y la spectral class (sólo en este caso), en realidad: hacer Onehotencoding etc."
   ]
  },
  {
   "cell_type": "code",
   "execution_count": 15,
   "metadata": {
    "ExecuteTime": {
     "end_time": "2024-05-05T08:41:39.979632100Z",
     "start_time": "2024-05-05T08:41:39.440398200Z"
    }
   },
   "outputs": [
    {
     "data": {
      "text/html": [
       "<div>\n",
       "<style scoped>\n",
       "    .dataframe tbody tr th:only-of-type {\n",
       "        vertical-align: middle;\n",
       "    }\n",
       "\n",
       "    .dataframe tbody tr th {\n",
       "        vertical-align: top;\n",
       "    }\n",
       "\n",
       "    .dataframe thead th {\n",
       "        text-align: right;\n",
       "    }\n",
       "</style>\n",
       "<table border=\"1\" class=\"dataframe\">\n",
       "  <thead>\n",
       "    <tr style=\"text-align: right;\">\n",
       "      <th></th>\n",
       "      <th>Temperature</th>\n",
       "      <th>L</th>\n",
       "      <th>R</th>\n",
       "      <th>A_M</th>\n",
       "    </tr>\n",
       "  </thead>\n",
       "  <tbody>\n",
       "    <tr>\n",
       "      <th>0</th>\n",
       "      <td>3068</td>\n",
       "      <td>0.002400</td>\n",
       "      <td>0.1700</td>\n",
       "      <td>16.12</td>\n",
       "    </tr>\n",
       "    <tr>\n",
       "      <th>1</th>\n",
       "      <td>3042</td>\n",
       "      <td>0.000500</td>\n",
       "      <td>0.1542</td>\n",
       "      <td>16.60</td>\n",
       "    </tr>\n",
       "    <tr>\n",
       "      <th>2</th>\n",
       "      <td>2600</td>\n",
       "      <td>0.000300</td>\n",
       "      <td>0.1020</td>\n",
       "      <td>18.70</td>\n",
       "    </tr>\n",
       "    <tr>\n",
       "      <th>3</th>\n",
       "      <td>2800</td>\n",
       "      <td>0.000200</td>\n",
       "      <td>0.1600</td>\n",
       "      <td>16.65</td>\n",
       "    </tr>\n",
       "    <tr>\n",
       "      <th>4</th>\n",
       "      <td>1939</td>\n",
       "      <td>0.000138</td>\n",
       "      <td>0.1030</td>\n",
       "      <td>20.06</td>\n",
       "    </tr>\n",
       "    <tr>\n",
       "      <th>...</th>\n",
       "      <td>...</td>\n",
       "      <td>...</td>\n",
       "      <td>...</td>\n",
       "      <td>...</td>\n",
       "    </tr>\n",
       "    <tr>\n",
       "      <th>235</th>\n",
       "      <td>38940</td>\n",
       "      <td>374830.000000</td>\n",
       "      <td>1356.0000</td>\n",
       "      <td>-9.93</td>\n",
       "    </tr>\n",
       "    <tr>\n",
       "      <th>236</th>\n",
       "      <td>30839</td>\n",
       "      <td>834042.000000</td>\n",
       "      <td>1194.0000</td>\n",
       "      <td>-10.63</td>\n",
       "    </tr>\n",
       "    <tr>\n",
       "      <th>237</th>\n",
       "      <td>8829</td>\n",
       "      <td>537493.000000</td>\n",
       "      <td>1423.0000</td>\n",
       "      <td>-10.73</td>\n",
       "    </tr>\n",
       "    <tr>\n",
       "      <th>238</th>\n",
       "      <td>9235</td>\n",
       "      <td>404940.000000</td>\n",
       "      <td>1112.0000</td>\n",
       "      <td>-11.23</td>\n",
       "    </tr>\n",
       "    <tr>\n",
       "      <th>239</th>\n",
       "      <td>37882</td>\n",
       "      <td>294903.000000</td>\n",
       "      <td>1783.0000</td>\n",
       "      <td>-7.80</td>\n",
       "    </tr>\n",
       "  </tbody>\n",
       "</table>\n",
       "<p>240 rows × 4 columns</p>\n",
       "</div>"
      ],
      "text/plain": [
       "     Temperature              L          R    A_M\n",
       "0           3068       0.002400     0.1700  16.12\n",
       "1           3042       0.000500     0.1542  16.60\n",
       "2           2600       0.000300     0.1020  18.70\n",
       "3           2800       0.000200     0.1600  16.65\n",
       "4           1939       0.000138     0.1030  20.06\n",
       "..           ...            ...        ...    ...\n",
       "235        38940  374830.000000  1356.0000  -9.93\n",
       "236        30839  834042.000000  1194.0000 -10.63\n",
       "237         8829  537493.000000  1423.0000 -10.73\n",
       "238         9235  404940.000000  1112.0000 -11.23\n",
       "239        37882  294903.000000  1783.0000  -7.80\n",
       "\n",
       "[240 rows x 4 columns]"
      ]
     },
     "execution_count": 15,
     "metadata": {},
     "output_type": "execute_result"
    }
   ],
   "source": [
    "stars_prueba = stars.drop(columns = [\"Color\", \"Spectral_Class\"])\n",
    "#stars.drop[\"Spectral_Class\"]\n",
    "stars_prueba"
   ]
  },
  {
   "cell_type": "code",
   "execution_count": 16,
   "metadata": {
    "ExecuteTime": {
     "end_time": "2024-05-05T08:41:40.063812700Z",
     "start_time": "2024-05-05T08:41:39.485160300Z"
    }
   },
   "outputs": [
    {
     "data": {
      "text/plain": [
       "array([[ 3.06800e+03,  2.40000e-03,  1.70000e-01,  1.61200e+01],\n",
       "       [ 3.04200e+03,  5.00000e-04,  1.54200e-01,  1.66000e+01],\n",
       "       [ 2.60000e+03,  3.00000e-04,  1.02000e-01,  1.87000e+01],\n",
       "       [ 2.80000e+03,  2.00000e-04,  1.60000e-01,  1.66500e+01],\n",
       "       [ 1.93900e+03,  1.38000e-04,  1.03000e-01,  2.00600e+01],\n",
       "       [ 2.84000e+03,  6.50000e-04,  1.10000e-01,  1.69800e+01],\n",
       "       [ 2.63700e+03,  7.30000e-04,  1.27000e-01,  1.72200e+01],\n",
       "       [ 2.60000e+03,  4.00000e-04,  9.60000e-02,  1.74000e+01],\n",
       "       [ 2.65000e+03,  6.90000e-04,  1.10000e-01,  1.74500e+01],\n",
       "       [ 2.70000e+03,  1.80000e-04,  1.30000e-01,  1.60500e+01],\n",
       "       [ 3.60000e+03,  2.90000e-03,  5.10000e-01,  1.06900e+01],\n",
       "       [ 3.12900e+03,  1.22000e-02,  3.76100e-01,  1.17900e+01],\n",
       "       [ 3.13400e+03,  4.00000e-04,  1.96000e-01,  1.32100e+01],\n",
       "       [ 3.62800e+03,  5.50000e-03,  3.93000e-01,  1.04800e+01],\n",
       "       [ 2.65000e+03,  6.00000e-04,  1.40000e-01,  1.17820e+01],\n",
       "       [ 3.34000e+03,  3.80000e-03,  2.40000e-01,  1.30700e+01],\n",
       "       [ 2.79900e+03,  1.80000e-03,  1.60000e-01,  1.47900e+01],\n",
       "       [ 3.69200e+03,  3.67000e-03,  4.70000e-01,  1.08000e+01],\n",
       "       [ 3.19200e+03,  3.62000e-03,  1.96700e-01,  1.35300e+01],\n",
       "       [ 3.44100e+03,  3.90000e-02,  3.51000e-01,  1.11800e+01],\n",
       "       [ 2.50000e+04,  5.60000e-02,  8.40000e-03,  1.05800e+01],\n",
       "       [ 7.74000e+03,  4.90000e-04,  1.23400e-02,  1.40200e+01],\n",
       "       [ 7.22000e+03,  1.70000e-04,  1.10000e-02,  1.42300e+01],\n",
       "       [ 8.50000e+03,  5.00000e-04,  1.00000e-02,  1.45000e+01],\n",
       "       [ 1.65000e+04,  1.30000e-02,  1.40000e-02,  1.18900e+01],\n",
       "       [ 1.29900e+04,  8.50000e-05,  9.84000e-03,  1.22300e+01],\n",
       "       [ 8.57000e+03,  8.10000e-04,  9.70000e-03,  1.42000e+01],\n",
       "       [ 7.70000e+03,  1.10000e-04,  1.28000e-02,  1.44700e+01],\n",
       "       [ 1.17900e+04,  1.50000e-04,  1.10000e-02,  1.25900e+01],\n",
       "       [ 7.23000e+03,  8.00000e-05,  1.30000e-02,  1.40800e+01],\n",
       "       [ 3.90000e+04,  2.04000e+05,  1.06000e+01, -4.70000e+00],\n",
       "       [ 3.00000e+04,  2.88400e+04,  6.30000e+00, -4.20000e+00],\n",
       "       [ 1.52760e+04,  1.13600e+03,  7.20000e+00, -1.97000e+00],\n",
       "       [ 9.70000e+03,  7.40000e+01,  2.89000e+00,  1.60000e-01],\n",
       "       [ 5.80000e+03,  8.10000e-01,  9.00000e-01,  5.05000e+00],\n",
       "       [ 8.05200e+03,  8.70000e+00,  1.80000e+00,  2.42000e+00],\n",
       "       [ 6.75700e+03,  1.43000e+00,  1.12000e+00,  2.41000e+00],\n",
       "       [ 6.38000e+03,  1.35000e+00,  9.80000e-01,  2.93000e+00],\n",
       "       [ 5.93600e+03,  1.35700e+00,  1.10600e+00,  4.46000e+00],\n",
       "       [ 5.58700e+03,  8.19000e-01,  9.90000e-01,  5.03000e+00],\n",
       "       [ 3.82600e+03,  2.00000e+05,  1.90000e+01, -6.93000e+00],\n",
       "       [ 3.36500e+03,  3.40000e+05,  2.30000e+01, -6.20000e+00],\n",
       "       [ 3.27000e+03,  1.50000e+05,  8.80000e+01, -6.02000e+00],\n",
       "       [ 3.20000e+03,  1.95000e+05,  1.70000e+01, -7.22000e+00],\n",
       "       [ 3.00800e+03,  2.80000e+05,  2.50000e+01, -6.00000e+00],\n",
       "       [ 3.60000e+03,  3.20000e+05,  2.90000e+01, -6.60000e+00],\n",
       "       [ 3.57500e+03,  1.23000e+05,  4.50000e+01, -6.78000e+00],\n",
       "       [ 3.57400e+03,  2.00000e+05,  8.90000e+01, -5.24000e+00],\n",
       "       [ 3.62500e+03,  1.84000e+05,  8.40000e+01, -6.74000e+00],\n",
       "       [ 3.37500e+04,  2.20000e+05,  2.60000e+01, -6.10000e+00],\n",
       "       [ 3.49000e+03,  2.70000e+05,  1.52000e+03, -9.40000e+00],\n",
       "       [ 3.75000e+03,  2.83000e+05,  1.26000e+03, -7.63000e+00],\n",
       "       [ 3.83400e+03,  2.72000e+05,  1.18300e+03, -9.20000e+00],\n",
       "       [ 3.74900e+03,  5.50000e+05,  1.64800e+03, -8.05000e+00],\n",
       "       [ 3.65000e+03,  3.10000e+05,  1.32400e+03, -7.79000e+00],\n",
       "       [ 3.45000e+03,  2.63000e+05,  1.34900e+03, -1.17500e+01],\n",
       "       [ 3.66000e+03,  3.63000e+05,  1.67300e+03, -1.19200e+01],\n",
       "       [ 3.45000e+03,  1.74000e+05,  1.28400e+03, -1.12800e+01],\n",
       "       [ 3.75200e+03,  2.09000e+05,  9.55000e+02, -1.12400e+01],\n",
       "       [ 3.53500e+03,  1.95000e+05,  1.54600e+03, -1.13600e+01],\n",
       "       [ 3.34100e+03,  5.60000e-03,  5.70000e-02,  1.62300e+01],\n",
       "       [ 3.43200e+03,  6.70000e-04,  1.90000e-01,  1.69400e+01],\n",
       "       [ 2.98300e+03,  2.40000e-04,  9.40000e-02,  1.60900e+01],\n",
       "       [ 2.83500e+03,  3.40000e-04,  9.18000e-02,  1.69600e+01],\n",
       "       [ 2.93500e+03,  1.40000e-04,  1.16000e-01,  1.88900e+01],\n",
       "       [ 3.29500e+03,  9.80000e-04,  1.32000e-01,  1.71300e+01],\n",
       "       [ 2.94500e+03,  3.20000e-04,  9.30000e-02,  1.83400e+01],\n",
       "       [ 2.81700e+03,  9.80000e-04,  9.11000e-02,  1.64500e+01],\n",
       "       [ 2.77400e+03,  3.60000e-04,  1.18000e-01,  1.73900e+01],\n",
       "       [ 2.87100e+03,  7.20000e-04,  1.20000e-01,  1.94300e+01],\n",
       "       [ 3.34500e+03,  2.10000e-02,  2.73000e-01,  1.23000e+01],\n",
       "       [ 3.60700e+03,  2.20000e-02,  3.80000e-01,  1.01200e+01],\n",
       "       [ 3.30400e+03,  8.50000e-03,  1.80000e-01,  1.32000e+01],\n",
       "       [ 3.15000e+03,  8.80000e-03,  3.50000e-01,  1.19400e+01],\n",
       "       [ 3.55000e+03,  4.00000e-03,  2.91000e-01,  1.08900e+01],\n",
       "       [ 3.18000e+03,  1.00000e-03,  3.50000e-01,  1.17600e+01],\n",
       "       [ 2.89000e+03,  3.40000e-03,  2.40000e-01,  1.34600e+01],\n",
       "       [ 3.34200e+03,  1.50000e-03,  3.07000e-01,  1.18700e+01],\n",
       "       [ 2.62100e+03,  6.00000e-04,  9.80000e-02,  1.28100e+01],\n",
       "       [ 3.15800e+03,  1.35000e-03,  1.61000e-01,  1.39800e+01],\n",
       "       [ 7.10000e+03,  2.90000e-04,  1.20000e-02,  1.40900e+01],\n",
       "       [ 1.05740e+04,  1.40000e-04,  9.20000e-03,  1.20200e+01],\n",
       "       [ 8.93000e+03,  5.60000e-04,  9.50000e-03,  1.37800e+01],\n",
       "       [ 1.72000e+04,  9.80000e-04,  1.50000e-02,  1.24500e+01],\n",
       "       [ 1.41000e+04,  6.70000e-04,  8.90000e-03,  1.21700e+01],\n",
       "       [ 9.67500e+03,  4.50000e-04,  1.09000e-02,  1.39800e+01],\n",
       "       [ 1.20100e+04,  7.80000e-04,  9.20000e-03,  1.21300e+01],\n",
       "       [ 1.09800e+04,  7.40000e-04,  8.70000e-03,  1.11900e+01],\n",
       "       [ 1.37200e+04,  1.80000e-04,  8.92000e-03,  1.29700e+01],\n",
       "       [ 1.98600e+04,  1.10000e-03,  1.31000e-02,  1.13400e+01],\n",
       "       [ 5.30000e+03,  5.90000e-01,  9.10000e-01,  5.49000e+00],\n",
       "       [ 4.52600e+03,  1.53000e-01,  8.65000e-01,  6.50600e+00],\n",
       "       [ 4.07700e+03,  8.50000e-02,  7.95000e-01,  6.22800e+00],\n",
       "       [ 4.98000e+03,  3.57000e-01,  1.13000e+00,  4.78000e+00],\n",
       "       [ 9.03000e+03,  4.50000e+01,  2.63000e+00,  1.45000e+00],\n",
       "       [ 1.12500e+04,  6.72000e+02,  6.98000e+00, -2.30000e+00],\n",
       "       [ 5.11200e+03,  6.30000e-01,  8.76000e-01,  4.68000e+00],\n",
       "       [ 7.72000e+03,  7.92000e+00,  1.34000e+00,  2.44000e+00],\n",
       "       [ 1.20980e+04,  6.89000e+02,  7.01000e+00,  2.00000e-02],\n",
       "       [ 3.61080e+04,  1.98000e+05,  1.02000e+01, -4.40000e+00],\n",
       "       [ 3.33000e+04,  2.40000e+05,  1.20000e+01, -6.50000e+00],\n",
       "       [ 4.00000e+04,  8.13000e+05,  1.40000e+01, -6.23000e+00],\n",
       "       [ 2.30000e+04,  1.27000e+05,  3.60000e+01, -5.76000e+00],\n",
       "       [ 1.71200e+04,  2.35000e+05,  8.30000e+01, -6.89000e+00],\n",
       "       [ 1.10960e+04,  1.12000e+05,  1.20000e+01, -5.91000e+00],\n",
       "       [ 1.42450e+04,  2.31000e+05,  4.20000e+01, -6.12000e+00],\n",
       "       [ 2.46300e+04,  3.63000e+05,  6.30000e+01, -5.83000e+00],\n",
       "       [ 1.28930e+04,  1.84000e+05,  3.60000e+01, -6.34000e+00],\n",
       "       [ 2.43450e+04,  1.42000e+05,  5.70000e+01, -6.24000e+00],\n",
       "       [ 3.34210e+04,  3.52000e+05,  6.70000e+01, -5.79000e+00],\n",
       "       [ 3.45900e+03,  1.00000e+05,  1.28900e+03, -1.07000e+01],\n",
       "       [ 3.60500e+03,  1.26000e+05,  1.12400e+03, -1.08100e+01],\n",
       "       [ 3.61500e+03,  2.00000e+05,  1.63500e+03, -1.13300e+01],\n",
       "       [ 3.39900e+03,  1.17000e+05,  1.48600e+03, -1.09200e+01],\n",
       "       [ 3.61000e+03,  1.32000e+05,  1.52200e+03, -1.08600e+01],\n",
       "       [ 3.55300e+03,  1.45000e+05,  1.32400e+03, -1.10300e+01],\n",
       "       [ 4.01500e+03,  2.82000e+05,  1.53400e+03, -1.13900e+01],\n",
       "       [ 3.62500e+03,  7.40000e+04,  8.76000e+02, -1.02500e+01],\n",
       "       [ 6.85000e+03,  2.29000e+05,  1.46700e+03, -1.00700e+01],\n",
       "       [ 3.78000e+03,  2.00000e+05,  1.32400e+03, -1.07000e+01],\n",
       "       [ 3.32300e+03,  4.30000e-04,  9.12000e-02,  1.71600e+01],\n",
       "       [ 3.53100e+03,  9.30000e-04,  9.76000e-02,  1.99400e+01],\n",
       "       [ 3.21800e+03,  5.40000e-04,  1.10000e-01,  2.00200e+01],\n",
       "       [ 3.14600e+03,  1.50000e-04,  9.32000e-02,  1.69200e+01],\n",
       "       [ 3.51100e+03,  6.40000e-04,  1.09000e-01,  1.71200e+01],\n",
       "       [ 3.22500e+03,  7.60000e-04,  1.21000e-01,  1.96300e+01],\n",
       "       [ 2.93500e+03,  8.70000e-04,  9.32000e-02,  1.68800e+01],\n",
       "       [ 2.86100e+03,  1.90000e-04,  8.99000e-02,  1.67100e+01],\n",
       "       [ 2.85600e+03,  8.96000e-04,  7.82000e-02,  1.95600e+01],\n",
       "       [ 2.73100e+03,  4.37000e-04,  8.56000e-02,  1.80900e+01],\n",
       "       [ 3.09500e+03,  1.90000e-04,  4.92000e-01,  1.08700e+01],\n",
       "       [ 3.60700e+03,  2.30000e-04,  3.80000e-01,  1.03400e+01],\n",
       "       [ 3.10000e+03,  8.00000e-03,  3.10000e-01,  1.11700e+01],\n",
       "       [ 2.98900e+03,  8.70000e-03,  3.40000e-01,  1.31200e+01],\n",
       "       [ 3.54200e+03,  9.00000e-04,  6.20000e-01,  1.42300e+01],\n",
       "       [ 3.24300e+03,  2.30000e-03,  7.30000e-01,  1.47500e+01],\n",
       "       [ 3.09100e+03,  8.10000e-03,  2.40000e-01,  1.14300e+01],\n",
       "       [ 3.59800e+03,  1.10000e-03,  5.60000e-01,  1.42600e+01],\n",
       "       [ 3.32400e+03,  3.40000e-03,  3.40000e-01,  1.22300e+01],\n",
       "       [ 3.54100e+03,  1.30000e-03,  2.56000e-01,  1.43300e+01],\n",
       "       [ 1.34200e+04,  5.90000e-04,  9.81000e-03,  1.36700e+01],\n",
       "       [ 2.10200e+04,  1.50000e-03,  1.12000e-02,  1.15200e+01],\n",
       "       [ 1.82900e+04,  1.30000e-03,  9.34000e-03,  1.27800e+01],\n",
       "       [ 1.45200e+04,  8.20000e-04,  9.72000e-03,  1.19200e+01],\n",
       "       [ 1.19000e+04,  6.70000e-04,  8.98000e-03,  1.13800e+01],\n",
       "       [ 8.92400e+03,  2.80000e-04,  8.79000e-03,  1.48700e+01],\n",
       "       [ 1.29120e+04,  7.10000e-04,  9.45000e-03,  1.28300e+01],\n",
       "       [ 1.47320e+04,  1.10000e-04,  8.92000e-03,  1.28900e+01],\n",
       "       [ 7.72300e+03,  1.40000e-04,  8.78000e-03,  1.48100e+01],\n",
       "       [ 1.29840e+04,  8.80000e-04,  9.96000e-03,  1.12300e+01],\n",
       "       [ 2.95600e+04,  1.88000e+05,  6.02000e+00, -4.01000e+00],\n",
       "       [ 8.94500e+03,  3.80000e+01,  2.48700e+00,  1.20000e-01],\n",
       "       [ 1.40600e+04,  1.09200e+03,  5.74500e+00, -2.04000e+00],\n",
       "       [ 1.63900e+04,  1.27800e+03,  5.68000e+00, -3.32000e+00],\n",
       "       [ 2.50700e+04,  1.45000e+04,  5.92000e+00, -3.98000e+00],\n",
       "       [ 2.87000e+04,  1.67900e+04,  6.40000e+00, -4.09000e+00],\n",
       "       [ 2.61400e+04,  1.45200e+04,  5.49000e+00, -3.80000e+00],\n",
       "       [ 2.01200e+04,  4.72000e+03,  6.78000e+00, -3.40000e+00],\n",
       "       [ 1.30230e+04,  9.98000e+02,  6.21000e+00, -1.38000e+00],\n",
       "       [ 3.78000e+04,  2.02900e+05,  6.86000e+00, -4.56000e+00],\n",
       "       [ 2.53900e+04,  2.23000e+05,  5.70000e+01, -5.92000e+00],\n",
       "       [ 1.15670e+04,  2.51000e+05,  3.60000e+01, -6.24500e+00],\n",
       "       [ 1.26750e+04,  4.52000e+05,  8.30000e+01, -5.62000e+00],\n",
       "       [ 5.75200e+03,  2.45000e+05,  9.70000e+01, -6.63000e+00],\n",
       "       [ 8.92700e+03,  2.39000e+05,  3.50000e+01, -7.34000e+00],\n",
       "       [ 7.28200e+03,  1.31000e+05,  2.40000e+01, -7.22000e+00],\n",
       "       [ 1.99230e+04,  1.52000e+05,  7.30000e+01, -5.69000e+00],\n",
       "       [ 2.63730e+04,  1.98000e+05,  3.90000e+01, -5.83000e+00],\n",
       "       [ 1.73830e+04,  3.42900e+05,  3.00000e+01, -6.09000e+00],\n",
       "       [ 9.37300e+03,  4.24520e+05,  2.40000e+01, -5.99000e+00],\n",
       "       [ 3.57000e+03,  3.20000e+05,  1.48000e+03, -7.58000e+00],\n",
       "       [ 3.50000e+03,  1.38000e+05,  1.42000e+03, -8.18000e+00],\n",
       "       [ 4.28700e+03,  6.30000e+05,  1.31500e+03, -9.20000e+00],\n",
       "       [ 2.60000e+04,  3.16000e+05,  1.67900e+03, -9.10000e+00],\n",
       "       [ 3.60000e+03,  2.40000e+05,  1.19000e+03, -7.89000e+00],\n",
       "       [ 3.61400e+03,  1.45000e+05,  1.55300e+03, -7.71000e+00],\n",
       "       [ 1.80000e+04,  2.00000e+05,  1.04500e+03, -8.30000e+00],\n",
       "       [ 1.10000e+04,  1.70000e+05,  1.77900e+03, -9.90000e+00],\n",
       "       [ 1.21000e+04,  1.20000e+05,  7.08900e+02, -7.84000e+00],\n",
       "       [ 2.44900e+04,  2.48490e+05,  1.13450e+03, -8.24000e+00],\n",
       "       [ 2.83100e+03,  2.31000e-04,  9.15000e-02,  1.62100e+01],\n",
       "       [ 2.91400e+03,  6.31000e-04,  1.16000e-01,  1.83900e+01],\n",
       "       [ 3.41900e+03,  2.45000e-04,  1.26000e-01,  1.75600e+01],\n",
       "       [ 3.21800e+03,  4.52000e-04,  9.87000e-02,  1.73400e+01],\n",
       "       [ 3.45300e+03,  6.21000e-04,  7.73000e-02,  1.70800e+01],\n",
       "       [ 2.88900e+03,  3.52000e-04,  9.73000e-02,  1.69300e+01],\n",
       "       [ 2.96800e+03,  4.61000e-04,  1.19000e-01,  1.74500e+01],\n",
       "       [ 3.48400e+03,  5.51000e-04,  9.98000e-02,  1.66700e+01],\n",
       "       [ 2.77800e+03,  8.49000e-04,  1.12000e-01,  1.94500e+01],\n",
       "       [ 3.52300e+03,  9.57000e-04,  1.29000e-01,  1.63500e+01],\n",
       "       [ 3.46200e+03,  5.30000e-03,  1.48000e-01,  1.14700e+01],\n",
       "       [ 3.25700e+03,  2.40000e-03,  4.60000e-01,  1.07300e+01],\n",
       "       [ 2.99400e+03,  7.20000e-03,  2.80000e-01,  1.34500e+01],\n",
       "       [ 3.21200e+03,  1.60000e-03,  3.78000e-01,  1.28540e+01],\n",
       "       [ 3.52300e+03,  5.40000e-03,  3.19000e-01,  1.24300e+01],\n",
       "       [ 3.59800e+03,  2.70000e-03,  6.70000e-01,  1.36670e+01],\n",
       "       [ 3.14200e+03,  1.32000e-03,  2.58000e-01,  1.41200e+01],\n",
       "       [ 3.49600e+03,  1.25000e-03,  3.36000e-01,  1.49400e+01],\n",
       "       [ 3.32400e+03,  6.50000e-03,  4.71000e-01,  1.27800e+01],\n",
       "       [ 3.46300e+03,  2.70000e-03,  6.75000e-01,  1.47760e+01],\n",
       "       [ 1.67900e+04,  1.40000e-03,  1.21000e-02,  1.28700e+01],\n",
       "       [ 1.56800e+04,  1.22000e-03,  1.14000e-02,  1.19200e+01],\n",
       "       [ 1.49820e+04,  1.18000e-03,  1.13000e-02,  1.22300e+01],\n",
       "       [ 1.33400e+04,  1.09000e-03,  1.16000e-02,  1.29000e+01],\n",
       "       [ 1.83400e+04,  1.34000e-03,  1.24000e-02,  1.12200e+01],\n",
       "       [ 1.99200e+04,  1.56000e-03,  1.42000e-02,  1.13400e+01],\n",
       "       [ 2.40200e+04,  1.59000e-03,  1.27000e-02,  1.05500e+01],\n",
       "       [ 2.30920e+04,  1.32000e-03,  1.04000e-02,  1.01800e+01],\n",
       "       [ 1.79200e+04,  1.11000e-03,  1.06000e-02,  1.16600e+01],\n",
       "       [ 1.93600e+04,  1.25000e-03,  9.98000e-03,  1.16200e+01],\n",
       "       [ 2.23500e+04,  1.24500e+04,  6.36000e+00, -3.67000e+00],\n",
       "       [ 1.00120e+04,  5.52000e+02,  5.85600e+00,  1.30000e-02],\n",
       "       [ 1.30890e+04,  7.88000e+02,  5.99200e+00, -1.20000e-01],\n",
       "       [ 2.20120e+04,  6.74800e+03,  6.64000e+00, -2.55000e+00],\n",
       "       [ 3.41900e+04,  1.98200e+05,  6.39000e+00, -4.57000e+00],\n",
       "       [ 3.24600e+04,  1.73800e+05,  6.23700e+00, -4.36000e+00],\n",
       "       [ 9.32000e+03,  2.90000e+01,  1.91000e+00,  1.23600e+00],\n",
       "       [ 1.94000e+04,  1.09200e+04,  6.03000e+00, -3.08000e+00],\n",
       "       [ 1.71400e+04,  8.83000e+02,  5.65300e+00, -2.64000e+00],\n",
       "       [ 8.25000e+03,  9.25000e+00,  1.93000e+00, -9.80000e-01],\n",
       "       [ 2.36780e+04,  2.44290e+05,  3.50000e+01, -6.27000e+00],\n",
       "       [ 1.27490e+04,  3.32520e+05,  7.60000e+01, -7.02000e+00],\n",
       "       [ 9.38300e+03,  3.42940e+05,  9.80000e+01, -6.98000e+00],\n",
       "       [ 2.34400e+04,  5.37430e+05,  8.10000e+01, -5.97500e+00],\n",
       "       [ 1.67870e+04,  2.46730e+05,  6.20000e+01, -6.35000e+00],\n",
       "       [ 1.87340e+04,  2.24780e+05,  4.60000e+01, -7.45000e+00],\n",
       "       [ 9.89200e+03,  5.93900e+05,  8.00000e+01, -7.26200e+00],\n",
       "       [ 1.09300e+04,  7.83930e+05,  2.50000e+01, -6.22400e+00],\n",
       "       [ 2.30950e+04,  3.47820e+05,  8.60000e+01, -5.90500e+00],\n",
       "       [ 2.17380e+04,  7.48890e+05,  9.20000e+01, -7.34600e+00],\n",
       "       [ 2.41450e+04,  3.82993e+05,  1.49400e+03, -8.84000e+00],\n",
       "       [ 3.82340e+04,  2.72830e+05,  1.35600e+03, -9.29000e+00],\n",
       "       [ 3.24890e+04,  6.48430e+05,  1.94850e+03, -1.08400e+01],\n",
       "       [ 2.77390e+04,  8.49420e+05,  1.25200e+03, -7.59000e+00],\n",
       "       [ 2.19040e+04,  7.48490e+05,  1.13000e+03, -7.67000e+00],\n",
       "       [ 3.89400e+04,  3.74830e+05,  1.35600e+03, -9.93000e+00],\n",
       "       [ 3.08390e+04,  8.34042e+05,  1.19400e+03, -1.06300e+01],\n",
       "       [ 8.82900e+03,  5.37493e+05,  1.42300e+03, -1.07300e+01],\n",
       "       [ 9.23500e+03,  4.04940e+05,  1.11200e+03, -1.12300e+01],\n",
       "       [ 3.78820e+04,  2.94903e+05,  1.78300e+03, -7.80000e+00]])"
      ]
     },
     "execution_count": 16,
     "metadata": {},
     "output_type": "execute_result"
    }
   ],
   "source": [
    "# convert dataframe to array\n",
    "stars_prueba_array = stars_prueba.values\n",
    "stars_prueba_array"
   ]
  },
  {
   "cell_type": "code",
   "execution_count": 17,
   "metadata": {
    "ExecuteTime": {
     "end_time": "2024-05-05T08:41:40.425219600Z",
     "start_time": "2024-05-05T08:41:39.567711600Z"
    }
   },
   "outputs": [
    {
     "name": "stdout",
     "output_type": "stream",
     "text": [
      "[array([3.39695556e+03, 8.69440111e-02, 3.11093333e-01, 1.39078111e+01]), array([1.04050278e+04, 1.38968905e+02, 1.47262139e+00, 8.48275000e+00]), array([ 1.96530000e+04,  6.89585417e+05,  8.50208333e+02, -8.14558333e+00]), array([ 2.52766667e+04,  1.63366667e+04,  6.08333333e+00, -3.80333333e+00]), array([ 9.46663158e+03,  1.34305263e+05,  7.74059842e+02, -8.28736842e+00]), array([ 1.64864444e+04,  3.54687000e+05,  6.93333333e+02, -7.56750000e+00]), array([1.85529091e+04, 6.71140308e+02, 1.46126182e+00, 8.41272727e+00]), array([ 1.53189730e+04,  2.26924865e+05,  5.23745135e+02, -7.46337838e+00])]\n",
      "32\n"
     ]
    }
   ],
   "source": [
    "kmeans_stars_prueba = KMeans_Ours()\n",
    "result = kmeans_stars_prueba.fit(stars_prueba_array)\n",
    "print(kmeans_stars_prueba.return_centroids())\n",
    "print(kmeans_stars_prueba.iter)"
   ]
  },
  {
   "cell_type": "code",
   "execution_count": 18,
   "metadata": {
    "ExecuteTime": {
     "start_time": "2024-05-05T08:41:40.160235800Z"
    }
   },
   "outputs": [
    {
     "data": {
      "text/plain": [
       "<matplotlib.collections.PathCollection at 0x24ecd137460>"
      ]
     },
     "execution_count": 18,
     "metadata": {},
     "output_type": "execute_result"
    },
    {
     "data": {
      "image/png": "[encoded data removed]",
      "text/plain": [
       "<Figure size 432x288 with 1 Axes>"
      ]
     },
     "metadata": {
      "needs_background": "light"
     },
     "output_type": "display_data"
    }
   ],
   "source": [
    "plt.scatter(stars_prueba_array[:, 0], stars_prueba_array[:, 1], stars_prueba_array[:, 2], stars_prueba_array[:, 3])"
   ]
  },
  {
   "cell_type": "code",
   "execution_count": 19,
   "metadata": {
    "ExecuteTime": {
     "end_time": "2024-05-05T08:41:41.160538200Z",
     "start_time": "2024-05-05T08:41:40.591779700Z"
    }
   },
   "outputs": [
    {
     "data": {
      "image/png": "[encoded data removed]",
      "text/plain": [
       "<Figure size 432x288 with 1 Axes>"
      ]
     },
     "metadata": {
      "needs_background": "light"
     },
     "output_type": "display_data"
    }
   ],
   "source": [
    "colors = [\"#FF9C34\", \"#4E9A06\", \"#DEB887\", \"#65B199\", \"#BDD4EE\", \"#3F567A\", \"#526AD5\", \"#00D542\"]\n",
    "for i in range(kmeans_stars_prueba.n_clusters):\n",
    "    for j in range(len(stars_prueba_array)):\n",
    "        if kmeans_stars_prueba._labels[j] == i:\n",
    "            # aquí hay que hacer lo de reducir a sólo dos dimensiones para poder hacer el scatterplot \n",
    "            # (sólo deja con dos dimensiones)\n",
    "            plt.scatter(stars_prueba_array[j][0], stars_prueba_array[j][1], c = colors[i])"
   ]
  },
  {
   "cell_type": "markdown",
   "metadata": {},
   "source": [
    "# II. Preprocesado de Datos\n",
    "En esta sección se preprocesa el dataset proporcionado, aplicando procesamiento de features de tipo One-ot-encodign y codificación ordinal, así como transformación de la dimensionalidad de los datos mediante PCA. "
   ]
  },
  {
   "cell_type": "code",
   "execution_count": 171,
   "metadata": {
    "ExecuteTime": {
     "end_time": "2024-05-05T08:41:42.455225400Z",
     "start_time": "2024-05-05T08:41:42.004596100Z"
    }
   },
   "outputs": [
    {
     "data": {
      "text/html": [
       "<div>\n",
       "<style scoped>\n",
       "    .dataframe tbody tr th:only-of-type {\n",
       "        vertical-align: middle;\n",
       "    }\n",
       "\n",
       "    .dataframe tbody tr th {\n",
       "        vertical-align: top;\n",
       "    }\n",
       "\n",
       "    .dataframe thead th {\n",
       "        text-align: right;\n",
       "    }\n",
       "</style>\n",
       "<table border=\"1\" class=\"dataframe\">\n",
       "  <thead>\n",
       "    <tr style=\"text-align: right;\">\n",
       "      <th></th>\n",
       "      <th>Temperature</th>\n",
       "      <th>L</th>\n",
       "      <th>R</th>\n",
       "      <th>A_M</th>\n",
       "      <th>Color</th>\n",
       "      <th>Spectral_Class</th>\n",
       "    </tr>\n",
       "  </thead>\n",
       "  <tbody>\n",
       "    <tr>\n",
       "      <th>0</th>\n",
       "      <td>3068</td>\n",
       "      <td>0.002400</td>\n",
       "      <td>0.1700</td>\n",
       "      <td>16.12</td>\n",
       "      <td>Red</td>\n",
       "      <td>M</td>\n",
       "    </tr>\n",
       "    <tr>\n",
       "      <th>1</th>\n",
       "      <td>3042</td>\n",
       "      <td>0.000500</td>\n",
       "      <td>0.1542</td>\n",
       "      <td>16.60</td>\n",
       "      <td>Red</td>\n",
       "      <td>M</td>\n",
       "    </tr>\n",
       "    <tr>\n",
       "      <th>2</th>\n",
       "      <td>2600</td>\n",
       "      <td>0.000300</td>\n",
       "      <td>0.1020</td>\n",
       "      <td>18.70</td>\n",
       "      <td>Red</td>\n",
       "      <td>M</td>\n",
       "    </tr>\n",
       "    <tr>\n",
       "      <th>3</th>\n",
       "      <td>2800</td>\n",
       "      <td>0.000200</td>\n",
       "      <td>0.1600</td>\n",
       "      <td>16.65</td>\n",
       "      <td>Red</td>\n",
       "      <td>M</td>\n",
       "    </tr>\n",
       "    <tr>\n",
       "      <th>4</th>\n",
       "      <td>1939</td>\n",
       "      <td>0.000138</td>\n",
       "      <td>0.1030</td>\n",
       "      <td>20.06</td>\n",
       "      <td>Red</td>\n",
       "      <td>M</td>\n",
       "    </tr>\n",
       "  </tbody>\n",
       "</table>\n",
       "</div>"
      ],
      "text/plain": [
       "   Temperature         L       R    A_M Color Spectral_Class\n",
       "0         3068  0.002400  0.1700  16.12   Red              M\n",
       "1         3042  0.000500  0.1542  16.60   Red              M\n",
       "2         2600  0.000300  0.1020  18.70   Red              M\n",
       "3         2800  0.000200  0.1600  16.65   Red              M\n",
       "4         1939  0.000138  0.1030  20.06   Red              M"
      ]
     },
     "execution_count": 171,
     "metadata": {},
     "output_type": "execute_result"
    }
   ],
   "source": [
    "import pandas as pd\n",
    "stars = pd.read_csv('Stars2.csv')\n",
    "stars.head()"
   ]
  },
  {
   "cell_type": "markdown",
   "metadata": {},
   "source": [
    "En primer lugar, observamos los diferentes colores asociados a las estrellas"
   ]
  },
  {
   "cell_type": "code",
   "execution_count": 172,
   "metadata": {},
   "outputs": [
    {
     "data": {
      "text/plain": [
       "array(['Red', 'Blue White', 'White', 'Yellowish White', 'Blue white',\n",
       "       'Pale yellow orange', 'Blue', 'Blue-white', 'Whitish',\n",
       "       'yellow-white', 'Orange', 'White-Yellow', 'white', 'yellowish',\n",
       "       'Yellowish', 'Orange-Red', 'Blue-White'], dtype=object)"
      ]
     },
     "execution_count": 172,
     "metadata": {},
     "output_type": "execute_result"
    }
   ],
   "source": [
    "stars['Color'].unique()"
   ]
  },
  {
   "cell_type": "markdown",
   "metadata": {},
   "source": [
    "Podemos ver que algunos valores se repiten con ligeras diferencias en el nombre de la etiqueta. Por ejemplo, \"yellowish\" y \"Yellowish\" son la misma etiqueta pero con la primera letra escrita en minúscula y mayúscula respectivamente. Por lo tanto, modificamos los nombres de las etiquetas de color a minúsculas"
   ]
  },
  {
   "cell_type": "code",
   "execution_count": 173,
   "metadata": {},
   "outputs": [
    {
     "data": {
      "text/plain": [
       "array(['red', 'blue white', 'white', 'yellowish white',\n",
       "       'pale yellow orange', 'blue', 'blue-white', 'whitish',\n",
       "       'yellow-white', 'orange', 'white-yellow', 'yellowish',\n",
       "       'orange-red'], dtype=object)"
      ]
     },
     "execution_count": 173,
     "metadata": {},
     "output_type": "execute_result"
    }
   ],
   "source": [
    "stars['Color'] = stars['Color'].str.lower()\n",
    "stars['Color'].unique()"
   ]
  },
  {
   "cell_type": "markdown",
   "metadata": {},
   "source": [
    "También observamos que \"blue-white\" es la misma etiqueta que \"blue white\", con la diferencia del guión que separa las dos palabras, que en el primer caso está presente y en el segundo no. Algo similar ocurre con \"yellow-white\" y \"white-yellow\". Asumimos en estos dos casos que el valor del atributo es el mismo, y para ello modificamos el nombre de las etiquetas para que ninguna tenga guión y proponemos el orden \"yellow white\" para todos los casos. Asumimos también que hay una diferencia entre \"yellowish white\" y \"yellow white\", igual que hay diferencia entre \"white\" y \"whitish\", por lo que estos dos valores del atributo \"Color\" se mantienen como diferentes valores."
   ]
  },
  {
   "cell_type": "markdown",
   "metadata": {},
   "source": [
    "A continuación, se preprocesan los valores del atributo 'Spectral_Class' para asegurar que todos ellos son correctos, mediante un proceso similar al realizado para el atirbuto 'Color'."
   ]
  },
  {
   "cell_type": "code",
   "execution_count": 176,
   "metadata": {},
   "outputs": [
    {
     "data": {
      "text/plain": [
       "array(['M', 'B', 'A', 'F', 'O', 'K', 'G'], dtype=object)"
      ]
     },
     "execution_count": 176,
     "metadata": {},
     "output_type": "execute_result"
    }
   ],
   "source": [
    "stars['Spectral_Class'].unique()"
   ]
  },
  {
   "cell_type": "markdown",
   "metadata": {},
   "source": [
    "Es fácilmente observable que todos los valores son correctos, se corresponden con la escala de valores proporcionada en el enunciado de esta práctica, y no se repiten ni presentan errores de nombramiento de las etiquetas, por lo que no es necesario realizar modificaciones en este atributo del dataframe."
   ]
  },
  {
   "cell_type": "markdown",
   "metadata": {},
   "source": [
    "Una vez se han preprocesado los atributos de la clase espectral y el color asociados a cada estrella de nuestro dataframe, se llevan a cabo dos técnicas para transformar los datos y poder trabajar con variables categóricas. \n",
    "\n",
    "En primer lugar, se llevará a cabo la técnica de \"One-Hot-Encoding\" de cada una de estas dos variables. A continuación, se llevará a cabo una transformación de las variables a atributos ordinales, de forma que se ordenan los colores según se atribuyan a mayor o menor temperatura, e igualmente para la variable de la clase espectral.\n",
    "\n",
    "Para poder comparar los resultados arrojados por una técnica y otra, generamos dos copias de nuestro dataframe según el tratamiento de los datos"
   ]
  },
  {
   "cell_type": "code",
   "execution_count": 177,
   "metadata": {},
   "outputs": [],
   "source": [
    "stars_1hot= stars.copy()\n",
    "stars_ordinal= stars.copy()"
   ]
  },
  {
   "cell_type": "markdown",
   "metadata": {},
   "source": [
    "## 1. One Hot Encoding\n",
    "Se estudia la posibilidad de convertir las variables categóricas del dataset a vairables numéricas binarias mediante la técnica del One-Hot-Encoding, que genera una variable binaria para cada posible valor del atributo original."
   ]
  },
  {
   "cell_type": "code",
   "execution_count": 178,
   "metadata": {
    "ExecuteTime": {
     "end_time": "2024-05-05T08:41:43.233480800Z",
     "start_time": "2024-05-05T08:41:42.817036500Z"
    }
   },
   "outputs": [
    {
     "data": {
      "text/html": [
       "<div>\n",
       "<style scoped>\n",
       "    .dataframe tbody tr th:only-of-type {\n",
       "        vertical-align: middle;\n",
       "    }\n",
       "\n",
       "    .dataframe tbody tr th {\n",
       "        vertical-align: top;\n",
       "    }\n",
       "\n",
       "    .dataframe thead th {\n",
       "        text-align: right;\n",
       "    }\n",
       "</style>\n",
       "<table border=\"1\" class=\"dataframe\">\n",
       "  <thead>\n",
       "    <tr style=\"text-align: right;\">\n",
       "      <th></th>\n",
       "      <th>Temperature</th>\n",
       "      <th>L</th>\n",
       "      <th>R</th>\n",
       "      <th>A_M</th>\n",
       "      <th>Spectral_Class</th>\n",
       "      <th>red</th>\n",
       "      <th>blue white</th>\n",
       "      <th>white</th>\n",
       "      <th>yellowish white</th>\n",
       "      <th>pale yellow orange</th>\n",
       "      <th>blue</th>\n",
       "      <th>whitish</th>\n",
       "      <th>yellow white</th>\n",
       "      <th>orange</th>\n",
       "      <th>yellowish</th>\n",
       "      <th>orange-red</th>\n",
       "    </tr>\n",
       "  </thead>\n",
       "  <tbody>\n",
       "    <tr>\n",
       "      <th>0</th>\n",
       "      <td>3068</td>\n",
       "      <td>0.002400</td>\n",
       "      <td>0.1700</td>\n",
       "      <td>16.12</td>\n",
       "      <td>M</td>\n",
       "      <td>1</td>\n",
       "      <td>0</td>\n",
       "      <td>0</td>\n",
       "      <td>0</td>\n",
       "      <td>0</td>\n",
       "      <td>0</td>\n",
       "      <td>0</td>\n",
       "      <td>0</td>\n",
       "      <td>0</td>\n",
       "      <td>0</td>\n",
       "      <td>0</td>\n",
       "    </tr>\n",
       "    <tr>\n",
       "      <th>1</th>\n",
       "      <td>3042</td>\n",
       "      <td>0.000500</td>\n",
       "      <td>0.1542</td>\n",
       "      <td>16.60</td>\n",
       "      <td>M</td>\n",
       "      <td>1</td>\n",
       "      <td>0</td>\n",
       "      <td>0</td>\n",
       "      <td>0</td>\n",
       "      <td>0</td>\n",
       "      <td>0</td>\n",
       "      <td>0</td>\n",
       "      <td>0</td>\n",
       "      <td>0</td>\n",
       "      <td>0</td>\n",
       "      <td>0</td>\n",
       "    </tr>\n",
       "    <tr>\n",
       "      <th>2</th>\n",
       "      <td>2600</td>\n",
       "      <td>0.000300</td>\n",
       "      <td>0.1020</td>\n",
       "      <td>18.70</td>\n",
       "      <td>M</td>\n",
       "      <td>1</td>\n",
       "      <td>0</td>\n",
       "      <td>0</td>\n",
       "      <td>0</td>\n",
       "      <td>0</td>\n",
       "      <td>0</td>\n",
       "      <td>0</td>\n",
       "      <td>0</td>\n",
       "      <td>0</td>\n",
       "      <td>0</td>\n",
       "      <td>0</td>\n",
       "    </tr>\n",
       "    <tr>\n",
       "      <th>3</th>\n",
       "      <td>2800</td>\n",
       "      <td>0.000200</td>\n",
       "      <td>0.1600</td>\n",
       "      <td>16.65</td>\n",
       "      <td>M</td>\n",
       "      <td>1</td>\n",
       "      <td>0</td>\n",
       "      <td>0</td>\n",
       "      <td>0</td>\n",
       "      <td>0</td>\n",
       "      <td>0</td>\n",
       "      <td>0</td>\n",
       "      <td>0</td>\n",
       "      <td>0</td>\n",
       "      <td>0</td>\n",
       "      <td>0</td>\n",
       "    </tr>\n",
       "    <tr>\n",
       "      <th>4</th>\n",
       "      <td>1939</td>\n",
       "      <td>0.000138</td>\n",
       "      <td>0.1030</td>\n",
       "      <td>20.06</td>\n",
       "      <td>M</td>\n",
       "      <td>1</td>\n",
       "      <td>0</td>\n",
       "      <td>0</td>\n",
       "      <td>0</td>\n",
       "      <td>0</td>\n",
       "      <td>0</td>\n",
       "      <td>0</td>\n",
       "      <td>0</td>\n",
       "      <td>0</td>\n",
       "      <td>0</td>\n",
       "      <td>0</td>\n",
       "    </tr>\n",
       "    <tr>\n",
       "      <th>...</th>\n",
       "      <td>...</td>\n",
       "      <td>...</td>\n",
       "      <td>...</td>\n",
       "      <td>...</td>\n",
       "      <td>...</td>\n",
       "      <td>...</td>\n",
       "      <td>...</td>\n",
       "      <td>...</td>\n",
       "      <td>...</td>\n",
       "      <td>...</td>\n",
       "      <td>...</td>\n",
       "      <td>...</td>\n",
       "      <td>...</td>\n",
       "      <td>...</td>\n",
       "      <td>...</td>\n",
       "      <td>...</td>\n",
       "    </tr>\n",
       "    <tr>\n",
       "      <th>235</th>\n",
       "      <td>38940</td>\n",
       "      <td>374830.000000</td>\n",
       "      <td>1356.0000</td>\n",
       "      <td>-9.93</td>\n",
       "      <td>O</td>\n",
       "      <td>0</td>\n",
       "      <td>0</td>\n",
       "      <td>0</td>\n",
       "      <td>0</td>\n",
       "      <td>0</td>\n",
       "      <td>1</td>\n",
       "      <td>0</td>\n",
       "      <td>0</td>\n",
       "      <td>0</td>\n",
       "      <td>0</td>\n",
       "      <td>0</td>\n",
       "    </tr>\n",
       "    <tr>\n",
       "      <th>236</th>\n",
       "      <td>30839</td>\n",
       "      <td>834042.000000</td>\n",
       "      <td>1194.0000</td>\n",
       "      <td>-10.63</td>\n",
       "      <td>O</td>\n",
       "      <td>0</td>\n",
       "      <td>0</td>\n",
       "      <td>0</td>\n",
       "      <td>0</td>\n",
       "      <td>0</td>\n",
       "      <td>1</td>\n",
       "      <td>0</td>\n",
       "      <td>0</td>\n",
       "      <td>0</td>\n",
       "      <td>0</td>\n",
       "      <td>0</td>\n",
       "    </tr>\n",
       "    <tr>\n",
       "      <th>237</th>\n",
       "      <td>8829</td>\n",
       "      <td>537493.000000</td>\n",
       "      <td>1423.0000</td>\n",
       "      <td>-10.73</td>\n",
       "      <td>A</td>\n",
       "      <td>0</td>\n",
       "      <td>0</td>\n",
       "      <td>1</td>\n",
       "      <td>0</td>\n",
       "      <td>0</td>\n",
       "      <td>0</td>\n",
       "      <td>0</td>\n",
       "      <td>0</td>\n",
       "      <td>0</td>\n",
       "      <td>0</td>\n",
       "      <td>0</td>\n",
       "    </tr>\n",
       "    <tr>\n",
       "      <th>238</th>\n",
       "      <td>9235</td>\n",
       "      <td>404940.000000</td>\n",
       "      <td>1112.0000</td>\n",
       "      <td>-11.23</td>\n",
       "      <td>A</td>\n",
       "      <td>0</td>\n",
       "      <td>0</td>\n",
       "      <td>1</td>\n",
       "      <td>0</td>\n",
       "      <td>0</td>\n",
       "      <td>0</td>\n",
       "      <td>0</td>\n",
       "      <td>0</td>\n",
       "      <td>0</td>\n",
       "      <td>0</td>\n",
       "      <td>0</td>\n",
       "    </tr>\n",
       "    <tr>\n",
       "      <th>239</th>\n",
       "      <td>37882</td>\n",
       "      <td>294903.000000</td>\n",
       "      <td>1783.0000</td>\n",
       "      <td>-7.80</td>\n",
       "      <td>O</td>\n",
       "      <td>0</td>\n",
       "      <td>0</td>\n",
       "      <td>0</td>\n",
       "      <td>0</td>\n",
       "      <td>0</td>\n",
       "      <td>1</td>\n",
       "      <td>0</td>\n",
       "      <td>0</td>\n",
       "      <td>0</td>\n",
       "      <td>0</td>\n",
       "      <td>0</td>\n",
       "    </tr>\n",
       "  </tbody>\n",
       "</table>\n",
       "<p>240 rows × 16 columns</p>\n",
       "</div>"
      ],
      "text/plain": [
       "     Temperature              L          R    A_M Spectral_Class  red  \\\n",
       "0           3068       0.002400     0.1700  16.12              M    1   \n",
       "1           3042       0.000500     0.1542  16.60              M    1   \n",
       "2           2600       0.000300     0.1020  18.70              M    1   \n",
       "3           2800       0.000200     0.1600  16.65              M    1   \n",
       "4           1939       0.000138     0.1030  20.06              M    1   \n",
       "..           ...            ...        ...    ...            ...  ...   \n",
       "235        38940  374830.000000  1356.0000  -9.93              O    0   \n",
       "236        30839  834042.000000  1194.0000 -10.63              O    0   \n",
       "237         8829  537493.000000  1423.0000 -10.73              A    0   \n",
       "238         9235  404940.000000  1112.0000 -11.23              A    0   \n",
       "239        37882  294903.000000  1783.0000  -7.80              O    0   \n",
       "\n",
       "     blue white  white  yellowish white  pale yellow orange  blue  whitish  \\\n",
       "0             0      0                0                   0     0        0   \n",
       "1             0      0                0                   0     0        0   \n",
       "2             0      0                0                   0     0        0   \n",
       "3             0      0                0                   0     0        0   \n",
       "4             0      0                0                   0     0        0   \n",
       "..          ...    ...              ...                 ...   ...      ...   \n",
       "235           0      0                0                   0     1        0   \n",
       "236           0      0                0                   0     1        0   \n",
       "237           0      1                0                   0     0        0   \n",
       "238           0      1                0                   0     0        0   \n",
       "239           0      0                0                   0     1        0   \n",
       "\n",
       "     yellow white  orange  yellowish  orange-red  \n",
       "0               0       0          0           0  \n",
       "1               0       0          0           0  \n",
       "2               0       0          0           0  \n",
       "3               0       0          0           0  \n",
       "4               0       0          0           0  \n",
       "..            ...     ...        ...         ...  \n",
       "235             0       0          0           0  \n",
       "236             0       0          0           0  \n",
       "237             0       0          0           0  \n",
       "238             0       0          0           0  \n",
       "239             0       0          0           0  \n",
       "\n",
       "[240 rows x 16 columns]"
      ]
     },
     "execution_count": 178,
     "metadata": {},
     "output_type": "execute_result"
    }
   ],
   "source": [
    "#1. One Hot Encoding de color\n",
    "\n",
    "for color in stars_1hot['Color'].unique():\n",
    "    labels= []\n",
    "    #Iteramos 1 vez por fila\n",
    "    for i in stars_1hot['Color']:\n",
    "        if i==color:\n",
    "            labels.append(1)\n",
    "        else:\n",
    "            labels.append(0)\n",
    "    stars_1hot[color]= labels\n",
    "\n",
    "# se elimina el atributo inicial\n",
    "stars_1hot = stars_1hot.drop(columns=[\"Color\"])\n",
    "\n",
    "stars_1hot"
   ]
  },
  {
   "cell_type": "code",
   "execution_count": 179,
   "metadata": {
    "ExecuteTime": {
     "end_time": "2024-05-05T08:41:43.615018500Z",
     "start_time": "2024-05-05T08:41:43.264036500Z"
    }
   },
   "outputs": [
    {
     "data": {
      "text/html": [
       "<div>\n",
       "<style scoped>\n",
       "    .dataframe tbody tr th:only-of-type {\n",
       "        vertical-align: middle;\n",
       "    }\n",
       "\n",
       "    .dataframe tbody tr th {\n",
       "        vertical-align: top;\n",
       "    }\n",
       "\n",
       "    .dataframe thead th {\n",
       "        text-align: right;\n",
       "    }\n",
       "</style>\n",
       "<table border=\"1\" class=\"dataframe\">\n",
       "  <thead>\n",
       "    <tr style=\"text-align: right;\">\n",
       "      <th></th>\n",
       "      <th>Temperature</th>\n",
       "      <th>L</th>\n",
       "      <th>R</th>\n",
       "      <th>A_M</th>\n",
       "      <th>red</th>\n",
       "      <th>blue white</th>\n",
       "      <th>white</th>\n",
       "      <th>yellowish white</th>\n",
       "      <th>pale yellow orange</th>\n",
       "      <th>blue</th>\n",
       "      <th>...</th>\n",
       "      <th>orange</th>\n",
       "      <th>yellowish</th>\n",
       "      <th>orange-red</th>\n",
       "      <th>M</th>\n",
       "      <th>B</th>\n",
       "      <th>A</th>\n",
       "      <th>F</th>\n",
       "      <th>O</th>\n",
       "      <th>K</th>\n",
       "      <th>G</th>\n",
       "    </tr>\n",
       "  </thead>\n",
       "  <tbody>\n",
       "    <tr>\n",
       "      <th>0</th>\n",
       "      <td>3068</td>\n",
       "      <td>0.002400</td>\n",
       "      <td>0.1700</td>\n",
       "      <td>16.12</td>\n",
       "      <td>1</td>\n",
       "      <td>0</td>\n",
       "      <td>0</td>\n",
       "      <td>0</td>\n",
       "      <td>0</td>\n",
       "      <td>0</td>\n",
       "      <td>...</td>\n",
       "      <td>0</td>\n",
       "      <td>0</td>\n",
       "      <td>0</td>\n",
       "      <td>1</td>\n",
       "      <td>0</td>\n",
       "      <td>0</td>\n",
       "      <td>0</td>\n",
       "      <td>0</td>\n",
       "      <td>0</td>\n",
       "      <td>0</td>\n",
       "    </tr>\n",
       "    <tr>\n",
       "      <th>1</th>\n",
       "      <td>3042</td>\n",
       "      <td>0.000500</td>\n",
       "      <td>0.1542</td>\n",
       "      <td>16.60</td>\n",
       "      <td>1</td>\n",
       "      <td>0</td>\n",
       "      <td>0</td>\n",
       "      <td>0</td>\n",
       "      <td>0</td>\n",
       "      <td>0</td>\n",
       "      <td>...</td>\n",
       "      <td>0</td>\n",
       "      <td>0</td>\n",
       "      <td>0</td>\n",
       "      <td>1</td>\n",
       "      <td>0</td>\n",
       "      <td>0</td>\n",
       "      <td>0</td>\n",
       "      <td>0</td>\n",
       "      <td>0</td>\n",
       "      <td>0</td>\n",
       "    </tr>\n",
       "    <tr>\n",
       "      <th>2</th>\n",
       "      <td>2600</td>\n",
       "      <td>0.000300</td>\n",
       "      <td>0.1020</td>\n",
       "      <td>18.70</td>\n",
       "      <td>1</td>\n",
       "      <td>0</td>\n",
       "      <td>0</td>\n",
       "      <td>0</td>\n",
       "      <td>0</td>\n",
       "      <td>0</td>\n",
       "      <td>...</td>\n",
       "      <td>0</td>\n",
       "      <td>0</td>\n",
       "      <td>0</td>\n",
       "      <td>1</td>\n",
       "      <td>0</td>\n",
       "      <td>0</td>\n",
       "      <td>0</td>\n",
       "      <td>0</td>\n",
       "      <td>0</td>\n",
       "      <td>0</td>\n",
       "    </tr>\n",
       "    <tr>\n",
       "      <th>3</th>\n",
       "      <td>2800</td>\n",
       "      <td>0.000200</td>\n",
       "      <td>0.1600</td>\n",
       "      <td>16.65</td>\n",
       "      <td>1</td>\n",
       "      <td>0</td>\n",
       "      <td>0</td>\n",
       "      <td>0</td>\n",
       "      <td>0</td>\n",
       "      <td>0</td>\n",
       "      <td>...</td>\n",
       "      <td>0</td>\n",
       "      <td>0</td>\n",
       "      <td>0</td>\n",
       "      <td>1</td>\n",
       "      <td>0</td>\n",
       "      <td>0</td>\n",
       "      <td>0</td>\n",
       "      <td>0</td>\n",
       "      <td>0</td>\n",
       "      <td>0</td>\n",
       "    </tr>\n",
       "    <tr>\n",
       "      <th>4</th>\n",
       "      <td>1939</td>\n",
       "      <td>0.000138</td>\n",
       "      <td>0.1030</td>\n",
       "      <td>20.06</td>\n",
       "      <td>1</td>\n",
       "      <td>0</td>\n",
       "      <td>0</td>\n",
       "      <td>0</td>\n",
       "      <td>0</td>\n",
       "      <td>0</td>\n",
       "      <td>...</td>\n",
       "      <td>0</td>\n",
       "      <td>0</td>\n",
       "      <td>0</td>\n",
       "      <td>1</td>\n",
       "      <td>0</td>\n",
       "      <td>0</td>\n",
       "      <td>0</td>\n",
       "      <td>0</td>\n",
       "      <td>0</td>\n",
       "      <td>0</td>\n",
       "    </tr>\n",
       "    <tr>\n",
       "      <th>...</th>\n",
       "      <td>...</td>\n",
       "      <td>...</td>\n",
       "      <td>...</td>\n",
       "      <td>...</td>\n",
       "      <td>...</td>\n",
       "      <td>...</td>\n",
       "      <td>...</td>\n",
       "      <td>...</td>\n",
       "      <td>...</td>\n",
       "      <td>...</td>\n",
       "      <td>...</td>\n",
       "      <td>...</td>\n",
       "      <td>...</td>\n",
       "      <td>...</td>\n",
       "      <td>...</td>\n",
       "      <td>...</td>\n",
       "      <td>...</td>\n",
       "      <td>...</td>\n",
       "      <td>...</td>\n",
       "      <td>...</td>\n",
       "      <td>...</td>\n",
       "    </tr>\n",
       "    <tr>\n",
       "      <th>235</th>\n",
       "      <td>38940</td>\n",
       "      <td>374830.000000</td>\n",
       "      <td>1356.0000</td>\n",
       "      <td>-9.93</td>\n",
       "      <td>0</td>\n",
       "      <td>0</td>\n",
       "      <td>0</td>\n",
       "      <td>0</td>\n",
       "      <td>0</td>\n",
       "      <td>1</td>\n",
       "      <td>...</td>\n",
       "      <td>0</td>\n",
       "      <td>0</td>\n",
       "      <td>0</td>\n",
       "      <td>0</td>\n",
       "      <td>0</td>\n",
       "      <td>0</td>\n",
       "      <td>0</td>\n",
       "      <td>1</td>\n",
       "      <td>0</td>\n",
       "      <td>0</td>\n",
       "    </tr>\n",
       "    <tr>\n",
       "      <th>236</th>\n",
       "      <td>30839</td>\n",
       "      <td>834042.000000</td>\n",
       "      <td>1194.0000</td>\n",
       "      <td>-10.63</td>\n",
       "      <td>0</td>\n",
       "      <td>0</td>\n",
       "      <td>0</td>\n",
       "      <td>0</td>\n",
       "      <td>0</td>\n",
       "      <td>1</td>\n",
       "      <td>...</td>\n",
       "      <td>0</td>\n",
       "      <td>0</td>\n",
       "      <td>0</td>\n",
       "      <td>0</td>\n",
       "      <td>0</td>\n",
       "      <td>0</td>\n",
       "      <td>0</td>\n",
       "      <td>1</td>\n",
       "      <td>0</td>\n",
       "      <td>0</td>\n",
       "    </tr>\n",
       "    <tr>\n",
       "      <th>237</th>\n",
       "      <td>8829</td>\n",
       "      <td>537493.000000</td>\n",
       "      <td>1423.0000</td>\n",
       "      <td>-10.73</td>\n",
       "      <td>0</td>\n",
       "      <td>0</td>\n",
       "      <td>1</td>\n",
       "      <td>0</td>\n",
       "      <td>0</td>\n",
       "      <td>0</td>\n",
       "      <td>...</td>\n",
       "      <td>0</td>\n",
       "      <td>0</td>\n",
       "      <td>0</td>\n",
       "      <td>0</td>\n",
       "      <td>0</td>\n",
       "      <td>1</td>\n",
       "      <td>0</td>\n",
       "      <td>0</td>\n",
       "      <td>0</td>\n",
       "      <td>0</td>\n",
       "    </tr>\n",
       "    <tr>\n",
       "      <th>238</th>\n",
       "      <td>9235</td>\n",
       "      <td>404940.000000</td>\n",
       "      <td>1112.0000</td>\n",
       "      <td>-11.23</td>\n",
       "      <td>0</td>\n",
       "      <td>0</td>\n",
       "      <td>1</td>\n",
       "      <td>0</td>\n",
       "      <td>0</td>\n",
       "      <td>0</td>\n",
       "      <td>...</td>\n",
       "      <td>0</td>\n",
       "      <td>0</td>\n",
       "      <td>0</td>\n",
       "      <td>0</td>\n",
       "      <td>0</td>\n",
       "      <td>1</td>\n",
       "      <td>0</td>\n",
       "      <td>0</td>\n",
       "      <td>0</td>\n",
       "      <td>0</td>\n",
       "    </tr>\n",
       "    <tr>\n",
       "      <th>239</th>\n",
       "      <td>37882</td>\n",
       "      <td>294903.000000</td>\n",
       "      <td>1783.0000</td>\n",
       "      <td>-7.80</td>\n",
       "      <td>0</td>\n",
       "      <td>0</td>\n",
       "      <td>0</td>\n",
       "      <td>0</td>\n",
       "      <td>0</td>\n",
       "      <td>1</td>\n",
       "      <td>...</td>\n",
       "      <td>0</td>\n",
       "      <td>0</td>\n",
       "      <td>0</td>\n",
       "      <td>0</td>\n",
       "      <td>0</td>\n",
       "      <td>0</td>\n",
       "      <td>0</td>\n",
       "      <td>1</td>\n",
       "      <td>0</td>\n",
       "      <td>0</td>\n",
       "    </tr>\n",
       "  </tbody>\n",
       "</table>\n",
       "<p>240 rows × 22 columns</p>\n",
       "</div>"
      ],
      "text/plain": [
       "     Temperature              L          R    A_M  red  blue white  white  \\\n",
       "0           3068       0.002400     0.1700  16.12    1           0      0   \n",
       "1           3042       0.000500     0.1542  16.60    1           0      0   \n",
       "2           2600       0.000300     0.1020  18.70    1           0      0   \n",
       "3           2800       0.000200     0.1600  16.65    1           0      0   \n",
       "4           1939       0.000138     0.1030  20.06    1           0      0   \n",
       "..           ...            ...        ...    ...  ...         ...    ...   \n",
       "235        38940  374830.000000  1356.0000  -9.93    0           0      0   \n",
       "236        30839  834042.000000  1194.0000 -10.63    0           0      0   \n",
       "237         8829  537493.000000  1423.0000 -10.73    0           0      1   \n",
       "238         9235  404940.000000  1112.0000 -11.23    0           0      1   \n",
       "239        37882  294903.000000  1783.0000  -7.80    0           0      0   \n",
       "\n",
       "     yellowish white  pale yellow orange  blue  ...  orange  yellowish  \\\n",
       "0                  0                   0     0  ...       0          0   \n",
       "1                  0                   0     0  ...       0          0   \n",
       "2                  0                   0     0  ...       0          0   \n",
       "3                  0                   0     0  ...       0          0   \n",
       "4                  0                   0     0  ...       0          0   \n",
       "..               ...                 ...   ...  ...     ...        ...   \n",
       "235                0                   0     1  ...       0          0   \n",
       "236                0                   0     1  ...       0          0   \n",
       "237                0                   0     0  ...       0          0   \n",
       "238                0                   0     0  ...       0          0   \n",
       "239                0                   0     1  ...       0          0   \n",
       "\n",
       "     orange-red  M  B  A  F  O  K  G  \n",
       "0             0  1  0  0  0  0  0  0  \n",
       "1             0  1  0  0  0  0  0  0  \n",
       "2             0  1  0  0  0  0  0  0  \n",
       "3             0  1  0  0  0  0  0  0  \n",
       "4             0  1  0  0  0  0  0  0  \n",
       "..          ... .. .. .. .. .. .. ..  \n",
       "235           0  0  0  0  0  1  0  0  \n",
       "236           0  0  0  0  0  1  0  0  \n",
       "237           0  0  0  1  0  0  0  0  \n",
       "238           0  0  0  1  0  0  0  0  \n",
       "239           0  0  0  0  0  1  0  0  \n",
       "\n",
       "[240 rows x 22 columns]"
      ]
     },
     "execution_count": 179,
     "metadata": {},
     "output_type": "execute_result"
    }
   ],
   "source": [
    "#2. One hot encoding de Clase espectral\n",
    "for spectral in stars_1hot['Spectral_Class'].unique():\n",
    "    labels= []\n",
    "    #Iteramos 1 vez por fila\n",
    "    for i in stars_1hot['Spectral_Class']:\n",
    "        if i==spectral:\n",
    "            labels.append(1)\n",
    "        else:\n",
    "            labels.append(0)\n",
    "    stars_1hot[spectral]= labels\n",
    "\n",
    "# se elimina el atributo inicial\n",
    "stars_1hot = stars_1hot.drop(columns=[\"Spectral_Class\"])\n",
    "    \n",
    "stars_1hot"
   ]
  },
  {
   "cell_type": "markdown",
   "metadata": {},
   "source": [
    "## 2. Ordinal Scale Encoding\n",
    "En esta segunda variante, convertimos las variables categóricas a escalas ordinales. "
   ]
  },
  {
   "cell_type": "code",
   "execution_count": 180,
   "metadata": {},
   "outputs": [],
   "source": [
    "# orden de clase espectral asociada a una estrella de menor a mayor energía\n",
    "spectral_class=[\"M\",\"K\",\"G\",\"F\",\"A\",\"B\",\"O\"]"
   ]
  },
  {
   "cell_type": "code",
   "execution_count": 181,
   "metadata": {
    "ExecuteTime": {
     "end_time": "2024-05-05T08:41:47.988036900Z",
     "start_time": "2024-05-05T08:41:47.770808700Z"
    }
   },
   "outputs": [
    {
     "data": {
      "text/html": [
       "<div>\n",
       "<style scoped>\n",
       "    .dataframe tbody tr th:only-of-type {\n",
       "        vertical-align: middle;\n",
       "    }\n",
       "\n",
       "    .dataframe tbody tr th {\n",
       "        vertical-align: top;\n",
       "    }\n",
       "\n",
       "    .dataframe thead th {\n",
       "        text-align: right;\n",
       "    }\n",
       "</style>\n",
       "<table border=\"1\" class=\"dataframe\">\n",
       "  <thead>\n",
       "    <tr style=\"text-align: right;\">\n",
       "      <th></th>\n",
       "      <th>Temperature</th>\n",
       "      <th>L</th>\n",
       "      <th>R</th>\n",
       "      <th>A_M</th>\n",
       "      <th>Color</th>\n",
       "      <th>Spectral_Class</th>\n",
       "    </tr>\n",
       "  </thead>\n",
       "  <tbody>\n",
       "    <tr>\n",
       "      <th>0</th>\n",
       "      <td>3068</td>\n",
       "      <td>0.002400</td>\n",
       "      <td>0.1700</td>\n",
       "      <td>16.12</td>\n",
       "      <td>red</td>\n",
       "      <td>0</td>\n",
       "    </tr>\n",
       "    <tr>\n",
       "      <th>1</th>\n",
       "      <td>3042</td>\n",
       "      <td>0.000500</td>\n",
       "      <td>0.1542</td>\n",
       "      <td>16.60</td>\n",
       "      <td>red</td>\n",
       "      <td>0</td>\n",
       "    </tr>\n",
       "    <tr>\n",
       "      <th>2</th>\n",
       "      <td>2600</td>\n",
       "      <td>0.000300</td>\n",
       "      <td>0.1020</td>\n",
       "      <td>18.70</td>\n",
       "      <td>red</td>\n",
       "      <td>0</td>\n",
       "    </tr>\n",
       "    <tr>\n",
       "      <th>3</th>\n",
       "      <td>2800</td>\n",
       "      <td>0.000200</td>\n",
       "      <td>0.1600</td>\n",
       "      <td>16.65</td>\n",
       "      <td>red</td>\n",
       "      <td>0</td>\n",
       "    </tr>\n",
       "    <tr>\n",
       "      <th>4</th>\n",
       "      <td>1939</td>\n",
       "      <td>0.000138</td>\n",
       "      <td>0.1030</td>\n",
       "      <td>20.06</td>\n",
       "      <td>red</td>\n",
       "      <td>0</td>\n",
       "    </tr>\n",
       "    <tr>\n",
       "      <th>...</th>\n",
       "      <td>...</td>\n",
       "      <td>...</td>\n",
       "      <td>...</td>\n",
       "      <td>...</td>\n",
       "      <td>...</td>\n",
       "      <td>...</td>\n",
       "    </tr>\n",
       "    <tr>\n",
       "      <th>235</th>\n",
       "      <td>38940</td>\n",
       "      <td>374830.000000</td>\n",
       "      <td>1356.0000</td>\n",
       "      <td>-9.93</td>\n",
       "      <td>blue</td>\n",
       "      <td>6</td>\n",
       "    </tr>\n",
       "    <tr>\n",
       "      <th>236</th>\n",
       "      <td>30839</td>\n",
       "      <td>834042.000000</td>\n",
       "      <td>1194.0000</td>\n",
       "      <td>-10.63</td>\n",
       "      <td>blue</td>\n",
       "      <td>6</td>\n",
       "    </tr>\n",
       "    <tr>\n",
       "      <th>237</th>\n",
       "      <td>8829</td>\n",
       "      <td>537493.000000</td>\n",
       "      <td>1423.0000</td>\n",
       "      <td>-10.73</td>\n",
       "      <td>white</td>\n",
       "      <td>4</td>\n",
       "    </tr>\n",
       "    <tr>\n",
       "      <th>238</th>\n",
       "      <td>9235</td>\n",
       "      <td>404940.000000</td>\n",
       "      <td>1112.0000</td>\n",
       "      <td>-11.23</td>\n",
       "      <td>white</td>\n",
       "      <td>4</td>\n",
       "    </tr>\n",
       "    <tr>\n",
       "      <th>239</th>\n",
       "      <td>37882</td>\n",
       "      <td>294903.000000</td>\n",
       "      <td>1783.0000</td>\n",
       "      <td>-7.80</td>\n",
       "      <td>blue</td>\n",
       "      <td>6</td>\n",
       "    </tr>\n",
       "  </tbody>\n",
       "</table>\n",
       "<p>240 rows × 6 columns</p>\n",
       "</div>"
      ],
      "text/plain": [
       "     Temperature              L          R    A_M  Color  Spectral_Class\n",
       "0           3068       0.002400     0.1700  16.12    red               0\n",
       "1           3042       0.000500     0.1542  16.60    red               0\n",
       "2           2600       0.000300     0.1020  18.70    red               0\n",
       "3           2800       0.000200     0.1600  16.65    red               0\n",
       "4           1939       0.000138     0.1030  20.06    red               0\n",
       "..           ...            ...        ...    ...    ...             ...\n",
       "235        38940  374830.000000  1356.0000  -9.93   blue               6\n",
       "236        30839  834042.000000  1194.0000 -10.63   blue               6\n",
       "237         8829  537493.000000  1423.0000 -10.73  white               4\n",
       "238         9235  404940.000000  1112.0000 -11.23  white               4\n",
       "239        37882  294903.000000  1783.0000  -7.80   blue               6\n",
       "\n",
       "[240 rows x 6 columns]"
      ]
     },
     "execution_count": 181,
     "metadata": {},
     "output_type": "execute_result"
    }
   ],
   "source": [
    "labels= []\n",
    "\n",
    "#Iteramos 1 vez por fila\n",
    "for i in stars_ordinal['Spectral_Class']:\n",
    "    labels.append(spectral_class.index(i))\n",
    "       \n",
    "stars_ordinal['Spectral_Class']= labels\n",
    "    \n",
    "stars_ordinal\n"
   ]
  },
  {
   "cell_type": "markdown",
   "metadata": {},
   "source": [
    "En el caso de los colores, debemos averiguar en primer lugar el orden, es decir, qué colores se asignan a las estrellas menos calientes y cuáles a las más caliente. Para ello, se ha decidido ordenar los colores según la temperatura media de todas las estrellas asociadas a un mismo color. A continuación se obtiene dicho orden, de colores con menor temperatura media a aquellos con mayor temperatura media."
   ]
  },
  {
   "cell_type": "code",
   "execution_count": 182,
   "metadata": {
    "ExecuteTime": {
     "end_time": "2024-05-05T08:56:45.207456Z",
     "start_time": "2024-05-05T08:56:45.084368800Z"
    }
   },
   "outputs": [
    {
     "name": "stdout",
     "output_type": "stream",
     "text": [
      "Array of sorted colors ['red', 'orange', 'yellowish', 'orange-red', 'yellow white', 'pale yellow orange', 'whitish', 'white', 'yellowish white', 'blue white', 'blue']\n"
     ]
    }
   ],
   "source": [
    "color_means=[]\n",
    "\n",
    "iter = 0\n",
    "for color in stars_ordinal['Color'].unique():\n",
    "    \n",
    "    temp= stars_ordinal[stars_ordinal['Color']==color]['Temperature'].mean()\n",
    "    \n",
    "    # inserción del primer elemento\n",
    "    if iter == 0:\n",
    "        color_means.append({'Color': color, 'Temperature': temp})\n",
    "    \n",
    "    # inserción del resto, comprobando la posición de inserción\n",
    "    else:\n",
    "        inserted= False\n",
    "        i=0\n",
    "        while not inserted and i<len(color_means):\n",
    "            if temp <= color_means[i]['Temperature']:\n",
    "                color_means.insert(i, {'Color': color, 'Temperature': temp})\n",
    "                inserted = True\n",
    "            i+=1\n",
    "        \n",
    "        if not inserted:\n",
    "            color_means.append({'Color': color, 'Temperature': temp})\n",
    "            \n",
    "    iter += 1 \n",
    "    # print(\"array de medias actualizado: \", color_means)\n",
    "\n",
    "colors = []\n",
    "for i in range(len(color_means)):\n",
    "    colors.append(color_means[i]['Color'])\n",
    "print(\"Array of sorted colors\", colors)\n"
   ]
  },
  {
   "cell_type": "markdown",
   "metadata": {},
   "source": [
    "En base a ello se procede a asignar la etiqueta ordinal correspondiente al color de cada estrella."
   ]
  },
  {
   "cell_type": "code",
   "execution_count": 183,
   "metadata": {},
   "outputs": [
    {
     "name": "stdout",
     "output_type": "stream",
     "text": [
      "[0, 0, 0, 0, 0, 0, 0, 0, 0, 0, 0, 0, 0, 0, 0, 0, 0, 0, 0, 0, 9, 7, 7, 7, 9, 8, 9, 8, 8, 5, 10, 9, 9, 6, 4, 6, 4, 4, 4, 4, 0, 0, 0, 0, 0, 0, 0, 0, 0, 10, 0, 0, 0, 1, 0, 0, 0, 0, 0, 0, 0, 0, 0, 0, 0, 0, 0, 0, 0, 0, 0, 0, 0, 0, 0, 0, 0, 0, 0, 0, 4, 7, 7, 9, 9, 9, 9, 9, 7, 10, 4, 2, 2, 2, 9, 9, 3, 4, 9, 10, 10, 10, 10, 10, 10, 10, 10, 10, 10, 10, 0, 0, 0, 0, 0, 0, 0, 0, 0, 0, 0, 0, 0, 0, 0, 0, 0, 0, 0, 0, 0, 0, 0, 0, 0, 0, 0, 0, 0, 0, 9, 10, 10, 9, 9, 9, 9, 7, 7, 9, 9, 9, 9, 9, 9, 9, 9, 9, 9, 10, 10, 10, 10, 10, 10, 10, 10, 10, 10, 10, 0, 0, 1, 10, 0, 0, 10, 9, 9, 9, 0, 0, 0, 0, 0, 0, 0, 0, 0, 0, 0, 0, 0, 0, 0, 0, 0, 0, 0, 0, 10, 10, 10, 10, 10, 10, 10, 10, 10, 10, 9, 9, 9, 9, 10, 10, 9, 9, 9, 4, 10, 10, 10, 10, 10, 10, 10, 10, 10, 10, 9, 10, 10, 9, 9, 10, 10, 7, 7, 10]\n"
     ]
    },
    {
     "data": {
      "text/html": [
       "<div>\n",
       "<style scoped>\n",
       "    .dataframe tbody tr th:only-of-type {\n",
       "        vertical-align: middle;\n",
       "    }\n",
       "\n",
       "    .dataframe tbody tr th {\n",
       "        vertical-align: top;\n",
       "    }\n",
       "\n",
       "    .dataframe thead th {\n",
       "        text-align: right;\n",
       "    }\n",
       "</style>\n",
       "<table border=\"1\" class=\"dataframe\">\n",
       "  <thead>\n",
       "    <tr style=\"text-align: right;\">\n",
       "      <th></th>\n",
       "      <th>Temperature</th>\n",
       "      <th>L</th>\n",
       "      <th>R</th>\n",
       "      <th>A_M</th>\n",
       "      <th>Color</th>\n",
       "      <th>Spectral_Class</th>\n",
       "    </tr>\n",
       "  </thead>\n",
       "  <tbody>\n",
       "    <tr>\n",
       "      <th>0</th>\n",
       "      <td>3068</td>\n",
       "      <td>0.002400</td>\n",
       "      <td>0.1700</td>\n",
       "      <td>16.12</td>\n",
       "      <td>0</td>\n",
       "      <td>0</td>\n",
       "    </tr>\n",
       "    <tr>\n",
       "      <th>1</th>\n",
       "      <td>3042</td>\n",
       "      <td>0.000500</td>\n",
       "      <td>0.1542</td>\n",
       "      <td>16.60</td>\n",
       "      <td>0</td>\n",
       "      <td>0</td>\n",
       "    </tr>\n",
       "    <tr>\n",
       "      <th>2</th>\n",
       "      <td>2600</td>\n",
       "      <td>0.000300</td>\n",
       "      <td>0.1020</td>\n",
       "      <td>18.70</td>\n",
       "      <td>0</td>\n",
       "      <td>0</td>\n",
       "    </tr>\n",
       "    <tr>\n",
       "      <th>3</th>\n",
       "      <td>2800</td>\n",
       "      <td>0.000200</td>\n",
       "      <td>0.1600</td>\n",
       "      <td>16.65</td>\n",
       "      <td>0</td>\n",
       "      <td>0</td>\n",
       "    </tr>\n",
       "    <tr>\n",
       "      <th>4</th>\n",
       "      <td>1939</td>\n",
       "      <td>0.000138</td>\n",
       "      <td>0.1030</td>\n",
       "      <td>20.06</td>\n",
       "      <td>0</td>\n",
       "      <td>0</td>\n",
       "    </tr>\n",
       "    <tr>\n",
       "      <th>...</th>\n",
       "      <td>...</td>\n",
       "      <td>...</td>\n",
       "      <td>...</td>\n",
       "      <td>...</td>\n",
       "      <td>...</td>\n",
       "      <td>...</td>\n",
       "    </tr>\n",
       "    <tr>\n",
       "      <th>235</th>\n",
       "      <td>38940</td>\n",
       "      <td>374830.000000</td>\n",
       "      <td>1356.0000</td>\n",
       "      <td>-9.93</td>\n",
       "      <td>10</td>\n",
       "      <td>6</td>\n",
       "    </tr>\n",
       "    <tr>\n",
       "      <th>236</th>\n",
       "      <td>30839</td>\n",
       "      <td>834042.000000</td>\n",
       "      <td>1194.0000</td>\n",
       "      <td>-10.63</td>\n",
       "      <td>10</td>\n",
       "      <td>6</td>\n",
       "    </tr>\n",
       "    <tr>\n",
       "      <th>237</th>\n",
       "      <td>8829</td>\n",
       "      <td>537493.000000</td>\n",
       "      <td>1423.0000</td>\n",
       "      <td>-10.73</td>\n",
       "      <td>7</td>\n",
       "      <td>4</td>\n",
       "    </tr>\n",
       "    <tr>\n",
       "      <th>238</th>\n",
       "      <td>9235</td>\n",
       "      <td>404940.000000</td>\n",
       "      <td>1112.0000</td>\n",
       "      <td>-11.23</td>\n",
       "      <td>7</td>\n",
       "      <td>4</td>\n",
       "    </tr>\n",
       "    <tr>\n",
       "      <th>239</th>\n",
       "      <td>37882</td>\n",
       "      <td>294903.000000</td>\n",
       "      <td>1783.0000</td>\n",
       "      <td>-7.80</td>\n",
       "      <td>10</td>\n",
       "      <td>6</td>\n",
       "    </tr>\n",
       "  </tbody>\n",
       "</table>\n",
       "<p>240 rows × 6 columns</p>\n",
       "</div>"
      ],
      "text/plain": [
       "     Temperature              L          R    A_M  Color  Spectral_Class\n",
       "0           3068       0.002400     0.1700  16.12      0               0\n",
       "1           3042       0.000500     0.1542  16.60      0               0\n",
       "2           2600       0.000300     0.1020  18.70      0               0\n",
       "3           2800       0.000200     0.1600  16.65      0               0\n",
       "4           1939       0.000138     0.1030  20.06      0               0\n",
       "..           ...            ...        ...    ...    ...             ...\n",
       "235        38940  374830.000000  1356.0000  -9.93     10               6\n",
       "236        30839  834042.000000  1194.0000 -10.63     10               6\n",
       "237         8829  537493.000000  1423.0000 -10.73      7               4\n",
       "238         9235  404940.000000  1112.0000 -11.23      7               4\n",
       "239        37882  294903.000000  1783.0000  -7.80     10               6\n",
       "\n",
       "[240 rows x 6 columns]"
      ]
     },
     "execution_count": 183,
     "metadata": {},
     "output_type": "execute_result"
    }
   ],
   "source": [
    "labels= []\n",
    "\n",
    "#Iteramos 1 vez por fila\n",
    "for i in stars_ordinal['Color']:\n",
    "    labels.append(colors.index(i))\n",
    "\n",
    "stars_ordinal['Color']= labels\n",
    "    \n",
    "stars_ordinal\n"
   ]
  },
  {
   "cell_type": "markdown",
   "metadata": {},
   "source": [
    "## 3.PCA\n",
    "Para poder aplicar el algoritmo de clasificación y poder representar los datos correctamente se aplica un algoritmo de PCA, Análisis de Componentes Principales. Esto es necesario para reducir la dimensionalidad y permitir la correcta visualización de los datos clusterizados, ya que actualmente están formados por más de dos dimensiones (las dimensiones son los atributos).\n"
   ]
  },
  {
   "cell_type": "code",
   "execution_count": 188,
   "metadata": {},
   "outputs": [],
   "source": [
    "from sklearn.decomposition import PCA\n",
    "from sklearn.preprocessing import StandardScaler"
   ]
  },
  {
   "cell_type": "markdown",
   "metadata": {},
   "source": [
    "En primer lugar se debe llevar a cabo un nuevo preprocesamiento de los datos para escalar las variables."
   ]
  },
  {
   "cell_type": "code",
   "execution_count": 199,
   "metadata": {},
   "outputs": [
    {
     "data": {
      "text/plain": [
       "array([[-0.7793821 , -0.59862356, -0.45920992,  1.11674535, -0.99791525,\n",
       "        -0.99778079],\n",
       "       [-0.78210961, -0.59862357, -0.45924053,  1.16241376, -0.99791525,\n",
       "        -0.99778079],\n",
       "       [-0.82847728, -0.59862357, -0.45934168,  1.36221308, -0.99791525,\n",
       "        -0.99778079],\n",
       "       ...,\n",
       "       [-0.17502879,  2.40315735,  2.29779992, -1.43783157,  0.54440087,\n",
       "         0.58547468],\n",
       "       [-0.13243767,  1.66287782,  1.69517694, -1.48540283,  0.54440087,\n",
       "         0.58547468],\n",
       "       [ 2.87275403,  1.04834522,  2.99536993, -1.15906395,  1.20539349,\n",
       "         1.37710241]])"
      ]
     },
     "execution_count": 199,
     "metadata": {},
     "output_type": "execute_result"
    }
   ],
   "source": [
    "#features = stars_1hot.columns.tolist()\n",
    "#features_ = stars_1hot[[features[0], features[1], features[2]]]\n",
    "\n",
    "# con el dataset preprocesado con ordinal scaler\n",
    "scaler = StandardScaler()\n",
    "stars_ordinal_scaled= scaler.fit_transform(stars_ordinal[['Temperature', 'L', 'R', 'A_M', 'Color', 'Spectral_Class']])\n",
    "stars_ordinal_scaled"
   ]
  },
  {
   "cell_type": "code",
   "execution_count": 200,
   "metadata": {},
   "outputs": [
    {
     "data": {
      "text/plain": [
       "array([[-0.7793821 , -0.59862356, -0.45920992, ..., -0.4472136 ,\n",
       "        -0.16012815, -0.06468462],\n",
       "       [-0.78210961, -0.59862357, -0.45924053, ..., -0.4472136 ,\n",
       "        -0.16012815, -0.06468462],\n",
       "       [-0.82847728, -0.59862357, -0.45934168, ..., -0.4472136 ,\n",
       "        -0.16012815, -0.06468462],\n",
       "       ...,\n",
       "       [-0.17502879,  2.40315735,  2.29779992, ..., -0.4472136 ,\n",
       "        -0.16012815, -0.06468462],\n",
       "       [-0.13243767,  1.66287782,  1.69517694, ..., -0.4472136 ,\n",
       "        -0.16012815, -0.06468462],\n",
       "       [ 2.87275403,  1.04834522,  2.99536993, ...,  2.23606798,\n",
       "        -0.16012815, -0.06468462]])"
      ]
     },
     "execution_count": 200,
     "metadata": {},
     "output_type": "execute_result"
    }
   ],
   "source": [
    "# con el dataset preprocesado con One Hot Encoding\n",
    "stars_1hot_scaled = scaler.fit_transform(stars_1hot[['Temperature', 'L', 'R', 'A_M', 'red', 'blue white', 'white',\n",
    "                                                    'yellowish white', 'pale yellow orange', 'blue', 'whitish', \n",
    "                                                    'yellow white', 'orange', 'yellowish', 'orange-red', 'M', 'B', \n",
    "                                                    'A', 'F', 'O', 'K', 'G']])\n",
    "stars_1hot_scaled"
   ]
  },
  {
   "cell_type": "code",
   "execution_count": 204,
   "metadata": {},
   "outputs": [
    {
     "data": {
      "text/plain": [
       "array([[-2.06232640e+00, -1.56093077e-01],\n",
       "       [-2.08180617e+00, -1.74072026e-01],\n",
       "       [-2.18325196e+00, -2.45291709e-01],\n",
       "       [-2.09566249e+00, -1.70528450e-01],\n",
       "       [-2.26746498e+00, -2.82903978e-01],\n",
       "       [-2.10620662e+00, -1.84244806e-01],\n",
       "       [-2.12533114e+00, -1.88910309e-01],\n",
       "       [-2.13399145e+00, -1.95067426e-01],\n",
       "       [-2.13340975e+00, -1.98112072e-01],\n",
       "       [-2.07787945e+00, -1.45121749e-01],\n",
       "       [-1.83014878e+00,  4.21164344e-02],\n",
       "       [-1.89516090e+00,  1.00915301e-02],\n",
       "       [-1.94878289e+00, -4.51109540e-02],\n",
       "       [-1.82084534e+00,  4.94544621e-02],\n",
       "       [-1.91861544e+00,  2.09347294e-02],\n",
       "       [-1.93327937e+00, -4.43023337e-02],\n",
       "       [-2.02522868e+00, -9.86359557e-02],\n",
       "       [-1.82978221e+00,  3.57380567e-02],\n",
       "       [-1.95804151e+00, -5.87854191e-02],\n",
       "       [-1.85662961e+00,  2.65807922e-02],\n",
       "       [ 1.12259104e+00, -1.75607382e+00],\n",
       "       [-2.59886904e-01, -1.21994261e+00],\n",
       "       [-4.85448812e-01, -1.09103034e+00],\n",
       "       [-2.40505516e-01, -1.25566618e+00],\n",
       "       [ 6.52745117e-01, -1.61461165e+00],\n",
       "       [-2.09347690e-02, -1.22100989e+00],\n",
       "       [-1.87166294e-02, -1.39940364e+00],\n",
       "       [-3.67333438e-01, -1.18802179e+00],\n",
       "       [-9.38995406e-02, -1.20780252e+00],\n",
       "       [-6.86229858e-01, -9.31710663e-01],\n",
       "       [ 3.11078406e+00, -1.20767919e+00],\n",
       "       [ 1.99104271e+00, -1.22471632e+00],\n",
       "       [ 1.12214626e+00, -1.04000522e+00],\n",
       "       [ 4.51738472e-01, -7.73389877e-01],\n",
       "       [-5.17924721e-01, -4.72516205e-01],\n",
       "       [ 9.22369326e-02, -6.99684388e-01],\n",
       "       [-3.70499933e-01, -3.91861089e-01],\n",
       "       [-4.08888612e-01, -4.03606747e-01],\n",
       "       [-4.88774822e-01, -4.52537848e-01],\n",
       "       [-5.27667032e-01, -4.66819787e-01],\n",
       "       [-7.35189041e-01,  1.19493569e+00],\n",
       "       [-4.97325333e-01,  1.50013489e+00],\n",
       "       [-8.76918759e-01,  1.14342989e+00],\n",
       "       [-7.66055736e-01,  1.20647202e+00],\n",
       "       [-6.44892962e-01,  1.36660915e+00],\n",
       "       [-5.09572552e-01,  1.47220515e+00],\n",
       "       [-9.02562022e-01,  1.05178092e+00],\n",
       "       [-7.88618759e-01,  1.22124864e+00],\n",
       "       [-7.63703809e-01,  1.23556675e+00],\n",
       "       [ 2.75027493e+00, -8.54417849e-01],\n",
       "       [-2.00281143e-02,  3.29937153e+00],\n",
       "       [-1.33283972e-01,  2.93550971e+00],\n",
       "       [-1.17563614e-01,  2.87477235e+00],\n",
       "       [ 6.61279239e-01,  3.95775067e+00],\n",
       "       [-5.57228266e-02,  3.08385077e+00],\n",
       "       [-3.65927811e-03,  3.16528529e+00],\n",
       "       [ 3.24941363e-01,  3.79199362e+00],\n",
       "       [-2.25340019e-01,  2.86513447e+00],\n",
       "       [-2.48602670e-01,  2.53246195e+00],\n",
       "       [-8.87112583e-02,  3.23560191e+00],\n",
       "       [-2.05303596e+00, -1.66651086e-01],\n",
       "       [-2.07539836e+00, -1.95978372e-01],\n",
       "       [-2.06541669e+00, -1.53106441e-01],\n",
       "       [-2.10570191e+00, -1.83381367e-01],\n",
       "       [-2.17388617e+00, -2.60186026e-01],\n",
       "       [-2.08939011e+00, -2.00295339e-01],\n",
       "       [-2.15255757e+00, -2.39188375e-01],\n",
       "       [-2.08726594e+00, -1.63269219e-01],\n",
       "       [-2.12500339e+00, -1.98585882e-01],\n",
       "       [-2.19751164e+00, -2.79600368e-01],\n",
       "       [-1.90384273e+00, -1.46221834e-02],\n",
       "       [-1.80824583e+00,  6.38233795e-02],\n",
       "       [-1.94000508e+00, -4.85856456e-02],\n",
       "       [-1.89981549e+00,  3.78899308e-03],\n",
       "       [-1.84027160e+00,  3.52495291e-02],\n",
       "       [-1.89151146e+00,  1.00662202e-02],\n",
       "       [-1.97030433e+00, -4.92032353e-02],\n",
       "       [-1.88768536e+00,  2.10237844e-03],\n",
       "       [-1.95901818e+00, -1.81831535e-02],\n",
       "       [-1.97678650e+00, -7.54488273e-02],\n",
       "       [-7.96515912e-01, -8.52287075e-01],\n",
       "       [-2.35894742e-01, -1.08142867e+00],\n",
       "       [-1.91964352e-01, -1.23756284e+00],\n",
       "       [ 6.66129881e-01, -1.65206651e+00],\n",
       "       [ 5.23486558e-01, -1.57120457e+00],\n",
       "       [ 4.42473062e-02, -1.41587098e+00],\n",
       "       [ 4.21681123e-01, -1.52243115e+00],\n",
       "       [ 4.06382411e-01, -1.46283563e+00],\n",
       "       [-1.16368589e-01, -1.18922652e+00],\n",
       "       [ 9.43171775e-01, -1.74616005e+00],\n",
       "       [-5.59313347e-01, -4.78207474e-01],\n",
       "       [-1.22684717e+00, -9.57286883e-02],\n",
       "       [-1.23853257e+00, -7.49269217e-02],\n",
       "       [-1.13891004e+00, -3.89697675e-02],\n",
       "       [ 4.88131009e-01, -9.13823215e-01],\n",
       "       [ 7.42701248e-01, -8.12325459e-01],\n",
       "       [-1.02519812e+00, -1.15273346e-01],\n",
       "       [-3.23944054e-01, -4.14496292e-01],\n",
       "       [ 6.96753155e-01, -9.21056330e-01],\n",
       "       [ 2.94401505e+00, -1.16804389e+00],\n",
       "       [ 2.77957227e+00, -8.00537394e-01],\n",
       "       [ 4.46776112e+00,  2.16661133e-01],\n",
       "       [ 2.21049731e+00, -9.48938170e-01],\n",
       "       [ 2.19952201e+00, -4.69341230e-01],\n",
       "       [ 1.58903562e+00, -7.37687131e-01],\n",
       "       [ 2.00650285e+00, -4.93540175e-01],\n",
       "       [ 2.78642586e+00, -4.13734940e-01],\n",
       "       [ 1.84967528e+00, -5.68636788e-01],\n",
       "       [ 2.33284862e+00, -9.00928060e-01],\n",
       "       [ 3.19827062e+00, -6.34011900e-01],\n",
       "       [-3.96925000e-01,  2.68052951e+00],\n",
       "       [-3.86617145e-01,  2.53802765e+00],\n",
       "       [-4.63121858e-02,  3.35323569e+00],\n",
       "       [-2.91780797e-01,  2.97081253e+00],\n",
       "       [-2.41009379e-01,  3.04199340e+00],\n",
       "       [-2.75988791e-01,  2.83635615e+00],\n",
       "       [ 3.02445965e-01,  3.28357123e+00],\n",
       "       [-5.95180081e-01,  2.09339255e+00],\n",
       "       [ 4.53743653e-01,  2.84057361e+00],\n",
       "       [-1.64522593e-01,  2.94343530e+00],\n",
       "       [-2.08915617e+00, -2.02137323e-01],\n",
       "       [-2.18421729e+00, -3.14248060e-01],\n",
       "       [-2.20271822e+00, -3.10251198e-01],\n",
       "       [-2.08881108e+00, -1.88861687e-01],\n",
       "       [-2.07834056e+00, -2.04818098e-01],\n",
       "       [-2.18758980e+00, -2.95326380e-01],\n",
       "       [-2.09772631e+00, -1.82548156e-01],\n",
       "       [-2.09494365e+00, -1.74311286e-01],\n",
       "       [-2.20319320e+00, -2.84335886e-01],\n",
       "       [-2.15366577e+00, -2.24701794e-01],\n",
       "       [-1.86194088e+00,  4.65506048e-02],\n",
       "       [-1.81658260e+00,  5.53225899e-02],\n",
       "       [-1.87312193e+00,  3.46223286e-02],\n",
       "       [-1.95249316e+00, -3.81800638e-02],\n",
       "       [-1.96712535e+00, -9.32225722e-02],\n",
       "       [-2.00157546e+00, -1.06423746e-01],\n",
       "       [-1.88344242e+00,  2.46934517e-02],\n",
       "       [-1.96551354e+00, -9.57208340e-02],\n",
       "       [-1.90220625e+00, -1.13606706e-02],\n",
       "       [-1.97108417e+00, -9.75107296e-02],\n",
       "       [ 4.33029032e-01, -1.61379717e+00],\n",
       "       [ 9.93695985e-01, -1.77932991e+00],\n",
       "       [ 8.10988297e-01, -1.76632878e+00],\n",
       "       [ 5.53723515e-01, -1.57103432e+00],\n",
       "       [ 4.44663749e-01, -1.49096596e+00],\n",
       "       [-2.66057010e-02, -1.43329267e+00],\n",
       "       [ 4.39746552e-01, -1.56986103e+00],\n",
       "       [-6.33077897e-02, -1.20900338e+00],\n",
       "       [-2.90664921e-01, -1.25008822e+00],\n",
       "       [ 5.03936862e-01, -1.50966381e+00],\n",
       "       [ 2.28827469e+00, -8.60848145e-01],\n",
       "       [ 5.34266777e-01, -8.60703068e-01],\n",
       "       [ 8.72217981e-01, -8.86430634e-01],\n",
       "       [ 1.22816535e+00, -1.01455757e+00],\n",
       "       [ 1.70946430e+00, -1.15486131e+00],\n",
       "       [ 1.89793812e+00, -1.22684556e+00],\n",
       "       [ 1.75543918e+00, -1.18647747e+00],\n",
       "       [ 1.42301185e+00, -1.08658236e+00],\n",
       "       [ 7.95903182e-01, -8.88142712e-01],\n",
       "       [ 3.04266808e+00, -1.19306227e+00],\n",
       "       [ 2.53843211e+00, -7.52874883e-01],\n",
       "       [ 1.91787232e+00, -3.90120418e-01],\n",
       "       [ 2.37650048e+00,  7.50524126e-02],\n",
       "       [ 1.65279447e+00, -1.82602407e-01],\n",
       "       [ 1.80392595e+00, -3.16645537e-01],\n",
       "       [ 1.49303254e+00, -5.42987610e-01],\n",
       "       [ 2.11917355e+00, -7.79897796e-01],\n",
       "       [ 2.52643543e+00, -8.57458702e-01],\n",
       "       [ 2.38593513e+00, -3.26101165e-01],\n",
       "       [ 2.15150571e+00,  2.91115384e-02],\n",
       "       [ 4.27615951e-03,  3.29174228e+00],\n",
       "       [-3.69319313e-01,  2.82935930e+00],\n",
       "       [ 9.77605739e-01,  3.63777878e+00],\n",
       "       [ 3.22239426e+00,  1.68367061e+00],\n",
       "       [-2.42065729e-01,  2.76533009e+00],\n",
       "       [-3.23312137e-01,  2.98777395e+00],\n",
       "       [ 2.54174630e+00,  6.66517632e-01],\n",
       "       [ 2.14134718e+00,  1.92144020e+00],\n",
       "       [ 1.66250033e+00,  3.89919560e-01],\n",
       "       [ 2.69383519e+00,  9.39720541e-01],\n",
       "       [-2.07747909e+00, -1.54311552e-01],\n",
       "       [-2.15597722e+00, -2.40391627e-01],\n",
       "       [-2.09955653e+00, -2.19719800e-01],\n",
       "       [-2.10116544e+00, -2.06710597e-01],\n",
       "       [-2.07970253e+00, -2.02000799e-01],\n",
       "       [-2.10189373e+00, -1.83435655e-01],\n",
       "       [-2.11768612e+00, -2.05286831e-01],\n",
       "       [-2.06262597e+00, -1.86831397e-01],\n",
       "       [-2.20286971e+00, -2.78281473e-01],\n",
       "       [-2.04856219e+00, -1.75312120e-01],\n",
       "       [-1.86664774e+00,  1.46514930e-02],\n",
       "       [-1.84863759e+00,  4.82602007e-02],\n",
       "       [-1.96477085e+00, -5.11178073e-02],\n",
       "       [-1.93137655e+00, -3.28943730e-02],\n",
       "       [-1.89995424e+00, -2.36111655e-02],\n",
       "       [-1.94300601e+00, -7.26724550e-02],\n",
       "       [-1.98285070e+00, -8.03777791e-02],\n",
       "       [-1.99639790e+00, -1.19965911e-01],\n",
       "       [-1.92300489e+00, -3.24517215e-02],\n",
       "       [-1.99170291e+00, -1.12467198e-01],\n",
       "       [ 7.33424682e-01, -1.73590766e+00],\n",
       "       [ 7.14549963e-01, -1.67411825e+00],\n",
       "       [ 6.68296374e-01, -1.67032407e+00],\n",
       "       [ 5.61733386e-01, -1.65910825e+00],\n",
       "       [ 8.72576085e-01, -1.70717689e+00],\n",
       "       [ 9.46138300e-01, -1.74751451e+00],\n",
       "       [ 1.17876196e+00, -1.80963815e+00],\n",
       "       [ 1.14690543e+00, -1.77437438e+00],\n",
       "       [ 8.35138903e-01, -1.71468990e+00],\n",
       "       [ 9.07842351e-01, -1.74568457e+00],\n",
       "       [ 1.55919363e+00, -1.10949365e+00],\n",
       "       [ 5.93233692e-01, -8.75376484e-01],\n",
       "       [ 7.50916905e-01, -9.39064861e-01],\n",
       "       [ 1.48844598e+00, -1.15774364e+00],\n",
       "       [ 2.85479312e+00, -1.12235642e+00],\n",
       "       [ 2.71124089e+00, -1.14700266e+00],\n",
       "       [ 5.10306735e-01, -9.13027504e-01],\n",
       "       [ 1.38775451e+00, -1.06951152e+00],\n",
       "       [ 1.23865566e+00, -1.05871082e+00],\n",
       "       [-1.67947569e-01, -2.93597563e-01],\n",
       "       [ 2.50345445e+00, -6.79297678e-01],\n",
       "       [ 2.18597121e+00, -1.52574110e-01],\n",
       "       [ 2.04666501e+00, -2.73811014e-02],\n",
       "       [ 3.09660309e+00,  3.71558839e-02],\n",
       "       [ 2.17972247e+00, -4.81807323e-01],\n",
       "       [ 2.26738783e+00, -5.52808819e-01],\n",
       "       [ 2.59104684e+00,  5.20099815e-01],\n",
       "       [ 2.97446042e+00,  8.20775178e-01],\n",
       "       [ 2.68984476e+00, -3.82408895e-01],\n",
       "       [ 3.50153148e+00,  6.22528633e-01],\n",
       "       [ 3.09372354e+00,  1.71754944e+00],\n",
       "       [ 3.83134479e+00,  7.94744116e-01],\n",
       "       [ 4.57131202e+00,  2.56506494e+00],\n",
       "       [ 4.10044420e+00,  2.35071997e+00],\n",
       "       [ 3.56790462e+00,  2.10660568e+00],\n",
       "       [ 4.09959765e+00,  1.03526368e+00],\n",
       "       [ 4.61363201e+00,  2.08985360e+00],\n",
       "       [ 2.30264835e+00,  2.67957353e+00],\n",
       "       [ 1.96744050e+00,  2.00683039e+00],\n",
       "       [ 3.94345357e+00,  1.31938484e+00]])"
      ]
     },
     "execution_count": 204,
     "metadata": {},
     "output_type": "execute_result"
    }
   ],
   "source": [
    "pca = PCA(n_components=2)\n",
    "stars_ordinal_pca = pca.fit_transform(stars_ordinal_scaled)\n",
    "stars_ordinal_pca"
   ]
  },
  {
   "cell_type": "code",
   "execution_count": 215,
   "metadata": {
    "scrolled": false
   },
   "outputs": [
    {
     "data": {
      "text/plain": [
       "array([[-2.27313999,  0.36735406],\n",
       "       [-2.28862741,  0.35600619],\n",
       "       [-2.37084369,  0.30841039],\n",
       "       [-2.30078195,  0.35631637],\n",
       "       [-2.4405929 ,  0.27993763],\n",
       "       [-2.30888679,  0.3481309 ],\n",
       "       [-2.32499693,  0.34365347],\n",
       "       [-2.33200981,  0.33955206],\n",
       "       [-2.33129806,  0.3380519 ],\n",
       "       [-2.2872693 ,  0.37129445],\n",
       "       [-2.08742926,  0.4943468 ],\n",
       "       [-2.14106492,  0.47083918],\n",
       "       [-2.18329694,  0.43667734],\n",
       "       [-2.07994346,  0.49913216],\n",
       "       [-2.16197222,  0.47386402],\n",
       "       [-2.17003089,  0.43877773],\n",
       "       [-2.24526214,  0.4008844 ],\n",
       "       [-2.08666923,  0.49111493],\n",
       "       [-2.19030084,  0.42865064],\n",
       "       [-2.10910089,  0.48349849],\n",
       "       [ 1.29896822, -2.36697393],\n",
       "       [-0.21818415, -2.5225268 ],\n",
       "       [-0.44705681, -2.85188234],\n",
       "       [-0.19903989, -2.53875299],\n",
       "       [ 0.88534615, -2.3455108 ],\n",
       "       [-0.25886924, -3.19619943],\n",
       "       [ 0.12507042, -2.53731087],\n",
       "       [-0.55884886, -3.21697538],\n",
       "       [-0.32249241, -3.19736315],\n",
       "       [-0.6244941 , -3.18909391],\n",
       "       [ 3.66616299,  0.88681123],\n",
       "       [ 2.00901619, -1.98347196],\n",
       "       [ 1.24861458, -1.99920725],\n",
       "       [ 0.69605263, -1.9268811 ],\n",
       "       [-0.34273109, -2.88246385],\n",
       "       [ 0.21373727, -2.1573325 ],\n",
       "       [-0.22166237, -2.82502842],\n",
       "       [-0.2538315 , -2.83522874],\n",
       "       [-0.31907603, -2.86904679],\n",
       "       [-0.35150161, -2.88060527],\n",
       "       [-1.22114301,  1.31914305],\n",
       "       [-1.03390151,  1.58188004],\n",
       "       [-1.34200336,  1.24492219],\n",
       "       [-1.24858706,  1.31893834],\n",
       "       [-1.15322996,  1.46271656],\n",
       "       [-1.04317621,  1.55440843],\n",
       "       [-1.35773122,  1.18185179],\n",
       "       [-1.27007427,  1.32313947],\n",
       "       [-1.25005166,  1.32427569],\n",
       "       [ 3.06097462, -0.32860147],\n",
       "       [-0.7764463 ,  2.43816117],\n",
       "       [-0.84364668,  2.26025405],\n",
       "       [-0.82493179,  2.22853538],\n",
       "       [ 0.79097315,  3.7883919 ],\n",
       "       [-0.78760681,  2.35696689],\n",
       "       [-0.75035724,  2.37612146],\n",
       "       [-0.51413283,  2.7739036 ],\n",
       "       [-0.92149745,  2.15024537],\n",
       "       [-0.9117144 ,  2.01441865],\n",
       "       [-0.83369512,  2.35350822],\n",
       "       [-2.26441874,  0.36295216],\n",
       "       [-2.28159532,  0.34545779],\n",
       "       [-2.27600244,  0.36855464],\n",
       "       [-2.30851291,  0.34862999],\n",
       "       [-2.36175775,  0.30178426],\n",
       "       [-2.29331757,  0.34172195],\n",
       "       [-2.34489116,  0.31488486],\n",
       "       [-2.29407082,  0.36096003],\n",
       "       [-2.32404109,  0.33872337],\n",
       "       [-2.38070815,  0.2892473 ],\n",
       "       [-2.14680236,  0.45721455],\n",
       "       [-2.0701167 ,  0.50787965],\n",
       "       [-2.1755113 ,  0.43585023],\n",
       "       [-2.14462539,  0.46709892],\n",
       "       [-2.09564634,  0.48973178],\n",
       "       [-2.13792653,  0.47122482],\n",
       "       [-2.20150728,  0.43223179],\n",
       "       [-2.13408301,  0.46755593],\n",
       "       [-2.19396697,  0.44938977],\n",
       "       [-2.20524813,  0.41805904],\n",
       "       [-0.55567046, -3.107672  ],\n",
       "       [-0.23326863, -2.81978825],\n",
       "       [-0.15858663, -2.52417689],\n",
       "       [ 0.8994577 , -2.36327858],\n",
       "       [ 0.77124259, -2.33730132],\n",
       "       [ 0.18032632, -2.5389092 ],\n",
       "       [ 0.68035725, -2.32334923],\n",
       "       [ 0.66305852, -2.29442552],\n",
       "       [-0.12304296, -2.86210725],\n",
       "       [ 1.56404509, -1.10800493],\n",
       "       [-0.37790257, -2.88989115],\n",
       "       [-0.3377305 , -0.64693799],\n",
       "       [-0.34922041, -0.63752929],\n",
       "       [-0.26611925, -0.6082462 ],\n",
       "       [ 0.52676548, -2.23301176],\n",
       "       [ 0.73840769, -2.15307292],\n",
       "       [-0.23804943, -0.58905555],\n",
       "       [-0.18008075, -2.83158653],\n",
       "       [ 0.70649623, -2.21387565],\n",
       "       [ 3.51991557,  0.88557646],\n",
       "       [ 3.0832289 , -0.28553182],\n",
       "       [ 4.75110819,  2.11518324],\n",
       "       [ 2.87175003,  0.87605315],\n",
       "       [ 2.83132257,  1.18057028],\n",
       "       [ 2.32293353,  0.90948493],\n",
       "       [ 2.66770915,  1.147004  ],\n",
       "       [ 3.33595202,  1.34756674],\n",
       "       [ 2.53687412,  1.06471097],\n",
       "       [ 2.97364025,  0.92152108],\n",
       "       [ 3.70482615,  1.27280715],\n",
       "       [-1.05837377,  1.99405104],\n",
       "       [-1.03602796,  1.94566756],\n",
       "       [-0.80680905,  2.41667829],\n",
       "       [-0.99106266,  2.1538619 ],\n",
       "       [-0.95255301,  2.2026395 ],\n",
       "       [-0.96455573,  2.11119531],\n",
       "       [ 0.17223323,  2.11589097],\n",
       "       [-1.18163855,  1.67796341],\n",
       "       [ 0.16893169,  2.77409415],\n",
       "       [-0.87459143,  2.20987739],\n",
       "       [-2.29298753,  0.34080412],\n",
       "       [-2.36686946,  0.27291177],\n",
       "       [-2.38304708,  0.27294866],\n",
       "       [-2.29361583,  0.34765567],\n",
       "       [-2.28350657,  0.34060455],\n",
       "       [-2.3710862 ,  0.2822555 ],\n",
       "       [-2.30171705,  0.34992578],\n",
       "       [-2.29989949,  0.35445667],\n",
       "       [-2.38526007,  0.28620039],\n",
       "       [-2.34685255,  0.32220026],\n",
       "       [-2.11505874,  0.49316292],\n",
       "       [-2.0766888 ,  0.50260885],\n",
       "       [-2.12383326,  0.48583287],\n",
       "       [-2.18697066,  0.43982333],\n",
       "       [-2.19571529,  0.40996364],\n",
       "       [-2.22440259,  0.39943184],\n",
       "       [-2.13200942,  0.47961684],\n",
       "       [-2.19415511,  0.40885996],\n",
       "       [-2.14562437,  0.4590632 ],\n",
       "       [-2.19881247,  0.40735088],\n",
       "       [ 0.69647404, -2.36901012],\n",
       "       [ 1.60977438, -1.11953028],\n",
       "       [ 1.45185684, -1.13274597],\n",
       "       [ 0.79721518, -2.33392247],\n",
       "       [ 0.69791566, -2.30469702],\n",
       "       [ 0.1206517 , -2.55556409],\n",
       "       [ 0.69918609, -2.34572741],\n",
       "       [-0.07606686, -2.86648224],\n",
       "       [-0.24253348, -2.54135008],\n",
       "       [ 0.7501552 , -2.30784198],\n",
       "       [ 2.24383096, -1.67292932],\n",
       "       [ 0.56271445, -2.20072065],\n",
       "       [ 0.85490507, -2.17670431],\n",
       "       [ 1.33798039, -1.97444288],\n",
       "       [ 1.76175273, -1.98648418],\n",
       "       [ 1.92879436, -2.0016256 ],\n",
       "       [ 1.8034721 , -1.9976732 ],\n",
       "       [ 1.51052503, -1.9882825 ],\n",
       "       [ 0.78943173, -2.18596899],\n",
       "       [ 3.60663902,  0.88646447],\n",
       "       [ 3.14240336,  1.06641151],\n",
       "       [ 2.58503456,  1.20224173],\n",
       "       [ 2.9519339 ,  1.60388536],\n",
       "       [ 2.34157163,  1.27323635],\n",
       "       [ 2.48165537,  1.220712  ],\n",
       "       [ 2.22723056,  1.00924799],\n",
       "       [ 2.78161162,  0.96528214],\n",
       "       [ 3.13894092,  0.99801706],\n",
       "       [ 2.98564147,  1.33914859],\n",
       "       [ 2.76196305,  1.54314364],\n",
       "       [-0.75286727,  2.46771669],\n",
       "       [-1.04610302,  2.08835914],\n",
       "       [ 1.76344289,  3.36668878],\n",
       "       [ 3.26480533,  0.99345654],\n",
       "       [-0.92536896,  2.14006104],\n",
       "       [-1.01964127,  2.17168104],\n",
       "       [ 3.02899426,  1.72997839],\n",
       "       [ 1.89325089, -0.3647176 ],\n",
       "       [ 1.60503538, -1.17519508],\n",
       "       [ 2.4496495 , -0.72938884],\n",
       "       [-2.28628441,  0.36662314],\n",
       "       [-2.34774644,  0.3138938 ],\n",
       "       [-2.30070093,  0.33064544],\n",
       "       [-2.30298937,  0.33714907],\n",
       "       [-2.28487272,  0.34190402],\n",
       "       [-2.30523661,  0.34901638],\n",
       "       [-2.31728612,  0.3360804 ],\n",
       "       [-2.27125491,  0.35154785],\n",
       "       [-2.38540441,  0.28934142],\n",
       "       [-2.25997202,  0.35898984],\n",
       "       [-2.11687563,  0.47629559],\n",
       "       [-2.10374497,  0.49549026],\n",
       "       [-2.19661933,  0.43184933],\n",
       "       [-2.16919273,  0.44483304],\n",
       "       [-2.14283532,  0.45302155],\n",
       "       [-2.1764205 ,  0.42313448],\n",
       "       [-2.21011773,  0.41486388],\n",
       "       [-2.21900315,  0.39306534],\n",
       "       [-2.16203086,  0.44596665],\n",
       "       [-2.21549657,  0.39740746],\n",
       "       [ 1.38308242, -1.12557496],\n",
       "       [ 1.36255778, -1.09591443],\n",
       "       [ 1.32254494, -1.09900197],\n",
       "       [ 1.23018752, -1.10484527],\n",
       "       [ 1.50066222, -1.09568053],\n",
       "       [ 1.56668874, -1.10837728],\n",
       "       [ 1.77092421, -1.11494121],\n",
       "       [ 1.74109139, -1.10030878],\n",
       "       [ 1.46901358, -1.10361198],\n",
       "       [ 1.53365129, -1.11160656],\n",
       "       [ 1.62938717, -1.9807565 ],\n",
       "       [ 0.61436886, -2.20171579],\n",
       "       [ 0.75431712, -2.21711237],\n",
       "       [ 1.57177651, -2.01651299],\n",
       "       [ 3.44012931,  0.89963029],\n",
       "       [ 3.31776071,  0.85734827],\n",
       "       [ 0.5457787 , -2.23016056],\n",
       "       [ 1.47923392, -1.97975815],\n",
       "       [ 1.35005993, -1.99618925],\n",
       "       [-0.05445557, -2.75258097],\n",
       "       [ 3.10822358,  1.11375723],\n",
       "       [ 2.80062615,  1.39806045],\n",
       "       [ 2.67212833,  1.45197836],\n",
       "       [ 3.57597395,  1.71199056],\n",
       "       [ 2.81587939,  1.17986099],\n",
       "       [ 2.89577999,  1.14119861],\n",
       "       [ 3.10956983,  1.93732559],\n",
       "       [ 3.4246897 ,  2.24543014],\n",
       "       [ 3.24993207,  1.34320071],\n",
       "       [ 3.88927135,  2.17739119],\n",
       "       [ 2.73703349, -0.22833741],\n",
       "       [ 4.12520104,  1.961594  ],\n",
       "       [ 4.63892141,  3.13525986],\n",
       "       [ 3.57600809,  0.4868837 ],\n",
       "       [ 3.13443292,  0.25208669],\n",
       "       [ 4.34200218,  2.17282781],\n",
       "       [ 4.72665783,  3.04235741],\n",
       "       [ 1.70423052, -0.00843401],\n",
       "       [ 1.46434824, -0.44994533],\n",
       "       [ 4.1784355 ,  2.23323212]])"
      ]
     },
     "execution_count": 215,
     "metadata": {},
     "output_type": "execute_result"
    }
   ],
   "source": [
    "stars_1hot_pca = pca.fit_transform(stars_1hot_scaled)\n",
    "stars_1hot_pca"
   ]
  },
  {
   "cell_type": "markdown",
   "metadata": {},
   "source": [
    "# III. Aplicación de Algoritmos de clustering "
   ]
  },
  {
   "cell_type": "code",
   "execution_count": 212,
   "metadata": {},
   "outputs": [
    {
     "name": "stdout",
     "output_type": "stream",
     "text": [
      "K-Means (One-Hot Encoding): [ 51 112  77]\n",
      "Clustering Jerárquico (One-Hot Encoding): [114  83  43]\n",
      "K-Means (Ordinal Encoding): [101 103  36]\n",
      "Clustering Jerárquico (Ordinal Encoding): [126  34  80]\n"
     ]
    }
   ],
   "source": [
    "from sklearn.cluster import KMeans\n",
    "from sklearn.cluster import AgglomerativeClustering\n",
    "from sklearn.cluster import DBSCAN\n",
    "\n",
    "def kmeans_clustering(data):\n",
    "    kmeans = KMeans(n_clusters=3)  # Número de clusters a crear\n",
    "    kmeans.fit(data)\n",
    "    labels = kmeans.labels_\n",
    "    return labels\n",
    "\n",
    "# Algoritmo de Clustering Jerárquico\n",
    "def hierarchical_clustering(data):\n",
    "    hierarchical = AgglomerativeClustering(n_clusters=3)  # Número de clusters a crear\n",
    "    labels = hierarchical.fit_predict(data)\n",
    "    return labels\n",
    "\n",
    "# Algoritmo de DBSCAN\n",
    "def dbscan_clustering(data):\n",
    "    dbscan = DBSCAN(eps=0.5, min_samples=5)  # Parámetros eps y min_samples\n",
    "    labels = dbscan.fit_predict(data)\n",
    "    return labels\n",
    "\n",
    "# Aplicar los algoritmos a los DataFrames\n",
    "labels_kmeans_1hot = kmeans_clustering(stars_1hot_pca)\n",
    "labels_hierarchical_1hot = hierarchical_clustering(stars_1hot_pca)\n",
    "#labels_dbscan_1hot = dbscan_clustering(stars_1hot)\n",
    "\n",
    "labels_kmeans_ordinal = kmeans_clustering(stars_ordinal_pca)\n",
    "labels_hierarchical_ordinal = hierarchical_clustering(stars_ordinal_pca)\n",
    "#labels_dbscan_ordinal = dbscan_clustering(stars_ordinal)\n",
    "\n",
    "# Comparar y discutir los resultados\n",
    "# Por ejemplo, podríamos imprimir los conteos de cada etiqueta de clustering para cada algoritmo\n",
    "print(\"K-Means (One-Hot Encoding):\", np.bincount(labels_kmeans_1hot))\n",
    "print(\"Clustering Jerárquico (One-Hot Encoding):\", np.bincount(labels_hierarchical_1hot))\n",
    "#print(\"DBSCAN (One-Hot Encoding):\", np.bincount(labels_dbscan_1hot))\n",
    "\n",
    "print(\"K-Means (Ordinal Encoding):\", np.bincount(labels_kmeans_ordinal))\n",
    "print(\"Clustering Jerárquico (Ordinal Encoding):\", np.bincount(labels_hierarchical_ordinal))\n",
    "#print(\"DBSCAN (Ordinal Encoding):\", np.bincount(labels_dbscan_ordinal))"
   ]
  },
  {
   "cell_type": "code",
   "execution_count": 211,
   "metadata": {},
   "outputs": [
    {
     "name": "stdout",
     "output_type": "stream",
     "text": [
      "[0 0 0 0 0 0 0 0 0 0 0 0 0 0 0 0 0 0 0 0 0 0 0 0 0 0 0 0 0 0 2 0 0 0 0 0 0\n",
      " 0 0 0 2 2 2 2 2 2 0 2 2 2 2 2 2 1 2 2 2 2 2 2 0 0 0 0 0 0 0 0 0 0 0 0 0 0\n",
      " 0 0 0 0 0 0 0 0 0 0 0 0 0 0 0 0 0 0 0 0 0 0 0 0 0 2 2 1 2 2 0 2 2 2 2 2 0\n",
      " 2 2 0 2 2 2 0 2 2 0 0 0 0 0 0 0 0 0 0 0 0 0 0 0 0 0 0 0 0 0 0 0 0 0 0 0 0\n",
      " 0 0 2 0 0 0 0 0 0 0 0 2 2 2 2 2 2 2 2 2 2 2 2 2 1 2 2 2 2 2 0 2 0 0 0 0 0\n",
      " 0 0 0 0 0 0 0 0 0 0 0 0 0 0 0 0 0 0 0 0 0 0 0 0 0 0 0 0 0 2 2 0 0 0 0 2 2\n",
      " 2 1 2 2 1 1 2 1 2 2 1 1 1 2 1 1 2 2]\n"
     ]
    }
   ],
   "source": [
    "print(labels_kmeans_ordinal)"
   ]
  },
  {
   "cell_type": "code",
   "execution_count": 213,
   "metadata": {},
   "outputs": [
    {
     "data": {
      "image/png": "[encoded data removed]",
      "text/plain": [
       "<Figure size 432x288 with 1 Axes>"
      ]
     },
     "metadata": {
      "needs_background": "light"
     },
     "output_type": "display_data"
    }
   ],
   "source": [
    "colors = [\"#4EACC5\", \"#FF9C34\", \"#4E9A06\"]\n",
    "for i in range(kmeans.n_clusters):\n",
    "    for j in range(len(stars_1hot_pca)):\n",
    "        if labels_kmeans_1hot[j] == i:\n",
    "            plt.scatter(stars_1hot_pca[j][0], stars_1hot_pca[j][1], c=colors[i])"
   ]
  },
  {
   "cell_type": "code",
   "execution_count": 214,
   "metadata": {},
   "outputs": [
    {
     "data": {
      "image/png": "[encoded data removed]",
      "text/plain": [
       "<Figure size 432x288 with 1 Axes>"
      ]
     },
     "metadata": {
      "needs_background": "light"
     },
     "output_type": "display_data"
    }
   ],
   "source": [
    "colors = [\"#4EACC5\", \"#FF9C34\", \"#4E9A06\"]\n",
    "for i in range(kmeans.n_clusters):\n",
    "    for j in range(len(stars_ordinal_pca)):\n",
    "        if labels_kmeans_1hot[j] == i:\n",
    "            plt.scatter(stars_ordinal_pca[j][0], stars_ordinal_pca[j][1], c=colors[i])"
   ]
  },
  {
   "cell_type": "markdown",
   "metadata": {},
   "source": [
    "La distribución de los datos es diferente porque el preprocesado también ha sido diferente, se ha llevado a cabo el algoritmo de PCA sobre datos tratados de manera distinta, y por lo tanto, sobre más dimensiones iniciales en el caso de los datos preprocesados con One Hot Encoding."
   ]
  },
  {
   "cell_type": "code",
   "execution_count": 219,
   "metadata": {},
   "outputs": [
    {
     "data": {
      "image/png": "[encoded data removed]",
      "text/plain": [
       "<Figure size 432x288 with 1 Axes>"
      ]
     },
     "metadata": {
      "needs_background": "light"
     },
     "output_type": "display_data"
    }
   ],
   "source": [
    "kmeans_ours = KMeans_Ours(n_clusters = 3)\n",
    "kmeans_ours.fit(stars_1hot_pca)\n",
    "kmeans_ours_1hot_labels = kmeans_ours.return_labels()\n",
    "colors = [\"#4EACC5\", \"#FF9C34\", \"#4E9A06\"]\n",
    "for i in range(kmeans_ours.n_clusters):\n",
    "    for j in range(len(stars_1hot_pca)):\n",
    "        if kmeans_ours_1hot_labels[j] == i:\n",
    "            plt.scatter(stars_1hot_pca[j][0], stars_1hot_pca[j][1], c=colors[i])"
   ]
  },
  {
   "cell_type": "code",
   "execution_count": 216,
   "metadata": {},
   "outputs": [
    {
     "data": {
      "image/png": "[encoded data removed]",
      "text/plain": [
       "<Figure size 432x288 with 1 Axes>"
      ]
     },
     "metadata": {
      "needs_background": "light"
     },
     "output_type": "display_data"
    }
   ],
   "source": [
    "kmeans_ours = KMeans_Ours(n_clusters = 3)\n",
    "kmeans_ours.fit(stars_ordinal_pca)\n",
    "kmeans_ours_ordinal_labels = kmeans_ours.return_labels()\n",
    "colors = [\"#4EACC5\", \"#FF9C34\", \"#4E9A06\"]\n",
    "for i in range(kmeans_ours.n_clusters):\n",
    "    for j in range(len(stars_ordinal_pca)):\n",
    "        if kmeans_ours_ordinal_labels[j] == i:\n",
    "            plt.scatter(stars_ordinal_pca[j][0], stars_ordinal_pca[j][1], c=colors[i])"
   ]
  },
  {
   "cell_type": "markdown",
   "metadata": {},
   "source": [
    "Se puede observar que la clasificación es idéntica, en los resultados los grupos son los mismos."
   ]
  },
  {
   "cell_type": "markdown",
   "metadata": {},
   "source": [
    "### PRUEBAS"
   ]
  },
  {
   "cell_type": "code",
   "execution_count": null,
   "metadata": {
    "ExecuteTime": {
     "start_time": "2024-05-05T07:23:05.618825300Z"
    }
   },
   "outputs": [],
   "source": [
    "import statistics as s\n",
    "hola = [1, 2, 3]\n",
    "s.mean(hola)\n",
    "array1 = np.array([1, 2, 3])\n",
    "array2 = np.array([4, 5, 6])\n",
    "todos = []\n",
    "todos.append(array1)\n",
    "todos.append(array2)\n",
    "print(todos)\n",
    "# Calcular la media de los dos arrays\n",
    "media_arrays = np.mean(todos, axis = 0)\n",
    "media_arrays"
   ]
  },
  {
   "cell_type": "code",
   "execution_count": null,
   "metadata": {
    "ExecuteTime": {
     "start_time": "2024-05-05T07:23:05.631967700Z"
    }
   },
   "outputs": [],
   "source": [
    "colors = [\"#4EACC5\", \"#FF9C34\", \"#4E9A06\"]\n",
    "for i in range(kmeans.n_clusters):\n",
    "    for j in range(len(x)):\n",
    "        if kmeans._labels[j] == i:\n",
    "            plt.scatter(x[j][0], x[j][1], c=colors[i])\n",
    "\n"
   ]
  },
  {
   "cell_type": "code",
   "execution_count": null,
   "metadata": {
    "ExecuteTime": {
     "start_time": "2024-05-05T07:23:05.646888400Z"
    }
   },
   "outputs": [],
   "source": [
    "print(hola)\n",
    "print(hola[-1])"
   ]
  },
  {
   "cell_type": "code",
   "execution_count": null,
   "metadata": {
    "ExecuteTime": {
     "start_time": "2024-05-05T07:23:05.673960900Z"
    }
   },
   "outputs": [],
   "source": [
    "print(np.random.choice(list(range(0, len(stars))), size = 5, replace = False))"
   ]
  },
  {
   "cell_type": "code",
   "execution_count": null,
   "metadata": {
    "ExecuteTime": {
     "start_time": "2024-05-05T07:23:05.692293900Z"
    }
   },
   "outputs": [],
   "source": [
    "X = np.random.random(size = (100, 2))\n",
    "centroide = np.random.random_integers(0, len(X))\n",
    "centroide\n",
    "len(X)"
   ]
  },
  {
   "cell_type": "code",
   "execution_count": null,
   "metadata": {
    "ExecuteTime": {
     "start_time": "2024-05-05T07:23:05.717172400Z"
    }
   },
   "outputs": [],
   "source": [
    "centroids = []\n",
    "centroids = np.random.choice(range(0, len(X)), size = 8, replace = False)\n",
    "centroids"
   ]
  },
  {
   "cell_type": "code",
   "execution_count": null,
   "metadata": {
    "ExecuteTime": {
     "start_time": "2024-05-05T07:23:05.739984700Z"
    }
   },
   "outputs": [],
   "source": [
    "matriz = [1, 2, [3, 4], [5, 6]]\n",
    "print(matriz[0][2], matriz[2][1])"
   ]
  },
  {
   "cell_type": "code",
   "execution_count": null,
   "metadata": {
    "ExecuteTime": {
     "start_time": "2024-05-05T07:23:05.758166Z"
    }
   },
   "outputs": [],
   "source": [
    "matriz_distancias = []\n",
    "for i in range(len(X)):\n",
    "    matriz_distancias.append([])\n",
    "    for j in range(7):\n",
    "         matriz_distancias[i].append(np.random.randint(1, 10))\n",
    "\n"
   ]
  },
  {
   "cell_type": "code",
   "execution_count": null,
   "metadata": {
    "ExecuteTime": {
     "start_time": "2024-05-05T07:23:05.769120400Z"
    }
   },
   "outputs": [],
   "source": [
    "labels_=[]\n",
    "for i in range(len(matriz_distancias)):\n",
    "    labels_.append(np.argmin(matriz_distancias[i], axis = 0))\n",
    "\n",
    "labels_"
   ]
  },
  {
   "cell_type": "code",
   "execution_count": null,
   "metadata": {
    "ExecuteTime": {
     "start_time": "2024-05-05T07:23:05.783102100Z"
    }
   },
   "outputs": [],
   "source": [
    "np.random.randint(1, 10)"
   ]
  },
  {
   "cell_type": "code",
   "execution_count": null,
   "metadata": {
    "ExecuteTime": {
     "start_time": "2024-05-05T07:23:05.795492400Z"
    }
   },
   "outputs": [],
   "source": [
    "np.argmin(matriz_distancias, axis=0)"
   ]
  },
  {
   "cell_type": "code",
   "execution_count": null,
   "metadata": {
    "ExecuteTime": {
     "start_time": "2024-05-05T07:23:05.801475300Z"
    }
   },
   "outputs": [],
   "source": [
    "kmeans = KMeans()\n",
    "kmeans.fit(X)"
   ]
  },
  {
   "cell_type": "markdown",
   "metadata": {},
   "source": [
    "Scikit learn es una librería de código abierto, se puede ver cómo está implementado en Scikit learn, no copiar la misma solución, pero usarlo como inspiración. Hay un apartado de indicar similitud con scikit learn."
   ]
  },
  {
   "cell_type": "markdown",
   "metadata": {},
   "source": []
  },
  {
   "cell_type": "markdown",
   "metadata": {},
   "source": [
    "## PCA\n",
    "Algoritmo no supervisado muy útil, reduce la dimensionalidad de los datos (columnas). En lugar de eliminar columnas, existen métodos más interesantes que ese.\n",
    "Prdecir el número escrito en el gráfico en base a la luminosidad de los píxeles. Se ve bien con cmap = 'Greys'.\n",
    "\n",
    "Se usará el algoritmo PCA antes del algoritmo de clustering, y el de clustering se usará sobre las dos dimensiones que devuelve PCA (kmeans o lo que sea)"
   ]
  },
  {
   "cell_type": "code",
   "execution_count": null,
   "metadata": {
    "ExecuteTime": {
     "start_time": "2024-05-05T07:23:05.807503600Z"
    }
   },
   "outputs": [],
   "source": [
    "from sklearn.datasets import load_digits\n",
    "import matplotlib.pylot as plt\n",
    "\n",
    "from sklearn.decomposition import PCA\n",
    "\n",
    "X = load.digits().data\n",
    "X.shape\n",
    "plt.imshow(np.reshape(X[0], (8,8)))\n",
    "pca = PCA.fit(X)\n",
    "plt.plot"
   ]
  },
  {
   "cell_type": "code",
   "execution_count": null,
   "metadata": {
    "ExecuteTime": {
     "start_time": "2024-05-05T07:23:05.812494500Z"
    }
   },
   "outputs": [],
   "source": [
    "X_pca"
   ]
  },
  {
   "cell_type": "markdown",
   "metadata": {},
   "source": [
    "# Pruebas fallidas..."
   ]
  },
  {
   "cell_type": "code",
   "execution_count": null,
   "metadata": {
    "ExecuteTime": {
     "start_time": "2024-05-05T07:23:05.820274700Z"
    }
   },
   "outputs": [],
   "source": [
    "\"\"\"self.history.centroids\n",
    "        \n",
    "        for i in range(self.n_clusters):\n",
    "            centroide = np.random.random_integers(0, len(self.X)-1, size=self.n_clusters)\n",
    "            \n",
    "            for c in centroide:\n",
    "                if centroide.count(c) == 1:\n",
    "                    self.history.centroids.append(X[c])\n",
    "                else:\n",
    "                    centroide[c] = np.random.random_integers(0, len(self.X)-1)\n",
    "                    while centroide\n",
    "            \n",
    "            duplicate = False\n",
    "            while self.history.centroids du\n",
    "            if i>0:\n",
    "                for i in range(len(self.history.centroids)):\n",
    "                    if centroide == self.history.centroids[i]:\n",
    "                        \n",
    "            self.history.centroids.append(np.)\"\"\""
   ]
  }
 ],
 "metadata": {
  "kernelspec": {
   "display_name": "Python 3",
   "language": "python",
   "name": "python3"
  },
  "language_info": {
   "codemirror_mode": {
    "name": "ipython",
    "version": 3
   },
   "file_extension": ".py",
   "mimetype": "text/x-python",
   "name": "python",
   "nbconvert_exporter": "python",
   "pygments_lexer": "ipython3",
   "version": "3.8.5"
  }
 },
 "nbformat": 4,
 "nbformat_minor": 4
}
