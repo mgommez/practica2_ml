{
 "cells": [
  {
   "cell_type": "markdown",
   "metadata": {},
   "source": [
    "# Práctica 2\n",
    "K-means\n",
    "    Elegir instacias del dataset como centroides iniciales\n",
    "    Distirbuir puntos del dataset a los centroides\n",
    "    Calcular la media de las distancias respecto de los puntos\n",
    "    Se recalculaba el centroide \n",
    "    Repetir hasta que no haya cambios\n",
    "    \n",
    "Estaría bien usar la misma interfaz que sckikit learn\n",
    "Kmeans = Kmeans(K=5)\n",
    "Kmeans.fit(X)\n",
    "Kmeans.predict(X)\n",
    "\n",
    "Tenemos un conjunto de datos, eliges el numero de clusters (n_clusters), asignas los centroides a unos datos aleatoriamente (init -> puntos aleatorios del dataset), y después asignas los datos a los clusters (asignar_clusters). Después hay que computar los nuevos centroides en un bucle y volver a asignar los clusters hasta que se cumpla la condición de parada."
   ]
  },
  {
   "cell_type": "code",
   "execution_count": 2,
   "metadata": {
    "ExecuteTime": {
     "end_time": "2024-04-23T10:40:42.317714600Z",
     "start_time": "2024-04-23T10:40:42.163992400Z"
    }
   },
   "outputs": [
    {
     "ename": "ModuleNotFoundError",
     "evalue": "No module named 'skelarn'",
     "output_type": "error",
     "traceback": [
      "\u001b[1;31m---------------------------------------------------------------------------\u001b[0m",
      "\u001b[1;31mModuleNotFoundError\u001b[0m                       Traceback (most recent call last)",
      "Cell \u001b[1;32mIn[2], line 2\u001b[0m\n\u001b[0;32m      1\u001b[0m \u001b[38;5;66;03m# con la librería de SciKit Learn:\u001b[39;00m\n\u001b[1;32m----> 2\u001b[0m \u001b[38;5;28;01mimport\u001b[39;00m \u001b[38;5;21;01mskelarn\u001b[39;00m\n\u001b[0;32m      3\u001b[0m \u001b[38;5;28;01mfrom\u001b[39;00m \u001b[38;5;21;01msklearn\u001b[39;00m \u001b[38;5;28;01mimport\u001b[39;00m cluster \n\u001b[0;32m      4\u001b[0m \u001b[38;5;28;01mimport\u001b[39;00m \u001b[38;5;21;01mKMeans\u001b[39;00m\n",
      "\u001b[1;31mModuleNotFoundError\u001b[0m: No module named 'skelarn'"
     ]
    }
   ],
   "source": [
    "# con la librería de SciKit Learn:\n",
    "import sklearn\n",
    "import sklearn.cluster \n",
    "import KMeans\n",
    "\n",
    "kmeans = KMeans()\n",
    "kmeans.fit(X)\n",
    "kmeans.predict(X)"
   ]
  },
  {
   "cell_type": "code",
   "execution_count": 1,
   "metadata": {
    "ExecuteTime": {
     "end_time": "2024-04-23T10:50:15.112803400Z",
     "start_time": "2024-04-23T10:50:12.385549300Z"
    }
   },
   "outputs": [],
   "source": [
    "import pandas as pd\n",
    "stars = pd.read_csv('Stars2.csv')"
   ]
  },
  {
   "cell_type": "code",
   "execution_count": 2,
   "metadata": {},
   "outputs": [
    {
     "data": {
      "text/plain": [
       "240"
      ]
     },
     "execution_count": 2,
     "metadata": {},
     "output_type": "execute_result"
    }
   ],
   "source": [
    "stars.shape\n",
    "len(stars)"
   ]
  },
  {
   "cell_type": "code",
   "execution_count": 3,
   "metadata": {},
   "outputs": [
    {
     "data": {
      "text/html": [
       "<div>\n",
       "<style scoped>\n",
       "    .dataframe tbody tr th:only-of-type {\n",
       "        vertical-align: middle;\n",
       "    }\n",
       "\n",
       "    .dataframe tbody tr th {\n",
       "        vertical-align: top;\n",
       "    }\n",
       "\n",
       "    .dataframe thead th {\n",
       "        text-align: right;\n",
       "    }\n",
       "</style>\n",
       "<table border=\"1\" class=\"dataframe\">\n",
       "  <thead>\n",
       "    <tr style=\"text-align: right;\">\n",
       "      <th></th>\n",
       "      <th>Temperature</th>\n",
       "      <th>L</th>\n",
       "      <th>R</th>\n",
       "      <th>A_M</th>\n",
       "      <th>Color</th>\n",
       "      <th>Spectral_Class</th>\n",
       "    </tr>\n",
       "  </thead>\n",
       "  <tbody>\n",
       "    <tr>\n",
       "      <th>0</th>\n",
       "      <td>3068</td>\n",
       "      <td>0.002400</td>\n",
       "      <td>0.1700</td>\n",
       "      <td>16.12</td>\n",
       "      <td>Red</td>\n",
       "      <td>M</td>\n",
       "    </tr>\n",
       "    <tr>\n",
       "      <th>1</th>\n",
       "      <td>3042</td>\n",
       "      <td>0.000500</td>\n",
       "      <td>0.1542</td>\n",
       "      <td>16.60</td>\n",
       "      <td>Red</td>\n",
       "      <td>M</td>\n",
       "    </tr>\n",
       "    <tr>\n",
       "      <th>2</th>\n",
       "      <td>2600</td>\n",
       "      <td>0.000300</td>\n",
       "      <td>0.1020</td>\n",
       "      <td>18.70</td>\n",
       "      <td>Red</td>\n",
       "      <td>M</td>\n",
       "    </tr>\n",
       "    <tr>\n",
       "      <th>3</th>\n",
       "      <td>2800</td>\n",
       "      <td>0.000200</td>\n",
       "      <td>0.1600</td>\n",
       "      <td>16.65</td>\n",
       "      <td>Red</td>\n",
       "      <td>M</td>\n",
       "    </tr>\n",
       "    <tr>\n",
       "      <th>4</th>\n",
       "      <td>1939</td>\n",
       "      <td>0.000138</td>\n",
       "      <td>0.1030</td>\n",
       "      <td>20.06</td>\n",
       "      <td>Red</td>\n",
       "      <td>M</td>\n",
       "    </tr>\n",
       "  </tbody>\n",
       "</table>\n",
       "</div>"
      ],
      "text/plain": [
       "   Temperature         L       R    A_M Color Spectral_Class\n",
       "0         3068  0.002400  0.1700  16.12   Red              M\n",
       "1         3042  0.000500  0.1542  16.60   Red              M\n",
       "2         2600  0.000300  0.1020  18.70   Red              M\n",
       "3         2800  0.000200  0.1600  16.65   Red              M\n",
       "4         1939  0.000138  0.1030  20.06   Red              M"
      ]
     },
     "execution_count": 3,
     "metadata": {},
     "output_type": "execute_result"
    }
   ],
   "source": [
    "stars.head()"
   ]
  },
  {
   "cell_type": "code",
   "execution_count": 4,
   "metadata": {
    "ExecuteTime": {
     "end_time": "2024-04-23T11:10:08.184751100Z",
     "start_time": "2024-04-23T11:10:07.936860900Z"
    }
   },
   "outputs": [],
   "source": [
    "import numpy as np\n",
    "import math\n",
    "from math import dist\n",
    "import statistics as s\n",
    "import matplotlib.pyplot as plt\n",
    "from sklearn.datasets import make_blobs"
   ]
  },
  {
   "cell_type": "code",
   "execution_count": 7,
   "metadata": {
    "ExecuteTime": {
     "end_time": "2024-04-23T10:50:21.271819600Z",
     "start_time": "2024-04-23T10:50:21.224031500Z"
    }
   },
   "outputs": [
    {
     "name": "stdout",
     "output_type": "stream",
     "text": [
      "[100 203  89 138 222]\n"
     ]
    }
   ],
   "source": [
    " \n",
    " print(np.random.choice(list(range(0, len(stars))), size = 5, replace = False))"
   ]
  },
  {
   "cell_type": "code",
   "execution_count": 25,
   "metadata": {},
   "outputs": [
    {
     "data": {
      "text/plain": [
       "array([[  3.82154209,  -8.83442938],\n",
       "       [  5.63542562,  -6.78096849],\n",
       "       [  9.32644664,  -9.51864442],\n",
       "       [  0.17314721,   5.16111035],\n",
       "       [  9.38392405,  -7.60032595],\n",
       "       [ -1.69031197,   5.14797571],\n",
       "       [ -2.61336032,   5.74773913],\n",
       "       [  4.05173366,  -8.68932306],\n",
       "       [  9.46058278,  -9.08120013],\n",
       "       [  0.20447692,   5.7272837 ],\n",
       "       [ -1.72125517,   5.11741648],\n",
       "       [ -0.96955726,   5.60142886],\n",
       "       [  4.56303668,  -7.08205484],\n",
       "       [  8.75191167, -10.67239301],\n",
       "       [ -1.14179202,   6.09178286],\n",
       "       [ -1.50942359,   5.52321961],\n",
       "       [  3.78568316,  -5.84444719],\n",
       "       [  7.67264887,  -9.10972332],\n",
       "       [  9.01838858, -10.85080516],\n",
       "       [  5.5114433 ,  -6.84371673],\n",
       "       [  8.07356482, -11.53733557],\n",
       "       [  5.43398678,  -5.76331059],\n",
       "       [  4.87331944,  -5.92573131],\n",
       "       [  4.69953673,  -6.37279441],\n",
       "       [  5.251601  ,  -6.85100747],\n",
       "       [  6.44511955,  -9.18204018],\n",
       "       [  4.85756398,  -7.02823807],\n",
       "       [  9.64854233,  -7.5124214 ],\n",
       "       [ -1.17376992,   6.61861352],\n",
       "       [  6.1914816 ,  -7.96812894],\n",
       "       [  3.04949133,  -8.84898541],\n",
       "       [  8.73654076,  -8.52278363],\n",
       "       [ -1.99683185,   5.14135868],\n",
       "       [  4.22907334,  -7.56892136],\n",
       "       [  7.88126391, -10.00376568],\n",
       "       [  4.46408515,  -7.68774819],\n",
       "       [  8.97180011, -10.26892672],\n",
       "       [  4.82115246,  -7.74759012],\n",
       "       [  7.64022181,  -9.74010455],\n",
       "       [ -1.62775706,   6.34405493],\n",
       "       [ -0.59946715,   5.2950335 ],\n",
       "       [  7.42069292, -11.45470897],\n",
       "       [  0.91864918,   6.50473123],\n",
       "       [ 10.40547377,  -8.01116237],\n",
       "       [  5.75791785,  -6.46831777],\n",
       "       [  8.13851191, -10.38886296],\n",
       "       [  5.15514857,  -8.25367803],\n",
       "       [  3.98963251,  -6.02853572],\n",
       "       [ -0.14227165,   5.64034556],\n",
       "       [ -3.06859666,   5.02461854],\n",
       "       [  6.21375479,  -6.36019892],\n",
       "       [  9.37924547,  -7.55706273],\n",
       "       [  4.79214394,  -6.73578184],\n",
       "       [ -0.68676928,   4.72649695],\n",
       "       [  9.06388205,  -9.19469312],\n",
       "       [  8.18591832,  -9.65935486],\n",
       "       [  5.16705221,  -5.63501291],\n",
       "       [ -0.66765055,   5.21959565],\n",
       "       [  9.33559337,  -9.15143981],\n",
       "       [  5.27544916,  -8.80569752],\n",
       "       [  8.20084179,  -8.99222766],\n",
       "       [ -1.02209713,   7.16201687],\n",
       "       [ -0.92977274,   4.89187343],\n",
       "       [  4.16891551,  -8.1237865 ],\n",
       "       [  4.08443472,  -8.39786616],\n",
       "       [ -1.26325774,   6.94555792],\n",
       "       [  9.59445915,  -8.35044588],\n",
       "       [  0.27523421,   3.7886528 ],\n",
       "       [ -1.36543074,   6.24213974],\n",
       "       [  4.02999   ,  -7.20286584],\n",
       "       [  4.1439645 , -10.14650039],\n",
       "       [  7.07670316,  -9.09761662],\n",
       "       [  8.80473614,  -7.20475225],\n",
       "       [  8.00404362,  -9.44991945],\n",
       "       [  0.14020809,   4.64262622],\n",
       "       [  4.25982278,  -6.50528971],\n",
       "       [  0.63095264,   6.06365406],\n",
       "       [ -1.18700185,   4.74790376],\n",
       "       [ -0.95909525,   4.71052121],\n",
       "       [  7.84113113,  -9.71437782],\n",
       "       [  8.54970212,  -9.41570127],\n",
       "       [ -1.03609437,   5.65206507],\n",
       "       [ -2.25687568,   6.71903209],\n",
       "       [  9.86479035, -10.12943478],\n",
       "       [  3.39812002,  -6.80358319],\n",
       "       [ 11.11936657,  -8.94661346],\n",
       "       [  2.7354995 ,  -6.59830154],\n",
       "       [ -0.93610673,   5.34904622],\n",
       "       [  8.08702605,  -8.45640881],\n",
       "       [ -0.86654437,   5.41862292],\n",
       "       [ -1.55036965,   5.57328728],\n",
       "       [ -2.56862639,   5.13702044],\n",
       "       [ -0.53166929,   3.22607862],\n",
       "       [  5.27720241,  -7.53877219],\n",
       "       [ -1.48565988,   4.51672668],\n",
       "       [  4.74909932,  -6.35934456],\n",
       "       [  7.88830694,  -8.58001358],\n",
       "       [  3.74758079,  -8.07787162],\n",
       "       [  8.98177646,  -9.10219204],\n",
       "       [  8.55093339,  -8.87846288]])"
      ]
     },
     "execution_count": 25,
     "metadata": {},
     "output_type": "execute_result"
    }
   ],
   "source": [
    "x, y = make_blobs()\n",
    "x"
   ]
  },
  {
   "cell_type": "code",
   "execution_count": 17,
   "metadata": {},
   "outputs": [
    {
     "data": {
      "text/plain": [
       "<matplotlib.collections.PathCollection at 0x1d71bd15220>"
      ]
     },
     "execution_count": 17,
     "metadata": {},
     "output_type": "execute_result"
    },
    {
     "data": {
      "image/png": "[encoded data removed]",
      "text/plain": [
       "<Figure size 432x288 with 1 Axes>"
      ]
     },
     "metadata": {
      "needs_background": "light"
     },
     "output_type": "display_data"
    }
   ],
   "source": [
    "plt.scatter(x[:, 0], x[:, 1])"
   ]
  },
  {
   "cell_type": "code",
   "execution_count": 110,
   "metadata": {},
   "outputs": [
    {
     "name": "stdout",
     "output_type": "stream",
     "text": [
      "[ 3.82154209 -8.83442938] [ 8.98177646 -9.10219204]\n",
      "[ 3.82154209 -8.83442938] [ 4.08443472 -8.39786616]\n",
      "[ 3.82154209 -8.83442938] [ 3.78568316 -5.84444719]\n",
      "[ 5.63542562 -6.78096849] [ 8.98177646 -9.10219204]\n",
      "[ 5.63542562 -6.78096849] [ 4.08443472 -8.39786616]\n",
      "[ 5.63542562 -6.78096849] [ 3.78568316 -5.84444719]\n",
      "[ 9.32644664 -9.51864442] [ 8.98177646 -9.10219204]\n",
      "[ 9.32644664 -9.51864442] [ 4.08443472 -8.39786616]\n",
      "[ 9.32644664 -9.51864442] [ 3.78568316 -5.84444719]\n",
      "[0.17314721 5.16111035] [ 8.98177646 -9.10219204]\n",
      "[0.17314721 5.16111035] [ 4.08443472 -8.39786616]\n",
      "[0.17314721 5.16111035] [ 3.78568316 -5.84444719]\n",
      "[ 9.38392405 -7.60032595] [ 8.98177646 -9.10219204]\n",
      "[ 9.38392405 -7.60032595] [ 4.08443472 -8.39786616]\n",
      "[ 9.38392405 -7.60032595] [ 3.78568316 -5.84444719]\n",
      "[-1.69031197  5.14797571] [ 8.98177646 -9.10219204]\n",
      "[-1.69031197  5.14797571] [ 4.08443472 -8.39786616]\n",
      "[-1.69031197  5.14797571] [ 3.78568316 -5.84444719]\n",
      "[-2.61336032  5.74773913] [ 8.98177646 -9.10219204]\n",
      "[-2.61336032  5.74773913] [ 4.08443472 -8.39786616]\n",
      "[-2.61336032  5.74773913] [ 3.78568316 -5.84444719]\n",
      "[ 4.05173366 -8.68932306] [ 8.98177646 -9.10219204]\n",
      "[ 4.05173366 -8.68932306] [ 4.08443472 -8.39786616]\n",
      "[ 4.05173366 -8.68932306] [ 3.78568316 -5.84444719]\n",
      "[ 9.46058278 -9.08120013] [ 8.98177646 -9.10219204]\n",
      "[ 9.46058278 -9.08120013] [ 4.08443472 -8.39786616]\n",
      "[ 9.46058278 -9.08120013] [ 3.78568316 -5.84444719]\n",
      "[0.20447692 5.7272837 ] [ 8.98177646 -9.10219204]\n",
      "[0.20447692 5.7272837 ] [ 4.08443472 -8.39786616]\n",
      "[0.20447692 5.7272837 ] [ 3.78568316 -5.84444719]\n",
      "[-1.72125517  5.11741648] [ 8.98177646 -9.10219204]\n",
      "[-1.72125517  5.11741648] [ 4.08443472 -8.39786616]\n",
      "[-1.72125517  5.11741648] [ 3.78568316 -5.84444719]\n",
      "[-0.96955726  5.60142886] [ 8.98177646 -9.10219204]\n",
      "[-0.96955726  5.60142886] [ 4.08443472 -8.39786616]\n",
      "[-0.96955726  5.60142886] [ 3.78568316 -5.84444719]\n",
      "[ 4.56303668 -7.08205484] [ 8.98177646 -9.10219204]\n",
      "[ 4.56303668 -7.08205484] [ 4.08443472 -8.39786616]\n",
      "[ 4.56303668 -7.08205484] [ 3.78568316 -5.84444719]\n",
      "[  8.75191167 -10.67239301] [ 8.98177646 -9.10219204]\n",
      "[  8.75191167 -10.67239301] [ 4.08443472 -8.39786616]\n",
      "[  8.75191167 -10.67239301] [ 3.78568316 -5.84444719]\n",
      "[-1.14179202  6.09178286] [ 8.98177646 -9.10219204]\n",
      "[-1.14179202  6.09178286] [ 4.08443472 -8.39786616]\n",
      "[-1.14179202  6.09178286] [ 3.78568316 -5.84444719]\n",
      "[-1.50942359  5.52321961] [ 8.98177646 -9.10219204]\n",
      "[-1.50942359  5.52321961] [ 4.08443472 -8.39786616]\n",
      "[-1.50942359  5.52321961] [ 3.78568316 -5.84444719]\n",
      "[ 3.78568316 -5.84444719] [ 8.98177646 -9.10219204]\n",
      "[ 3.78568316 -5.84444719] [ 4.08443472 -8.39786616]\n",
      "[ 3.78568316 -5.84444719] [ 3.78568316 -5.84444719]\n",
      "[ 7.67264887 -9.10972332] [ 8.98177646 -9.10219204]\n",
      "[ 7.67264887 -9.10972332] [ 4.08443472 -8.39786616]\n",
      "[ 7.67264887 -9.10972332] [ 3.78568316 -5.84444719]\n",
      "[  9.01838858 -10.85080516] [ 8.98177646 -9.10219204]\n",
      "[  9.01838858 -10.85080516] [ 4.08443472 -8.39786616]\n",
      "[  9.01838858 -10.85080516] [ 3.78568316 -5.84444719]\n",
      "[ 5.5114433  -6.84371673] [ 8.98177646 -9.10219204]\n",
      "[ 5.5114433  -6.84371673] [ 4.08443472 -8.39786616]\n",
      "[ 5.5114433  -6.84371673] [ 3.78568316 -5.84444719]\n",
      "[  8.07356482 -11.53733557] [ 8.98177646 -9.10219204]\n",
      "[  8.07356482 -11.53733557] [ 4.08443472 -8.39786616]\n",
      "[  8.07356482 -11.53733557] [ 3.78568316 -5.84444719]\n",
      "[ 5.43398678 -5.76331059] [ 8.98177646 -9.10219204]\n",
      "[ 5.43398678 -5.76331059] [ 4.08443472 -8.39786616]\n",
      "[ 5.43398678 -5.76331059] [ 3.78568316 -5.84444719]\n",
      "[ 4.87331944 -5.92573131] [ 8.98177646 -9.10219204]\n",
      "[ 4.87331944 -5.92573131] [ 4.08443472 -8.39786616]\n",
      "[ 4.87331944 -5.92573131] [ 3.78568316 -5.84444719]\n",
      "[ 4.69953673 -6.37279441] [ 8.98177646 -9.10219204]\n",
      "[ 4.69953673 -6.37279441] [ 4.08443472 -8.39786616]\n",
      "[ 4.69953673 -6.37279441] [ 3.78568316 -5.84444719]\n",
      "[ 5.251601   -6.85100747] [ 8.98177646 -9.10219204]\n",
      "[ 5.251601   -6.85100747] [ 4.08443472 -8.39786616]\n",
      "[ 5.251601   -6.85100747] [ 3.78568316 -5.84444719]\n",
      "[ 6.44511955 -9.18204018] [ 8.98177646 -9.10219204]\n",
      "[ 6.44511955 -9.18204018] [ 4.08443472 -8.39786616]\n",
      "[ 6.44511955 -9.18204018] [ 3.78568316 -5.84444719]\n",
      "[ 4.85756398 -7.02823807] [ 8.98177646 -9.10219204]\n",
      "[ 4.85756398 -7.02823807] [ 4.08443472 -8.39786616]\n",
      "[ 4.85756398 -7.02823807] [ 3.78568316 -5.84444719]\n",
      "[ 9.64854233 -7.5124214 ] [ 8.98177646 -9.10219204]\n",
      "[ 9.64854233 -7.5124214 ] [ 4.08443472 -8.39786616]\n",
      "[ 9.64854233 -7.5124214 ] [ 3.78568316 -5.84444719]\n",
      "[-1.17376992  6.61861352] [ 8.98177646 -9.10219204]\n",
      "[-1.17376992  6.61861352] [ 4.08443472 -8.39786616]\n",
      "[-1.17376992  6.61861352] [ 3.78568316 -5.84444719]\n",
      "[ 6.1914816  -7.96812894] [ 8.98177646 -9.10219204]\n",
      "[ 6.1914816  -7.96812894] [ 4.08443472 -8.39786616]\n",
      "[ 6.1914816  -7.96812894] [ 3.78568316 -5.84444719]\n",
      "[ 3.04949133 -8.84898541] [ 8.98177646 -9.10219204]\n",
      "[ 3.04949133 -8.84898541] [ 4.08443472 -8.39786616]\n",
      "[ 3.04949133 -8.84898541] [ 3.78568316 -5.84444719]\n",
      "[ 8.73654076 -8.52278363] [ 8.98177646 -9.10219204]\n",
      "[ 8.73654076 -8.52278363] [ 4.08443472 -8.39786616]\n",
      "[ 8.73654076 -8.52278363] [ 3.78568316 -5.84444719]\n",
      "[-1.99683185  5.14135868] [ 8.98177646 -9.10219204]\n",
      "[-1.99683185  5.14135868] [ 4.08443472 -8.39786616]\n",
      "[-1.99683185  5.14135868] [ 3.78568316 -5.84444719]\n",
      "[ 4.22907334 -7.56892136] [ 8.98177646 -9.10219204]\n",
      "[ 4.22907334 -7.56892136] [ 4.08443472 -8.39786616]\n",
      "[ 4.22907334 -7.56892136] [ 3.78568316 -5.84444719]\n",
      "[  7.88126391 -10.00376568] [ 8.98177646 -9.10219204]\n",
      "[  7.88126391 -10.00376568] [ 4.08443472 -8.39786616]\n",
      "[  7.88126391 -10.00376568] [ 3.78568316 -5.84444719]\n",
      "[ 4.46408515 -7.68774819] [ 8.98177646 -9.10219204]\n",
      "[ 4.46408515 -7.68774819] [ 4.08443472 -8.39786616]\n",
      "[ 4.46408515 -7.68774819] [ 3.78568316 -5.84444719]\n",
      "[  8.97180011 -10.26892672] [ 8.98177646 -9.10219204]\n",
      "[  8.97180011 -10.26892672] [ 4.08443472 -8.39786616]\n",
      "[  8.97180011 -10.26892672] [ 3.78568316 -5.84444719]\n",
      "[ 4.82115246 -7.74759012] [ 8.98177646 -9.10219204]\n",
      "[ 4.82115246 -7.74759012] [ 4.08443472 -8.39786616]\n",
      "[ 4.82115246 -7.74759012] [ 3.78568316 -5.84444719]\n",
      "[ 7.64022181 -9.74010455] [ 8.98177646 -9.10219204]\n",
      "[ 7.64022181 -9.74010455] [ 4.08443472 -8.39786616]\n",
      "[ 7.64022181 -9.74010455] [ 3.78568316 -5.84444719]\n",
      "[-1.62775706  6.34405493] [ 8.98177646 -9.10219204]\n",
      "[-1.62775706  6.34405493] [ 4.08443472 -8.39786616]\n",
      "[-1.62775706  6.34405493] [ 3.78568316 -5.84444719]\n",
      "[-0.59946715  5.2950335 ] [ 8.98177646 -9.10219204]\n",
      "[-0.59946715  5.2950335 ] [ 4.08443472 -8.39786616]\n",
      "[-0.59946715  5.2950335 ] [ 3.78568316 -5.84444719]\n",
      "[  7.42069292 -11.45470897] [ 8.98177646 -9.10219204]\n",
      "[  7.42069292 -11.45470897] [ 4.08443472 -8.39786616]\n",
      "[  7.42069292 -11.45470897] [ 3.78568316 -5.84444719]\n",
      "[0.91864918 6.50473123] [ 8.98177646 -9.10219204]\n",
      "[0.91864918 6.50473123] [ 4.08443472 -8.39786616]\n",
      "[0.91864918 6.50473123] [ 3.78568316 -5.84444719]\n",
      "[10.40547377 -8.01116237] [ 8.98177646 -9.10219204]\n",
      "[10.40547377 -8.01116237] [ 4.08443472 -8.39786616]\n",
      "[10.40547377 -8.01116237] [ 3.78568316 -5.84444719]\n",
      "[ 5.75791785 -6.46831777] [ 8.98177646 -9.10219204]\n",
      "[ 5.75791785 -6.46831777] [ 4.08443472 -8.39786616]\n",
      "[ 5.75791785 -6.46831777] [ 3.78568316 -5.84444719]\n",
      "[  8.13851191 -10.38886296] [ 8.98177646 -9.10219204]\n",
      "[  8.13851191 -10.38886296] [ 4.08443472 -8.39786616]\n",
      "[  8.13851191 -10.38886296] [ 3.78568316 -5.84444719]\n",
      "[ 5.15514857 -8.25367803] [ 8.98177646 -9.10219204]\n",
      "[ 5.15514857 -8.25367803] [ 4.08443472 -8.39786616]\n",
      "[ 5.15514857 -8.25367803] [ 3.78568316 -5.84444719]\n",
      "[ 3.98963251 -6.02853572] [ 8.98177646 -9.10219204]\n",
      "[ 3.98963251 -6.02853572] [ 4.08443472 -8.39786616]\n",
      "[ 3.98963251 -6.02853572] [ 3.78568316 -5.84444719]\n",
      "[-0.14227165  5.64034556] [ 8.98177646 -9.10219204]\n",
      "[-0.14227165  5.64034556] [ 4.08443472 -8.39786616]\n",
      "[-0.14227165  5.64034556] [ 3.78568316 -5.84444719]\n",
      "[-3.06859666  5.02461854] [ 8.98177646 -9.10219204]\n",
      "[-3.06859666  5.02461854] [ 4.08443472 -8.39786616]\n",
      "[-3.06859666  5.02461854] [ 3.78568316 -5.84444719]\n",
      "[ 6.21375479 -6.36019892] [ 8.98177646 -9.10219204]\n",
      "[ 6.21375479 -6.36019892] [ 4.08443472 -8.39786616]\n",
      "[ 6.21375479 -6.36019892] [ 3.78568316 -5.84444719]\n",
      "[ 9.37924547 -7.55706273] [ 8.98177646 -9.10219204]\n",
      "[ 9.37924547 -7.55706273] [ 4.08443472 -8.39786616]\n",
      "[ 9.37924547 -7.55706273] [ 3.78568316 -5.84444719]\n",
      "[ 4.79214394 -6.73578184] [ 8.98177646 -9.10219204]\n",
      "[ 4.79214394 -6.73578184] [ 4.08443472 -8.39786616]\n",
      "[ 4.79214394 -6.73578184] [ 3.78568316 -5.84444719]\n",
      "[-0.68676928  4.72649695] [ 8.98177646 -9.10219204]\n",
      "[-0.68676928  4.72649695] [ 4.08443472 -8.39786616]\n",
      "[-0.68676928  4.72649695] [ 3.78568316 -5.84444719]\n",
      "[ 9.06388205 -9.19469312] [ 8.98177646 -9.10219204]\n",
      "[ 9.06388205 -9.19469312] [ 4.08443472 -8.39786616]\n",
      "[ 9.06388205 -9.19469312] [ 3.78568316 -5.84444719]\n",
      "[ 8.18591832 -9.65935486] [ 8.98177646 -9.10219204]\n",
      "[ 8.18591832 -9.65935486] [ 4.08443472 -8.39786616]\n",
      "[ 8.18591832 -9.65935486] [ 3.78568316 -5.84444719]\n",
      "[ 5.16705221 -5.63501291] [ 8.98177646 -9.10219204]\n",
      "[ 5.16705221 -5.63501291] [ 4.08443472 -8.39786616]\n",
      "[ 5.16705221 -5.63501291] [ 3.78568316 -5.84444719]\n",
      "[-0.66765055  5.21959565] [ 8.98177646 -9.10219204]\n",
      "[-0.66765055  5.21959565] [ 4.08443472 -8.39786616]\n",
      "[-0.66765055  5.21959565] [ 3.78568316 -5.84444719]\n",
      "[ 9.33559337 -9.15143981] [ 8.98177646 -9.10219204]\n",
      "[ 9.33559337 -9.15143981] [ 4.08443472 -8.39786616]\n",
      "[ 9.33559337 -9.15143981] [ 3.78568316 -5.84444719]\n",
      "[ 5.27544916 -8.80569752] [ 8.98177646 -9.10219204]\n",
      "[ 5.27544916 -8.80569752] [ 4.08443472 -8.39786616]\n",
      "[ 5.27544916 -8.80569752] [ 3.78568316 -5.84444719]\n",
      "[ 8.20084179 -8.99222766] [ 8.98177646 -9.10219204]\n",
      "[ 8.20084179 -8.99222766] [ 4.08443472 -8.39786616]\n",
      "[ 8.20084179 -8.99222766] [ 3.78568316 -5.84444719]\n",
      "[-1.02209713  7.16201687] [ 8.98177646 -9.10219204]\n",
      "[-1.02209713  7.16201687] [ 4.08443472 -8.39786616]\n",
      "[-1.02209713  7.16201687] [ 3.78568316 -5.84444719]\n",
      "[-0.92977274  4.89187343] [ 8.98177646 -9.10219204]\n",
      "[-0.92977274  4.89187343] [ 4.08443472 -8.39786616]\n",
      "[-0.92977274  4.89187343] [ 3.78568316 -5.84444719]\n",
      "[ 4.16891551 -8.1237865 ] [ 8.98177646 -9.10219204]\n",
      "[ 4.16891551 -8.1237865 ] [ 4.08443472 -8.39786616]\n",
      "[ 4.16891551 -8.1237865 ] [ 3.78568316 -5.84444719]\n",
      "[ 4.08443472 -8.39786616] [ 8.98177646 -9.10219204]\n",
      "[ 4.08443472 -8.39786616] [ 4.08443472 -8.39786616]\n",
      "[ 4.08443472 -8.39786616] [ 3.78568316 -5.84444719]\n",
      "[-1.26325774  6.94555792] [ 8.98177646 -9.10219204]\n",
      "[-1.26325774  6.94555792] [ 4.08443472 -8.39786616]\n",
      "[-1.26325774  6.94555792] [ 3.78568316 -5.84444719]\n",
      "[ 9.59445915 -8.35044588] [ 8.98177646 -9.10219204]\n",
      "[ 9.59445915 -8.35044588] [ 4.08443472 -8.39786616]\n",
      "[ 9.59445915 -8.35044588] [ 3.78568316 -5.84444719]\n",
      "[0.27523421 3.7886528 ] [ 8.98177646 -9.10219204]\n",
      "[0.27523421 3.7886528 ] [ 4.08443472 -8.39786616]\n",
      "[0.27523421 3.7886528 ] [ 3.78568316 -5.84444719]\n",
      "[-1.36543074  6.24213974] [ 8.98177646 -9.10219204]\n",
      "[-1.36543074  6.24213974] [ 4.08443472 -8.39786616]\n",
      "[-1.36543074  6.24213974] [ 3.78568316 -5.84444719]\n",
      "[ 4.02999    -7.20286584] [ 8.98177646 -9.10219204]\n",
      "[ 4.02999    -7.20286584] [ 4.08443472 -8.39786616]\n",
      "[ 4.02999    -7.20286584] [ 3.78568316 -5.84444719]\n",
      "[  4.1439645  -10.14650039] [ 8.98177646 -9.10219204]\n",
      "[  4.1439645  -10.14650039] [ 4.08443472 -8.39786616]\n",
      "[  4.1439645  -10.14650039] [ 3.78568316 -5.84444719]\n",
      "[ 7.07670316 -9.09761662] [ 8.98177646 -9.10219204]\n",
      "[ 7.07670316 -9.09761662] [ 4.08443472 -8.39786616]\n",
      "[ 7.07670316 -9.09761662] [ 3.78568316 -5.84444719]\n",
      "[ 8.80473614 -7.20475225] [ 8.98177646 -9.10219204]\n",
      "[ 8.80473614 -7.20475225] [ 4.08443472 -8.39786616]\n",
      "[ 8.80473614 -7.20475225] [ 3.78568316 -5.84444719]\n",
      "[ 8.00404362 -9.44991945] [ 8.98177646 -9.10219204]\n",
      "[ 8.00404362 -9.44991945] [ 4.08443472 -8.39786616]\n",
      "[ 8.00404362 -9.44991945] [ 3.78568316 -5.84444719]\n",
      "[0.14020809 4.64262622] [ 8.98177646 -9.10219204]\n",
      "[0.14020809 4.64262622] [ 4.08443472 -8.39786616]\n",
      "[0.14020809 4.64262622] [ 3.78568316 -5.84444719]\n",
      "[ 4.25982278 -6.50528971] [ 8.98177646 -9.10219204]\n",
      "[ 4.25982278 -6.50528971] [ 4.08443472 -8.39786616]\n",
      "[ 4.25982278 -6.50528971] [ 3.78568316 -5.84444719]\n",
      "[0.63095264 6.06365406] [ 8.98177646 -9.10219204]\n",
      "[0.63095264 6.06365406] [ 4.08443472 -8.39786616]\n",
      "[0.63095264 6.06365406] [ 3.78568316 -5.84444719]\n",
      "[-1.18700185  4.74790376] [ 8.98177646 -9.10219204]\n",
      "[-1.18700185  4.74790376] [ 4.08443472 -8.39786616]\n",
      "[-1.18700185  4.74790376] [ 3.78568316 -5.84444719]\n",
      "[-0.95909525  4.71052121] [ 8.98177646 -9.10219204]\n",
      "[-0.95909525  4.71052121] [ 4.08443472 -8.39786616]\n",
      "[-0.95909525  4.71052121] [ 3.78568316 -5.84444719]\n",
      "[ 7.84113113 -9.71437782] [ 8.98177646 -9.10219204]\n",
      "[ 7.84113113 -9.71437782] [ 4.08443472 -8.39786616]\n",
      "[ 7.84113113 -9.71437782] [ 3.78568316 -5.84444719]\n",
      "[ 8.54970212 -9.41570127] [ 8.98177646 -9.10219204]\n",
      "[ 8.54970212 -9.41570127] [ 4.08443472 -8.39786616]\n",
      "[ 8.54970212 -9.41570127] [ 3.78568316 -5.84444719]\n",
      "[-1.03609437  5.65206507] [ 8.98177646 -9.10219204]\n",
      "[-1.03609437  5.65206507] [ 4.08443472 -8.39786616]\n"
     ]
    },
    {
     "name": "stdout",
     "output_type": "stream",
     "text": [
      "[-1.03609437  5.65206507] [ 3.78568316 -5.84444719]\n",
      "[-2.25687568  6.71903209] [ 8.98177646 -9.10219204]\n",
      "[-2.25687568  6.71903209] [ 4.08443472 -8.39786616]\n",
      "[-2.25687568  6.71903209] [ 3.78568316 -5.84444719]\n",
      "[  9.86479035 -10.12943478] [ 8.98177646 -9.10219204]\n",
      "[  9.86479035 -10.12943478] [ 4.08443472 -8.39786616]\n",
      "[  9.86479035 -10.12943478] [ 3.78568316 -5.84444719]\n",
      "[ 3.39812002 -6.80358319] [ 8.98177646 -9.10219204]\n",
      "[ 3.39812002 -6.80358319] [ 4.08443472 -8.39786616]\n",
      "[ 3.39812002 -6.80358319] [ 3.78568316 -5.84444719]\n",
      "[11.11936657 -8.94661346] [ 8.98177646 -9.10219204]\n",
      "[11.11936657 -8.94661346] [ 4.08443472 -8.39786616]\n",
      "[11.11936657 -8.94661346] [ 3.78568316 -5.84444719]\n",
      "[ 2.7354995  -6.59830154] [ 8.98177646 -9.10219204]\n",
      "[ 2.7354995  -6.59830154] [ 4.08443472 -8.39786616]\n",
      "[ 2.7354995  -6.59830154] [ 3.78568316 -5.84444719]\n",
      "[-0.93610673  5.34904622] [ 8.98177646 -9.10219204]\n",
      "[-0.93610673  5.34904622] [ 4.08443472 -8.39786616]\n",
      "[-0.93610673  5.34904622] [ 3.78568316 -5.84444719]\n",
      "[ 8.08702605 -8.45640881] [ 8.98177646 -9.10219204]\n",
      "[ 8.08702605 -8.45640881] [ 4.08443472 -8.39786616]\n",
      "[ 8.08702605 -8.45640881] [ 3.78568316 -5.84444719]\n",
      "[-0.86654437  5.41862292] [ 8.98177646 -9.10219204]\n",
      "[-0.86654437  5.41862292] [ 4.08443472 -8.39786616]\n",
      "[-0.86654437  5.41862292] [ 3.78568316 -5.84444719]\n",
      "[-1.55036965  5.57328728] [ 8.98177646 -9.10219204]\n",
      "[-1.55036965  5.57328728] [ 4.08443472 -8.39786616]\n",
      "[-1.55036965  5.57328728] [ 3.78568316 -5.84444719]\n",
      "[-2.56862639  5.13702044] [ 8.98177646 -9.10219204]\n",
      "[-2.56862639  5.13702044] [ 4.08443472 -8.39786616]\n",
      "[-2.56862639  5.13702044] [ 3.78568316 -5.84444719]\n",
      "[-0.53166929  3.22607862] [ 8.98177646 -9.10219204]\n",
      "[-0.53166929  3.22607862] [ 4.08443472 -8.39786616]\n",
      "[-0.53166929  3.22607862] [ 3.78568316 -5.84444719]\n",
      "[ 5.27720241 -7.53877219] [ 8.98177646 -9.10219204]\n",
      "[ 5.27720241 -7.53877219] [ 4.08443472 -8.39786616]\n",
      "[ 5.27720241 -7.53877219] [ 3.78568316 -5.84444719]\n",
      "[-1.48565988  4.51672668] [ 8.98177646 -9.10219204]\n",
      "[-1.48565988  4.51672668] [ 4.08443472 -8.39786616]\n",
      "[-1.48565988  4.51672668] [ 3.78568316 -5.84444719]\n",
      "[ 4.74909932 -6.35934456] [ 8.98177646 -9.10219204]\n",
      "[ 4.74909932 -6.35934456] [ 4.08443472 -8.39786616]\n",
      "[ 4.74909932 -6.35934456] [ 3.78568316 -5.84444719]\n",
      "[ 7.88830694 -8.58001358] [ 8.98177646 -9.10219204]\n",
      "[ 7.88830694 -8.58001358] [ 4.08443472 -8.39786616]\n",
      "[ 7.88830694 -8.58001358] [ 3.78568316 -5.84444719]\n",
      "[ 3.74758079 -8.07787162] [ 8.98177646 -9.10219204]\n",
      "[ 3.74758079 -8.07787162] [ 4.08443472 -8.39786616]\n",
      "[ 3.74758079 -8.07787162] [ 3.78568316 -5.84444719]\n",
      "[ 8.98177646 -9.10219204] [ 8.98177646 -9.10219204]\n",
      "[ 8.98177646 -9.10219204] [ 4.08443472 -8.39786616]\n",
      "[ 8.98177646 -9.10219204] [ 3.78568316 -5.84444719]\n",
      "[ 8.55093339 -8.87846288] [ 8.98177646 -9.10219204]\n",
      "[ 8.55093339 -8.87846288] [ 4.08443472 -8.39786616]\n",
      "[ 8.55093339 -8.87846288] [ 3.78568316 -5.84444719]\n",
      "centroides iniciales:  [array([ 8.98177646, -9.10219204]), array([ 4.08443472, -8.39786616]), array([ 3.78568316, -5.84444719])]\n",
      "stop\n",
      "control list: [array([ 9.32644664, -9.51864442]), array([ 9.38392405, -7.60032595]), array([ 9.46058278, -9.08120013]), array([  8.75191167, -10.67239301]), array([ 7.67264887, -9.10972332]), array([  9.01838858, -10.85080516]), array([  8.07356482, -11.53733557]), array([ 9.64854233, -7.5124214 ]), array([ 8.73654076, -8.52278363]), array([  7.88126391, -10.00376568]), array([  8.97180011, -10.26892672]), array([ 7.64022181, -9.74010455]), array([  7.42069292, -11.45470897]), array([10.40547377, -8.01116237]), array([  8.13851191, -10.38886296]), array([ 9.37924547, -7.55706273]), array([ 9.06388205, -9.19469312]), array([ 8.18591832, -9.65935486]), array([ 9.33559337, -9.15143981]), array([ 8.20084179, -8.99222766]), array([ 9.59445915, -8.35044588]), array([ 7.07670316, -9.09761662]), array([ 8.80473614, -7.20475225]), array([ 8.00404362, -9.44991945]), array([ 7.84113113, -9.71437782]), array([ 8.54970212, -9.41570127]), array([  9.86479035, -10.12943478]), array([11.11936657, -8.94661346]), array([ 8.08702605, -8.45640881]), array([ 7.88830694, -8.58001358]), array([ 8.98177646, -9.10219204]), array([ 8.55093339, -8.87846288])]\n"
     ]
    },
    {
     "ename": "TypeError",
     "evalue": "can't convert type 'ndarray' to numerator/denominator",
     "output_type": "error",
     "traceback": [
      "\u001b[1;31m---------------------------------------------------------------------------\u001b[0m",
      "\u001b[1;31mTypeError\u001b[0m                                 Traceback (most recent call last)",
      "\u001b[1;32m<ipython-input-110-f694be62e038>\u001b[0m in \u001b[0;36m<module>\u001b[1;34m\u001b[0m\n\u001b[0;32m      1\u001b[0m \u001b[0mkmeans\u001b[0m \u001b[1;33m=\u001b[0m \u001b[0mKMeans_Ours\u001b[0m\u001b[1;33m(\u001b[0m\u001b[0mn_clusters\u001b[0m\u001b[1;33m=\u001b[0m\u001b[1;36m3\u001b[0m\u001b[1;33m)\u001b[0m\u001b[1;33m\u001b[0m\u001b[1;33m\u001b[0m\u001b[0m\n\u001b[1;32m----> 2\u001b[1;33m \u001b[0mresult\u001b[0m \u001b[1;33m=\u001b[0m \u001b[0mkmeans\u001b[0m\u001b[1;33m.\u001b[0m\u001b[0mfit\u001b[0m\u001b[1;33m(\u001b[0m\u001b[0mx\u001b[0m\u001b[1;33m)\u001b[0m\u001b[1;33m\u001b[0m\u001b[1;33m\u001b[0m\u001b[0m\n\u001b[0m\u001b[0;32m      3\u001b[0m \u001b[0mkmeans\u001b[0m\u001b[1;33m.\u001b[0m\u001b[0mreturn_centroids\u001b[0m\u001b[1;33m(\u001b[0m\u001b[1;33m)\u001b[0m\u001b[1;33m\u001b[0m\u001b[1;33m\u001b[0m\u001b[0m\n",
      "\u001b[1;32m<ipython-input-109-dcf27eec177a>\u001b[0m in \u001b[0;36mfit\u001b[1;34m(self, X)\u001b[0m\n\u001b[0;32m     23\u001b[0m             \u001b[1;31m# con esto podemos hacer un gráfico (no se pide pero quedaría rechulón)\u001b[0m\u001b[1;33m\u001b[0m\u001b[1;33m\u001b[0m\u001b[1;33m\u001b[0m\u001b[0m\n\u001b[0;32m     24\u001b[0m \u001b[1;33m\u001b[0m\u001b[0m\n\u001b[1;32m---> 25\u001b[1;33m             \u001b[0mself\u001b[0m\u001b[1;33m.\u001b[0m\u001b[0m_update_centroides\u001b[0m\u001b[1;33m(\u001b[0m\u001b[1;33m)\u001b[0m\u001b[1;33m\u001b[0m\u001b[1;33m\u001b[0m\u001b[0m\n\u001b[0m\u001b[0;32m     26\u001b[0m             \u001b[0mself\u001b[0m\u001b[1;33m.\u001b[0m\u001b[0m_assign_labels\u001b[0m\u001b[1;33m(\u001b[0m\u001b[1;33m)\u001b[0m\u001b[1;33m\u001b[0m\u001b[1;33m\u001b[0m\u001b[0m\n\u001b[0;32m     27\u001b[0m \u001b[1;33m\u001b[0m\u001b[0m\n",
      "\u001b[1;32m<ipython-input-109-dcf27eec177a>\u001b[0m in \u001b[0;36m_update_centroides\u001b[1;34m(self)\u001b[0m\n\u001b[0;32m     84\u001b[0m                         \u001b[0mcontrol\u001b[0m\u001b[1;33m.\u001b[0m\u001b[0mappend\u001b[0m\u001b[1;33m(\u001b[0m\u001b[0mself\u001b[0m\u001b[1;33m.\u001b[0m\u001b[0mX\u001b[0m\u001b[1;33m[\u001b[0m\u001b[0mj\u001b[0m\u001b[1;33m]\u001b[0m\u001b[1;33m)\u001b[0m\u001b[1;33m\u001b[0m\u001b[1;33m\u001b[0m\u001b[0m\n\u001b[0;32m     85\u001b[0m             \u001b[0mprint\u001b[0m\u001b[1;33m(\u001b[0m\u001b[1;34m\"control list:\"\u001b[0m\u001b[1;33m,\u001b[0m \u001b[0mcontrol\u001b[0m\u001b[1;33m)\u001b[0m\u001b[1;33m\u001b[0m\u001b[1;33m\u001b[0m\u001b[0m\n\u001b[1;32m---> 86\u001b[1;33m             \u001b[0mself\u001b[0m\u001b[1;33m.\u001b[0m\u001b[0m_centroids\u001b[0m\u001b[1;33m[\u001b[0m\u001b[0mi\u001b[0m\u001b[1;33m]\u001b[0m\u001b[1;33m=\u001b[0m \u001b[0ms\u001b[0m\u001b[1;33m.\u001b[0m\u001b[0mmean\u001b[0m\u001b[1;33m(\u001b[0m\u001b[0mcontrol\u001b[0m\u001b[1;33m)\u001b[0m\u001b[1;33m\u001b[0m\u001b[1;33m\u001b[0m\u001b[0m\n\u001b[0m\u001b[0;32m     87\u001b[0m         \u001b[0mprint\u001b[0m\u001b[1;33m(\u001b[0m\u001b[1;34m\"centroides\"\u001b[0m\u001b[1;33m,\u001b[0m \u001b[0mself\u001b[0m\u001b[1;33m.\u001b[0m\u001b[0m_centroids\u001b[0m\u001b[1;33m)\u001b[0m\u001b[1;33m\u001b[0m\u001b[1;33m\u001b[0m\u001b[0m\n\u001b[0;32m     88\u001b[0m \u001b[1;33m\u001b[0m\u001b[0m\n",
      "\u001b[1;32mC:\\Anaconda\\lib\\statistics.py\u001b[0m in \u001b[0;36mmean\u001b[1;34m(data)\u001b[0m\n\u001b[0;32m    314\u001b[0m     \u001b[1;32mif\u001b[0m \u001b[0mn\u001b[0m \u001b[1;33m<\u001b[0m \u001b[1;36m1\u001b[0m\u001b[1;33m:\u001b[0m\u001b[1;33m\u001b[0m\u001b[1;33m\u001b[0m\u001b[0m\n\u001b[0;32m    315\u001b[0m         \u001b[1;32mraise\u001b[0m \u001b[0mStatisticsError\u001b[0m\u001b[1;33m(\u001b[0m\u001b[1;34m'mean requires at least one data point'\u001b[0m\u001b[1;33m)\u001b[0m\u001b[1;33m\u001b[0m\u001b[1;33m\u001b[0m\u001b[0m\n\u001b[1;32m--> 316\u001b[1;33m     \u001b[0mT\u001b[0m\u001b[1;33m,\u001b[0m \u001b[0mtotal\u001b[0m\u001b[1;33m,\u001b[0m \u001b[0mcount\u001b[0m \u001b[1;33m=\u001b[0m \u001b[0m_sum\u001b[0m\u001b[1;33m(\u001b[0m\u001b[0mdata\u001b[0m\u001b[1;33m)\u001b[0m\u001b[1;33m\u001b[0m\u001b[1;33m\u001b[0m\u001b[0m\n\u001b[0m\u001b[0;32m    317\u001b[0m     \u001b[1;32massert\u001b[0m \u001b[0mcount\u001b[0m \u001b[1;33m==\u001b[0m \u001b[0mn\u001b[0m\u001b[1;33m\u001b[0m\u001b[1;33m\u001b[0m\u001b[0m\n\u001b[0;32m    318\u001b[0m     \u001b[1;32mreturn\u001b[0m \u001b[0m_convert\u001b[0m\u001b[1;33m(\u001b[0m\u001b[0mtotal\u001b[0m\u001b[1;33m/\u001b[0m\u001b[0mn\u001b[0m\u001b[1;33m,\u001b[0m \u001b[0mT\u001b[0m\u001b[1;33m)\u001b[0m\u001b[1;33m\u001b[0m\u001b[1;33m\u001b[0m\u001b[0m\n",
      "\u001b[1;32mC:\\Anaconda\\lib\\statistics.py\u001b[0m in \u001b[0;36m_sum\u001b[1;34m(data, start)\u001b[0m\n\u001b[0;32m    164\u001b[0m     \u001b[1;32mfor\u001b[0m \u001b[0mtyp\u001b[0m\u001b[1;33m,\u001b[0m \u001b[0mvalues\u001b[0m \u001b[1;32min\u001b[0m \u001b[0mgroupby\u001b[0m\u001b[1;33m(\u001b[0m\u001b[0mdata\u001b[0m\u001b[1;33m,\u001b[0m \u001b[0mtype\u001b[0m\u001b[1;33m)\u001b[0m\u001b[1;33m:\u001b[0m\u001b[1;33m\u001b[0m\u001b[1;33m\u001b[0m\u001b[0m\n\u001b[0;32m    165\u001b[0m         \u001b[0mT\u001b[0m \u001b[1;33m=\u001b[0m \u001b[0m_coerce\u001b[0m\u001b[1;33m(\u001b[0m\u001b[0mT\u001b[0m\u001b[1;33m,\u001b[0m \u001b[0mtyp\u001b[0m\u001b[1;33m)\u001b[0m  \u001b[1;31m# or raise TypeError\u001b[0m\u001b[1;33m\u001b[0m\u001b[1;33m\u001b[0m\u001b[0m\n\u001b[1;32m--> 166\u001b[1;33m         \u001b[1;32mfor\u001b[0m \u001b[0mn\u001b[0m\u001b[1;33m,\u001b[0m\u001b[0md\u001b[0m \u001b[1;32min\u001b[0m \u001b[0mmap\u001b[0m\u001b[1;33m(\u001b[0m\u001b[0m_exact_ratio\u001b[0m\u001b[1;33m,\u001b[0m \u001b[0mvalues\u001b[0m\u001b[1;33m)\u001b[0m\u001b[1;33m:\u001b[0m\u001b[1;33m\u001b[0m\u001b[1;33m\u001b[0m\u001b[0m\n\u001b[0m\u001b[0;32m    167\u001b[0m             \u001b[0mcount\u001b[0m \u001b[1;33m+=\u001b[0m \u001b[1;36m1\u001b[0m\u001b[1;33m\u001b[0m\u001b[1;33m\u001b[0m\u001b[0m\n\u001b[0;32m    168\u001b[0m             \u001b[0mpartials\u001b[0m\u001b[1;33m[\u001b[0m\u001b[0md\u001b[0m\u001b[1;33m]\u001b[0m \u001b[1;33m=\u001b[0m \u001b[0mpartials_get\u001b[0m\u001b[1;33m(\u001b[0m\u001b[0md\u001b[0m\u001b[1;33m,\u001b[0m \u001b[1;36m0\u001b[0m\u001b[1;33m)\u001b[0m \u001b[1;33m+\u001b[0m \u001b[0mn\u001b[0m\u001b[1;33m\u001b[0m\u001b[1;33m\u001b[0m\u001b[0m\n",
      "\u001b[1;32mC:\\Anaconda\\lib\\statistics.py\u001b[0m in \u001b[0;36m_exact_ratio\u001b[1;34m(x)\u001b[0m\n\u001b[0;32m    246\u001b[0m         \u001b[1;32mreturn\u001b[0m \u001b[1;33m(\u001b[0m\u001b[0mx\u001b[0m\u001b[1;33m,\u001b[0m \u001b[1;32mNone\u001b[0m\u001b[1;33m)\u001b[0m\u001b[1;33m\u001b[0m\u001b[1;33m\u001b[0m\u001b[0m\n\u001b[0;32m    247\u001b[0m     \u001b[0mmsg\u001b[0m \u001b[1;33m=\u001b[0m \u001b[1;34m\"can't convert type '{}' to numerator/denominator\"\u001b[0m\u001b[1;33m\u001b[0m\u001b[1;33m\u001b[0m\u001b[0m\n\u001b[1;32m--> 248\u001b[1;33m     \u001b[1;32mraise\u001b[0m \u001b[0mTypeError\u001b[0m\u001b[1;33m(\u001b[0m\u001b[0mmsg\u001b[0m\u001b[1;33m.\u001b[0m\u001b[0mformat\u001b[0m\u001b[1;33m(\u001b[0m\u001b[0mtype\u001b[0m\u001b[1;33m(\u001b[0m\u001b[0mx\u001b[0m\u001b[1;33m)\u001b[0m\u001b[1;33m.\u001b[0m\u001b[0m__name__\u001b[0m\u001b[1;33m)\u001b[0m\u001b[1;33m)\u001b[0m\u001b[1;33m\u001b[0m\u001b[1;33m\u001b[0m\u001b[0m\n\u001b[0m\u001b[0;32m    249\u001b[0m \u001b[1;33m\u001b[0m\u001b[0m\n\u001b[0;32m    250\u001b[0m \u001b[1;33m\u001b[0m\u001b[0m\n",
      "\u001b[1;31mTypeError\u001b[0m: can't convert type 'ndarray' to numerator/denominator"
     ]
    }
   ],
   "source": [
    "kmeans = KMeans_Ours(n_clusters=3)\n",
    "result = kmeans.fit(x)\n",
    "kmeans.return_centroids()"
   ]
  },
  {
   "cell_type": "code",
   "execution_count": 36,
   "metadata": {},
   "outputs": [
    {
     "data": {
      "image/png": "[encoded data removed]",
      "text/plain": [
       "<Figure size 432x288 with 1 Axes>"
      ]
     },
     "metadata": {
      "needs_background": "light"
     },
     "output_type": "display_data"
    }
   ],
   "source": [
    "for i in range(3):\n",
    "     plt.scatter(kmeans._centroids[i][0], kmeans._centroids[i][1])\n"
   ]
  },
  {
   "cell_type": "code",
   "execution_count": 46,
   "metadata": {},
   "outputs": [
    {
     "data": {
      "text/plain": [
       "0"
      ]
     },
     "execution_count": 46,
     "metadata": {},
     "output_type": "execute_result"
    }
   ],
   "source": [
    "kmeans.iter"
   ]
  },
  {
   "cell_type": "code",
   "execution_count": 41,
   "metadata": {},
   "outputs": [
    {
     "data": {
      "image/png": "[encoded data removed]",
      "text/plain": [
       "<Figure size 432x288 with 1 Axes>"
      ]
     },
     "metadata": {
      "needs_background": "light"
     },
     "output_type": "display_data"
    }
   ],
   "source": [
    "colors = [\"#4EACC5\", \"#FF9C34\", \"#4E9A06\"]\n",
    "for i in range(kmeans.n_clusters):\n",
    "    for j in range(len(kmeans._labels)):\n",
    "        if kmeans._labels[j] == i:\n",
    "            plt.scatter(x[j][0], x[j][1], c=colors[i])"
   ]
  },
  {
   "cell_type": "code",
   "execution_count": null,
   "metadata": {},
   "outputs": [],
   "source": []
  },
  {
   "cell_type": "code",
   "execution_count": 109,
   "metadata": {},
   "outputs": [],
   "source": [
    "class KMeans_Ours():\n",
    "    def __init__(self, n_clusters=8, max_iter=300, random_state=55):\n",
    "        self.n_clusters = n_clusters\n",
    "        self.max_iter = max_iter\n",
    "        self.iter = 0\n",
    "        self.random_state = random_state\n",
    "        \n",
    "        self.X= []\n",
    "        \n",
    "        self._centroids= []\n",
    "        self._inertia=[]\n",
    "        self._labels=[]\n",
    "        self.history = []\n",
    "    \n",
    "    def fit(self, X):\n",
    "        \"\"\"Este método entrena el modelo con el dataset proporcionado, aplicando el algoritmo de asignación de centroides\"\"\"\n",
    "        self.X = X\n",
    "        self._assign_centroids()\n",
    "        self._assign_labels()\n",
    "        print(\"centroides iniciales: \", self._centroids)\n",
    "        while not self._stop(): # si se llega a max iter o si centroides no cambian (con último valor de self.history), una u otra\n",
    "            self._add_history_step() \n",
    "            # con esto podemos hacer un gráfico (no se pide pero quedaría rechulón)\n",
    "            \n",
    "            self._update_centroides()\n",
    "            self._assign_labels()\n",
    "            \n",
    "            self.iter += 1\n",
    "            \n",
    "    def return_centroids(self):\n",
    "        return self._centroids\n",
    "        ###algoritmo: asignar centroides....\n",
    "    \n",
    "    def predict(self, X):\n",
    "        # contemplar posibilidad de triangulación\n",
    "        pass\n",
    "    \n",
    "    def _assign_centroids(self):\n",
    "        # utilizar el módulo random de numpy para asignar los centroides: check\n",
    "        # sólo para la primera iteración (asignación de centroides iniciales): check\n",
    "        # un centroide a la misma posición dato aleatoriamente \n",
    "        # con replace = false nos aseguramos de que no se repita el mismo valor para dos centroides diferentes,\n",
    "        # de forma que todos los centroides tomen coordenadas distintas\n",
    "        c_index = np.random.choice(list(range(0, len(self.X))), size = self.n_clusters, replace = False)\n",
    "        for i in c_index:\n",
    "            self._centroids.append(self.X[i])\n",
    "        # asignar valores de los datos a los que equivalen esas posiciones en la tabla a los \"centroides\"        \n",
    "    \n",
    "    def _assign_labels(self):\n",
    "        # función para asignar los datos a un centroides\n",
    "        # linalg.norm -> normaliza los vectores, no calcula distancias como tal; no es lo que buscamos\n",
    "        self._inertia = []\n",
    "        \n",
    "        # generación de la matriz\n",
    "        for i in range(len(self.X)):\n",
    "            self._inertia.append(self._compute_inertia(self.X[i]))\n",
    "            \n",
    "            # encasillamiento con labels de cada dato a su respectivo centroide \n",
    "            self._labels.append(np.argmin(self._inertia[i], axis = 0))\n",
    "        \n",
    "        \n",
    "    def _stop(self):\n",
    "        \"\"\" condición de parada del bucle de actualización de labels y centroides de función fit() \"\"\"\n",
    "        print(\"stop\")\n",
    "        if self.iter == self.max_iter: \n",
    "            return True\n",
    "        if self.iter == 0:\n",
    "            return False\n",
    "        prev_centroids= self.history[-1]['centroids']\n",
    "        for i in range (self.n_clusters):\n",
    "            #Si ha cambiado algún centroide el algoritmo continúa\n",
    "            if self._centroids[i] != prev_centroids[i] :\n",
    "                return False\n",
    "        #Si no hay diferencias los centroides no han cambiado en la última iteración y se cumple la condición de parada.    \n",
    "        return True\n",
    "    \n",
    "    def _update_centroides(self):\n",
    "        # siguientes iteraciones para reposicionar los centroides\n",
    "    \n",
    "        for i in range(self.n_clusters):\n",
    "            control= []\n",
    "            for j in range(len(self.X)):\n",
    "                if self._labels[j]==i:\n",
    "                        control.append(self.X[j])\n",
    "            print(\"control list:\", control)\n",
    "            self._centroids[i]= s.mean(control)\n",
    "        print(\"centroides\", self._centroids)\n",
    "    \n",
    "    def _compute_inertia(self, x):\n",
    "        \"\"\" distancia entre el punto 'x' y cada centroide' \"\"\"\n",
    "        distance_row=[]\n",
    "        \n",
    "        for centroid in self._centroids: \n",
    "            print(x, centroid)\n",
    "            distance_row.append(dist(x,centroid))\n",
    "       \n",
    "        return distance_row\n",
    "        \n",
    "    def _add_history_step(self):\n",
    "        \"\"\" actualización de historial de centroides para nueva iteración \"\"\"\n",
    "        self.history.append(\n",
    "            {   'iteration': self.iter,\n",
    "                'centroids':  self._centroids,  \n",
    "                'labels' : self._labels,\n",
    "                'inertia':  self._inertia\n",
    "            })\n",
    "    "
   ]
  },
  {
   "cell_type": "code",
   "execution_count": 106,
   "metadata": {},
   "outputs": [
    {
     "data": {
      "text/plain": [
       "2"
      ]
     },
     "execution_count": 106,
     "metadata": {},
     "output_type": "execute_result"
    }
   ],
   "source": [
    "import statistics as s\n",
    "hola = [1, 2, 3]\n",
    "s.mean(hola)\n"
   ]
  },
  {
   "cell_type": "code",
   "execution_count": 91,
   "metadata": {},
   "outputs": [
    {
     "name": "stderr",
     "output_type": "stream",
     "text": [
      "<ipython-input-91-f68aa6cb5981>:2: DeprecationWarning: This function is deprecated. Please call randint(0, 100 + 1) instead\n",
      "  centroide = np.random.random_integers(0, len(X))\n"
     ]
    },
    {
     "data": {
      "text/plain": [
       "100"
      ]
     },
     "execution_count": 91,
     "metadata": {},
     "output_type": "execute_result"
    }
   ],
   "source": [
    "X = np.random.random(size = (100, 2))\n",
    "centroide = np.random.random_integers(0, len(X))\n",
    "centroide\n",
    "len(X)"
   ]
  },
  {
   "cell_type": "code",
   "execution_count": 17,
   "metadata": {},
   "outputs": [
    {
     "data": {
      "text/plain": [
       "array([24, 12, 50, 71, 13, 36, 70, 15])"
      ]
     },
     "execution_count": 17,
     "metadata": {},
     "output_type": "execute_result"
    }
   ],
   "source": [
    "centroids = []\n",
    "centroids = np.random.choice(range(0, len(X)), size = 8, replace = False)\n",
    "centroids"
   ]
  },
  {
   "cell_type": "code",
   "execution_count": 39,
   "metadata": {},
   "outputs": [
    {
     "ename": "TypeError",
     "evalue": "'int' object is not subscriptable",
     "output_type": "error",
     "traceback": [
      "\u001b[1;31m---------------------------------------------------------------------------\u001b[0m",
      "\u001b[1;31mTypeError\u001b[0m                                 Traceback (most recent call last)",
      "\u001b[1;32m<ipython-input-39-2d53fa6cb780>\u001b[0m in \u001b[0;36m<module>\u001b[1;34m\u001b[0m\n\u001b[0;32m      1\u001b[0m \u001b[0mmatriz\u001b[0m \u001b[1;33m=\u001b[0m \u001b[1;33m[\u001b[0m\u001b[1;36m1\u001b[0m\u001b[1;33m,\u001b[0m \u001b[1;36m2\u001b[0m\u001b[1;33m,\u001b[0m \u001b[1;33m[\u001b[0m\u001b[1;36m3\u001b[0m\u001b[1;33m,\u001b[0m \u001b[1;36m4\u001b[0m\u001b[1;33m]\u001b[0m\u001b[1;33m,\u001b[0m \u001b[1;33m[\u001b[0m\u001b[1;36m5\u001b[0m\u001b[1;33m,\u001b[0m \u001b[1;36m6\u001b[0m\u001b[1;33m]\u001b[0m\u001b[1;33m]\u001b[0m\u001b[1;33m\u001b[0m\u001b[1;33m\u001b[0m\u001b[0m\n\u001b[1;32m----> 2\u001b[1;33m \u001b[0mprint\u001b[0m\u001b[1;33m(\u001b[0m\u001b[0mmatriz\u001b[0m\u001b[1;33m[\u001b[0m\u001b[1;36m0\u001b[0m\u001b[1;33m]\u001b[0m\u001b[1;33m[\u001b[0m\u001b[1;36m2\u001b[0m\u001b[1;33m]\u001b[0m\u001b[1;33m,\u001b[0m \u001b[0mmatriz\u001b[0m\u001b[1;33m[\u001b[0m\u001b[1;36m2\u001b[0m\u001b[1;33m]\u001b[0m\u001b[1;33m[\u001b[0m\u001b[1;36m1\u001b[0m\u001b[1;33m]\u001b[0m\u001b[1;33m)\u001b[0m\u001b[1;33m\u001b[0m\u001b[1;33m\u001b[0m\u001b[0m\n\u001b[0m",
      "\u001b[1;31mTypeError\u001b[0m: 'int' object is not subscriptable"
     ]
    }
   ],
   "source": [
    "matriz = [1, 2, [3, 4], [5, 6]]\n",
    "print(matriz[0][2], matriz[2][1])"
   ]
  },
  {
   "cell_type": "code",
   "execution_count": 57,
   "metadata": {},
   "outputs": [
    {
     "data": {
      "text/plain": [
       "[[5, 2, 1, 4, 3, 3, 7],\n",
       " [1, 7, 2, 8, 1, 5, 3],\n",
       " [6, 1, 5, 5, 9, 8, 6],\n",
       " [7, 3, 9, 6, 7, 8, 9],\n",
       " [9, 5, 4, 8, 1, 2, 8],\n",
       " [3, 7, 1, 2, 9, 6, 8],\n",
       " [2, 7, 9, 4, 4, 6, 7],\n",
       " [3, 8, 5, 1, 2, 5, 6],\n",
       " [3, 2, 3, 3, 3, 6, 4],\n",
       " [1, 4, 9, 3, 9, 3, 5],\n",
       " [2, 6, 7, 6, 6, 6, 1],\n",
       " [4, 2, 8, 9, 9, 5, 3],\n",
       " [8, 9, 8, 7, 2, 7, 4],\n",
       " [1, 9, 7, 9, 5, 3, 8],\n",
       " [6, 6, 2, 8, 6, 3, 9],\n",
       " [6, 1, 6, 2, 6, 5, 1],\n",
       " [8, 9, 7, 1, 7, 1, 4],\n",
       " [9, 7, 6, 1, 5, 2, 8],\n",
       " [7, 2, 5, 2, 6, 2, 5],\n",
       " [9, 8, 1, 1, 5, 5, 1],\n",
       " [7, 7, 1, 2, 7, 5, 2],\n",
       " [2, 4, 3, 7, 8, 4, 5],\n",
       " [1, 6, 5, 3, 6, 6, 1],\n",
       " [6, 8, 1, 8, 2, 6, 4],\n",
       " [9, 6, 1, 2, 7, 7, 3],\n",
       " [8, 3, 9, 9, 6, 1, 1],\n",
       " [5, 1, 6, 6, 3, 7, 5],\n",
       " [2, 3, 2, 6, 5, 9, 5],\n",
       " [2, 4, 9, 5, 3, 5, 2],\n",
       " [3, 3, 7, 7, 9, 1, 8],\n",
       " [6, 7, 6, 6, 4, 5, 2],\n",
       " [7, 7, 4, 7, 9, 7, 6],\n",
       " [7, 2, 3, 8, 1, 5, 8],\n",
       " [5, 6, 4, 9, 6, 9, 1],\n",
       " [1, 8, 6, 8, 9, 7, 5],\n",
       " [5, 7, 1, 2, 5, 7, 7],\n",
       " [4, 9, 2, 2, 5, 2, 3],\n",
       " [2, 6, 6, 1, 6, 3, 4],\n",
       " [6, 7, 1, 8, 8, 6, 6],\n",
       " [3, 5, 9, 5, 6, 7, 1],\n",
       " [2, 4, 8, 9, 8, 3, 6],\n",
       " [2, 2, 5, 3, 6, 6, 5],\n",
       " [1, 4, 5, 6, 2, 2, 2],\n",
       " [2, 2, 7, 1, 6, 2, 9],\n",
       " [6, 4, 3, 9, 3, 2, 4],\n",
       " [6, 2, 2, 3, 1, 2, 7],\n",
       " [7, 2, 5, 3, 3, 5, 1],\n",
       " [6, 1, 8, 5, 8, 6, 9],\n",
       " [9, 1, 7, 1, 9, 3, 6],\n",
       " [6, 6, 7, 5, 6, 2, 4],\n",
       " [4, 8, 4, 9, 9, 4, 2],\n",
       " [3, 4, 4, 7, 6, 5, 2],\n",
       " [1, 7, 9, 6, 9, 4, 7],\n",
       " [5, 1, 5, 1, 2, 2, 9],\n",
       " [1, 3, 9, 1, 1, 4, 6],\n",
       " [3, 4, 3, 9, 9, 1, 3],\n",
       " [2, 5, 1, 9, 3, 6, 2],\n",
       " [9, 5, 5, 5, 6, 6, 5],\n",
       " [4, 2, 6, 8, 9, 4, 4],\n",
       " [6, 7, 6, 1, 9, 9, 8],\n",
       " [8, 2, 3, 5, 9, 7, 9],\n",
       " [5, 5, 3, 9, 8, 8, 7],\n",
       " [1, 9, 8, 3, 3, 4, 1],\n",
       " [1, 1, 3, 8, 6, 7, 4],\n",
       " [9, 6, 7, 5, 4, 3, 8],\n",
       " [7, 7, 9, 3, 8, 4, 6],\n",
       " [7, 6, 3, 3, 1, 2, 4],\n",
       " [1, 1, 9, 2, 3, 2, 8],\n",
       " [5, 2, 8, 6, 4, 3, 1],\n",
       " [8, 2, 5, 4, 8, 6, 7],\n",
       " [8, 3, 9, 5, 1, 9, 7],\n",
       " [3, 6, 4, 9, 5, 6, 8],\n",
       " [4, 7, 1, 2, 4, 9, 8],\n",
       " [5, 7, 7, 6, 8, 7, 8],\n",
       " [9, 2, 1, 8, 2, 1, 6],\n",
       " [8, 9, 5, 8, 7, 8, 9],\n",
       " [4, 1, 4, 6, 3, 5, 8],\n",
       " [2, 5, 4, 3, 6, 2, 5],\n",
       " [3, 2, 2, 4, 4, 1, 5],\n",
       " [3, 3, 1, 9, 7, 9, 9],\n",
       " [5, 8, 2, 4, 2, 3, 1],\n",
       " [1, 1, 6, 1, 8, 1, 9],\n",
       " [8, 2, 7, 2, 5, 2, 4],\n",
       " [4, 2, 1, 7, 8, 9, 3],\n",
       " [1, 9, 3, 9, 5, 9, 3],\n",
       " [1, 7, 3, 6, 1, 7, 9],\n",
       " [3, 5, 7, 9, 3, 9, 8],\n",
       " [9, 7, 4, 6, 2, 2, 4],\n",
       " [8, 5, 1, 3, 1, 5, 3],\n",
       " [9, 4, 8, 3, 4, 8, 1],\n",
       " [1, 2, 7, 1, 3, 2, 7],\n",
       " [8, 5, 2, 6, 9, 1, 3],\n",
       " [1, 1, 5, 2, 5, 4, 1],\n",
       " [7, 7, 5, 4, 6, 4, 7],\n",
       " [9, 1, 5, 5, 8, 2, 1],\n",
       " [5, 5, 1, 9, 9, 9, 8],\n",
       " [2, 8, 1, 9, 5, 5, 6],\n",
       " [5, 3, 5, 9, 8, 2, 6],\n",
       " [7, 6, 8, 7, 9, 5, 7],\n",
       " [1, 1, 6, 3, 1, 5, 2]]"
      ]
     },
     "execution_count": 57,
     "metadata": {},
     "output_type": "execute_result"
    }
   ],
   "source": [
    "matriz_distancias = []\n",
    "for i in range(len(X)):\n",
    "    matriz_distancias.append([])\n",
    "    for j in range(7):\n",
    "         matriz_distancias[i].append(np.random.randint(1, 10))\n",
    "\n"
   ]
  },
  {
   "cell_type": "code",
   "execution_count": 72,
   "metadata": {},
   "outputs": [
    {
     "data": {
      "text/plain": [
       "[2,\n",
       " 0,\n",
       " 1,\n",
       " 1,\n",
       " 4,\n",
       " 2,\n",
       " 0,\n",
       " 3,\n",
       " 1,\n",
       " 0,\n",
       " 6,\n",
       " 1,\n",
       " 4,\n",
       " 0,\n",
       " 2,\n",
       " 1,\n",
       " 3,\n",
       " 3,\n",
       " 1,\n",
       " 2,\n",
       " 2,\n",
       " 0,\n",
       " 0,\n",
       " 2,\n",
       " 2,\n",
       " 5,\n",
       " 1,\n",
       " 0,\n",
       " 0,\n",
       " 5,\n",
       " 6,\n",
       " 2,\n",
       " 4,\n",
       " 6,\n",
       " 0,\n",
       " 2,\n",
       " 2,\n",
       " 3,\n",
       " 2,\n",
       " 6,\n",
       " 0,\n",
       " 0,\n",
       " 0,\n",
       " 3,\n",
       " 5,\n",
       " 4,\n",
       " 6,\n",
       " 1,\n",
       " 1,\n",
       " 5,\n",
       " 6,\n",
       " 6,\n",
       " 0,\n",
       " 1,\n",
       " 0,\n",
       " 5,\n",
       " 2,\n",
       " 1,\n",
       " 1,\n",
       " 3,\n",
       " 1,\n",
       " 2,\n",
       " 0,\n",
       " 0,\n",
       " 5,\n",
       " 3,\n",
       " 4,\n",
       " 0,\n",
       " 6,\n",
       " 1,\n",
       " 4,\n",
       " 0,\n",
       " 2,\n",
       " 0,\n",
       " 2,\n",
       " 2,\n",
       " 1,\n",
       " 0,\n",
       " 5,\n",
       " 2,\n",
       " 6,\n",
       " 0,\n",
       " 1,\n",
       " 2,\n",
       " 0,\n",
       " 0,\n",
       " 0,\n",
       " 4,\n",
       " 2,\n",
       " 6,\n",
       " 0,\n",
       " 5,\n",
       " 0,\n",
       " 3,\n",
       " 1,\n",
       " 2,\n",
       " 2,\n",
       " 5,\n",
       " 5,\n",
       " 0]"
      ]
     },
     "execution_count": 72,
     "metadata": {},
     "output_type": "execute_result"
    }
   ],
   "source": [
    "labels_=[]\n",
    "for i in range(len(matriz_distancias)):\n",
    "    labels_.append(np.argmin(matriz_distancias[i], axis = 0))\n",
    "\n",
    "labels_"
   ]
  },
  {
   "cell_type": "code",
   "execution_count": 30,
   "metadata": {},
   "outputs": [
    {
     "data": {
      "text/plain": [
       "5"
      ]
     },
     "execution_count": 30,
     "metadata": {},
     "output_type": "execute_result"
    }
   ],
   "source": [
    "np.random.randint(1, 10)"
   ]
  },
  {
   "cell_type": "code",
   "execution_count": 71,
   "metadata": {},
   "outputs": [
    {
     "data": {
      "text/plain": [
       "array([2, 0, 1, 1, 4, 2, 0, 3, 1, 0, 6, 1, 4, 0, 2, 1, 3, 3, 1, 2, 2, 0,\n",
       "       0, 2, 2, 5, 1, 0, 0, 5, 6, 2, 4, 6, 0, 2, 2, 3, 2, 6, 0, 0, 0, 3,\n",
       "       5, 4, 6, 1, 1, 5, 6, 6, 0, 1, 0, 5, 2, 1, 1, 3, 1, 2, 0, 0, 5, 3,\n",
       "       4, 0, 6, 1, 4, 0, 2, 0, 2, 2, 1, 0, 5, 2, 6, 0, 1, 2, 0, 0, 0, 4,\n",
       "       2, 6, 0, 5, 0, 3, 1, 2, 2, 5, 5, 0], dtype=int64)"
      ]
     },
     "execution_count": 71,
     "metadata": {},
     "output_type": "execute_result"
    }
   ],
   "source": [
    "np.argmin(matriz_distancias, axis=0)"
   ]
  },
  {
   "cell_type": "code",
   "execution_count": 26,
   "metadata": {},
   "outputs": [
    {
     "ename": "NameError",
     "evalue": "name 'KMeans' is not defined",
     "output_type": "error",
     "traceback": [
      "\u001b[1;31m---------------------------------------------------------------------------\u001b[0m",
      "\u001b[1;31mNameError\u001b[0m                                 Traceback (most recent call last)",
      "\u001b[1;32m<ipython-input-26-adb88f594a00>\u001b[0m in \u001b[0;36m<module>\u001b[1;34m\u001b[0m\n\u001b[1;32m----> 1\u001b[1;33m \u001b[0mkmeans\u001b[0m \u001b[1;33m=\u001b[0m \u001b[0mKMeans\u001b[0m\u001b[1;33m(\u001b[0m\u001b[1;33m)\u001b[0m\u001b[1;33m\u001b[0m\u001b[1;33m\u001b[0m\u001b[0m\n\u001b[0m\u001b[0;32m      2\u001b[0m \u001b[0mkmeans\u001b[0m\u001b[1;33m.\u001b[0m\u001b[0mfit\u001b[0m\u001b[1;33m(\u001b[0m\u001b[0mX\u001b[0m\u001b[1;33m)\u001b[0m\u001b[1;33m\u001b[0m\u001b[1;33m\u001b[0m\u001b[0m\n",
      "\u001b[1;31mNameError\u001b[0m: name 'KMeans' is not defined"
     ]
    }
   ],
   "source": [
    "kmeans = KMeans()\n",
    "kmeans.fit(X)"
   ]
  },
  {
   "cell_type": "markdown",
   "metadata": {},
   "source": [
    "Scikit learn es una librería de código abierto, se puede ver cómo está implementado en Scikit learn, no copiar la misma solución, pero usarlo como inspiración. Hay un apartado de indicar similitud con scikit learn."
   ]
  },
  {
   "cell_type": "markdown",
   "metadata": {},
   "source": []
  },
  {
   "cell_type": "markdown",
   "metadata": {},
   "source": [
    "## PCA\n",
    "Algoritmo no supervisado muy útil, reduce la dimensionalidad de los datos (columnas). En lugar de eliminar columnas, existen métodos más interesantes que ese.\n",
    "Prdecir el número escrito en el gráfico en base a la luminosidad de los píxeles. Se ve bien con cmap = 'Greys'.\n",
    "\n",
    "Se usará el algoritmo PCA antes del algoritmo de clustering, y el de clustering se usará sobre las dos dimensiones que devuelve PCA (kmeans o lo que sea)"
   ]
  },
  {
   "cell_type": "code",
   "execution_count": null,
   "metadata": {},
   "outputs": [],
   "source": [
    "from sklearn.datasets import load_digits\n",
    "import matplotlib.pylot as plt\n",
    "\n",
    "from sklearn.decomposition import PCA\n",
    "\n",
    "X = load.digits().data\n",
    "X.shape\n",
    "plt.imshow(np.reshape(X[0], (8,8)))\n",
    "pca = PCA.fit(X)\n",
    "plt.plot"
   ]
  },
  {
   "cell_type": "code",
   "execution_count": null,
   "metadata": {},
   "outputs": [],
   "source": [
    "X_pca"
   ]
  },
  {
   "cell_type": "markdown",
   "metadata": {},
   "source": [
    "# Pruebas fallidas..."
   ]
  },
  {
   "cell_type": "code",
   "execution_count": null,
   "metadata": {},
   "outputs": [],
   "source": [
    "\"\"\"self.history.centroids\n",
    "        \n",
    "        for i in range(self.n_clusters):\n",
    "            centroide = np.random.random_integers(0, len(self.X)-1, size=self.n_clusters)\n",
    "            \n",
    "            for c in centroide:\n",
    "                if centroide.count(c) == 1:\n",
    "                    self.history.centroids.append(X[c])\n",
    "                else:\n",
    "                    centroide[c] = np.random.random_integers(0, len(self.X)-1)\n",
    "                    while centroide\n",
    "            \n",
    "            duplicate = False\n",
    "            while self.history.centroids du\n",
    "            if i>0:\n",
    "                for i in range(len(self.history.centroids)):\n",
    "                    if centroide == self.history.centroids[i]:\n",
    "                        \n",
    "            self.history.centroids.append(np.)\"\"\""
   ]
  }
 ],
 "metadata": {
  "kernelspec": {
   "display_name": "Python 3",
   "language": "python",
   "name": "python3"
  },
  "language_info": {
   "codemirror_mode": {
    "name": "ipython",
    "version": 3
   },
   "file_extension": ".py",
   "mimetype": "text/x-python",
   "name": "python",
   "nbconvert_exporter": "python",
   "pygments_lexer": "ipython3",
   "version": "3.8.5"
  }
 },
 "nbformat": 4,
 "nbformat_minor": 4
}
